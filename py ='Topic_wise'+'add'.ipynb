{
 "cells": [
  {
   "cell_type": "code",
   "execution_count": 1,
   "id": "92cd092b",
   "metadata": {},
   "outputs": [
    {
     "name": "stdout",
     "output_type": "stream",
     "text": [
      "sum 15\n"
     ]
    }
   ],
   "source": [
    "# 1. Basic syntax and variables\n",
    "x = 10\n",
    "y = 5\n",
    "print(\"sum\", x+y)"
   ]
  },
  {
   "cell_type": "code",
   "execution_count": 2,
   "id": "e4d1aa60",
   "metadata": {},
   "outputs": [
    {
     "name": "stdout",
     "output_type": "stream",
     "text": [
      "5.0 <class 'float'>\n",
      "3.2 <class 'str'>\n",
      "123 <class 'int'>\n"
     ]
    }
   ],
   "source": [
    "# 2 Data Type and type conversion\n",
    "\n",
    "a = 5 \n",
    "b = 3.2\n",
    "c = \"123\"\n",
    "\n",
    "# type conversion \n",
    "\n",
    "a_to_float = float(a)\n",
    "b_to_str = str(b)\n",
    "c_to_int = int(c)\n",
    "\n",
    "print(a_to_float, type(a_to_float))\n",
    "print(b_to_str, type(b_to_str))\n",
    "print(c_to_int, type(c_to_int))"
   ]
  },
  {
   "cell_type": "code",
   "execution_count": 3,
   "id": "7f648500",
   "metadata": {},
   "outputs": [
    {
     "name": "stdout",
     "output_type": "stream",
     "text": [
      "possitive\n"
     ]
    }
   ],
   "source": [
    "# 3 control Flow : If - Else\n",
    "\n",
    "num = 10\n",
    "if num > 0:\n",
    "    print(\"possitive\")\n",
    "elif num < 0:\n",
    "    print(\"Negative\")\n",
    "else:\n",
    "    print(None)"
   ]
  },
  {
   "cell_type": "code",
   "execution_count": 4,
   "id": "5e6524dd",
   "metadata": {},
   "outputs": [
    {
     "name": "stdout",
     "output_type": "stream",
     "text": [
      "0 1 2 3 4 "
     ]
    }
   ],
   "source": [
    "# 4 Loops: For and While\n",
    "\n",
    "n = 5\n",
    "for i in range(n):\n",
    "    print(i, end = \" \")"
   ]
  },
  {
   "cell_type": "code",
   "execution_count": 5,
   "id": "c2dbeb63",
   "metadata": {},
   "outputs": [
    {
     "name": "stdout",
     "output_type": "stream",
     "text": [
      "Counter is 0,Counter is 1,Counter is 2,Counter is 3,Counter is 4,"
     ]
    }
   ],
   "source": [
    "counter = 0\n",
    "while counter < 5:\n",
    "    print(\"Counter is\", counter, end = \",\")\n",
    "    counter += 1"
   ]
  },
  {
   "cell_type": "markdown",
   "id": "1b48e631",
   "metadata": {},
   "source": [
    "Input:\n",
    "x = 10\n",
    "Output:\n",
    "1 4 9"
   ]
  },
  {
   "cell_type": "code",
   "execution_count": 17,
   "id": "6e101b13",
   "metadata": {},
   "outputs": [
    {
     "name": "stdout",
     "output_type": "stream",
     "text": [
      "1 4 9 "
     ]
    }
   ],
   "source": [
    "def printIncreasingPower(x):\n",
    "    for i in range(x):\n",
    "        if i>0 and i**2<=x:\n",
    "            print(i**2, end= \" \")\n",
    "            \n",
    "printIncreasingPower(10)"
   ]
  },
  {
   "cell_type": "code",
   "execution_count": 1,
   "id": "2000bfb5",
   "metadata": {},
   "outputs": [
    {
     "name": "stdout",
     "output_type": "stream",
     "text": [
      "1 4 9 "
     ]
    }
   ],
   "source": [
    "def printIncreasingPower(x):\n",
    "    i = 1\n",
    "    \n",
    "    while(i**2 <= x):\n",
    "        ##Your code here\n",
    "        \n",
    "        print (i**2, end = \" \")\n",
    "        i+=1\n",
    "        \n",
    "printIncreasingPower(10)"
   ]
  },
  {
   "cell_type": "code",
   "execution_count": 2,
   "id": "13648af3",
   "metadata": {},
   "outputs": [
    {
     "name": "stdout",
     "output_type": "stream",
     "text": [
      "5 10 15 20 25 30 35 40 45 50 "
     ]
    }
   ],
   "source": [
    "def multiplicationTable(N):## in is a membership operator that is true if something is a member of sequence\n",
    "    for i in range(1,11): ## i in range(x,y,z) means i goes from x to y-1 and increments z steps in each iteration\n",
    "        print(i * N, end=\" \")\n",
    "        \n",
    "multiplicationTable(5)"
   ]
  },
  {
   "cell_type": "code",
   "execution_count": 6,
   "id": "f23715c6",
   "metadata": {},
   "outputs": [
    {
     "name": "stdout",
     "output_type": "stream",
     "text": [
      "0 1 1 2 3 5 8 13 21 34 55 89 144 233 377 610 987 1597 2584 4181 "
     ]
    }
   ],
   "source": [
    "# 5 functions \n",
    "\n",
    "def fibonacci(N):\n",
    "    a = 0\n",
    "    b = 1\n",
    "    for i in range(N):\n",
    "        print(a, end= \" \")\n",
    "        a, b = b, a+b      \n",
    "fibonacci(20)"
   ]
  },
  {
   "cell_type": "code",
   "execution_count": 11,
   "id": "152490fc",
   "metadata": {},
   "outputs": [
    {
     "name": "stdout",
     "output_type": "stream",
     "text": [
      "4\n",
      "3\n",
      "2\n",
      "1\n",
      "0\n",
      "-3\n",
      "-2\n",
      "-1\n",
      "0\n"
     ]
    }
   ],
   "source": [
    "def pos(n):\n",
    "    for i in range(n,-1,-1):\n",
    "        print(i)\n",
    "        \n",
    "    \n",
    "def neg(n):\n",
    "    for i in range(n,1):\n",
    "        print(i)\n",
    "    \n",
    "pos(4)\n",
    "\n",
    "neg(-3)"
   ]
  },
  {
   "cell_type": "code",
   "execution_count": 7,
   "id": "b1be08df",
   "metadata": {},
   "outputs": [
    {
     "name": "stdout",
     "output_type": "stream",
     "text": [
      "Squared Numbers [1, 4, 9, 16, 25]\n"
     ]
    }
   ],
   "source": [
    "# 6 Lists and List Comprehension\n",
    "\n",
    "my_list = [1,2,3,4,5]\n",
    "\n",
    "squares = [x ** 2 for x in my_list]\n",
    "print(\"Squared Numbers\", squares)"
   ]
  },
  {
   "cell_type": "code",
   "execution_count": 1,
   "id": "88587215",
   "metadata": {},
   "outputs": [
    {
     "name": "stdout",
     "output_type": "stream",
     "text": [
      "[1, 2, 2, 3, 3, 4, 5, 5, 6]\n",
      "Merged_sorted_list=> [1, 2, 2, 3, 3, 4, 5, 5, 6]\n"
     ]
    }
   ],
   "source": [
    "# heapq\n",
    "import heapq\n",
    "\n",
    "lst1 = [1, 2, 3, 5]\n",
    "lst2 = [2, 3, 4, 5, 6]\n",
    "\n",
    "res = list(heapq.merge(lst1, lst2))\n",
    "\n",
    "print(res)\n",
    "\n",
    "\n",
    "def merged_sorted_lists(lst1, lst2):\n",
    "    return sorted(lst1 + lst2)\n",
    "\n",
    "print(\"Merged_sorted_list=>\",merged_sorted_lists(lst1,lst2))"
   ]
  },
  {
   "cell_type": "code",
   "execution_count": 8,
   "id": "57ff11e3",
   "metadata": {},
   "outputs": [
    {
     "name": "stdout",
     "output_type": "stream",
     "text": [
      "Alice\n",
      "Engineer\n",
      "{'name': 'Alice', 'age': 30, 'profession': 'Engineer', 'city': 'Berlin'}\n"
     ]
    }
   ],
   "source": [
    "# 7 Dictionary \n",
    "\n",
    "person = {\n",
    "    'name':'Alice',\n",
    "    'age':30,\n",
    "    'profession':'Engineer'\n",
    "}\n",
    "\n",
    "# Accessing dictionary values\n",
    "\n",
    "print(person['name'])\n",
    "print(person.get('profession'))\n",
    "\n",
    "# Adding a new key-value pair\n",
    "\n",
    "person['city'] = 'Berlin'\n",
    "print(person)"
   ]
  },
  {
   "cell_type": "code",
   "execution_count": 9,
   "id": "35ffc063",
   "metadata": {},
   "outputs": [
    {
     "name": "stdout",
     "output_type": "stream",
     "text": [
      "{'orange', 'apple', 'banana', 'cherry'}\n",
      "{'orange', 'apple', 'cherry'}\n"
     ]
    }
   ],
   "source": [
    "# 8. sets\n",
    "\n",
    "# sets and basic opearations\n",
    "\n",
    "fruits = {\"apple\",\"banana\",\"cherry\"}\n",
    "fruits.add(\"orange\")\n",
    "print(fruits)\n",
    "fruits.remove(\"banana\")\n",
    "print(fruits)"
   ]
  },
  {
   "cell_type": "code",
   "execution_count": 10,
   "id": "bdf96d74",
   "metadata": {},
   "outputs": [
    {
     "name": "stdout",
     "output_type": "stream",
     "text": [
      "(1, 2, 3)\n",
      "1 2 3\n",
      "1 2 3\n"
     ]
    }
   ],
   "source": [
    "# 9 Tuples\n",
    "\n",
    "My_tuple = (1,2,3)\n",
    "\n",
    "print(My_tuple)\n",
    "\n",
    "# Tuple unpacking\n",
    "a , b , c = My_tuple\n",
    "print(a, b , c)\n",
    "\n",
    "print(*My_tuple)"
   ]
  },
  {
   "cell_type": "code",
   "execution_count": 11,
   "id": "079999ca",
   "metadata": {},
   "outputs": [
    {
     "name": "stdout",
     "output_type": "stream",
     "text": [
      "Hello, World!\n"
     ]
    }
   ],
   "source": [
    "# 10. file handling\n",
    "\n",
    "# writing to a file\n",
    "\n",
    "with open(\"file1.txt\", \"w\") as file:\n",
    "    file.write(\"Hello, World!\")\n",
    "    \n",
    "# Reading From a file\n",
    "\n",
    "with open(\"file1.txt\", \"r\") as file:\n",
    "    content = file.read()\n",
    "    print(content)"
   ]
  },
  {
   "cell_type": "code",
   "execution_count": 12,
   "id": "e82ae0a7",
   "metadata": {},
   "outputs": [
    {
     "name": "stdout",
     "output_type": "stream",
     "text": [
      "cannot divide by Zero\n",
      "this runs no matter what\n"
     ]
    }
   ],
   "source": [
    "# 11. EXception Handling \n",
    "\n",
    "try:\n",
    "    result = 10/0\n",
    "except ZeroDivisionError:\n",
    "    print(\"cannot divide by Zero\")\n",
    "finally:\n",
    "    print(\"this runs no matter what\")"
   ]
  },
  {
   "cell_type": "code",
   "execution_count": 2,
   "id": "8db30543",
   "metadata": {},
   "outputs": [
    {
     "name": "stdout",
     "output_type": "stream",
     "text": [
      "Buddy says woof!\n",
      "Buddy is Golden Retriver\n"
     ]
    }
   ],
   "source": [
    "# 12. Classes and objects\n",
    "\n",
    "# Class definition and object creation\n",
    "\n",
    "class Dog:\n",
    "    def __init__(self, name, breed):\n",
    "        self.name = name\n",
    "        self.breed = breed\n",
    "        \n",
    "    def bark(self):\n",
    "        return f\"{self.name} says woof!\"\n",
    "    \n",
    "    def species(self):\n",
    "        return f\"{self.name} is {self.breed}\"\n",
    "    \n",
    "\n",
    "# Creting an object\n",
    "\n",
    "my_dog = Dog(\"Buddy\", \"Golden Retriver\")\n",
    "\n",
    "print(my_dog.bark())\n",
    "print(my_dog.species())"
   ]
  },
  {
   "cell_type": "code",
   "execution_count": 14,
   "id": "afaddbc4",
   "metadata": {},
   "outputs": [
    {
     "name": "stdout",
     "output_type": "stream",
     "text": [
      "Point(8, 11)\n"
     ]
    }
   ],
   "source": [
    "# 13 Magic Methods and operator overloading\n",
    "\n",
    "# opeartor overloading\n",
    "\n",
    "class Point:\n",
    "    def __init__(self, x, y):\n",
    "        self.x = x\n",
    "        self.y = y\n",
    "        \n",
    "    def __add__(self, other):\n",
    "        return Point(self.x + other.x, self.y + other.y)\n",
    "    \n",
    "    def __str__(self):\n",
    "        return f\"Point({self.x}, {self.y})\"\n",
    "    \n",
    "p1 = Point(1, 2)\n",
    "p2 = Point(7, 9)\n",
    "result = p1 + p2 # this is uses add method (Magic Method)\n",
    "print(result) # uses __str__ method"
   ]
  },
  {
   "cell_type": "code",
   "execution_count": 15,
   "id": "0df1f57b",
   "metadata": {},
   "outputs": [
    {
     "name": "stdout",
     "output_type": "stream",
     "text": [
      "[1, 4, 9, 16, 25]\n"
     ]
    }
   ],
   "source": [
    "# 14. Lambda and Map Functions\n",
    "\n",
    "nums = [1, 2, 3, 4, 5]\n",
    "\n",
    "squares = list(map(lambda x: x**2, nums))\n",
    "print(squares)"
   ]
  },
  {
   "cell_type": "code",
   "execution_count": 16,
   "id": "f3b104d6",
   "metadata": {},
   "outputs": [
    {
     "name": "stdout",
     "output_type": "stream",
     "text": [
      "5\n"
     ]
    }
   ],
   "source": [
    "# a}  Basic Syntax:\n",
    "    \n",
    "add = lambda a, b: a + b\n",
    "print(add(2, 3))  \n"
   ]
  },
  {
   "cell_type": "code",
   "execution_count": 17,
   "id": "bda5a0d7",
   "metadata": {},
   "outputs": [
    {
     "name": "stdout",
     "output_type": "stream",
     "text": [
      "[1, 4, 9, 16, 25]\n"
     ]
    }
   ],
   "source": [
    "# b}  Lambda with map()\n",
    "\n",
    "numbers = [1, 2, 3, 4, 5]\n",
    "squares = list(map(lambda x: x ** 2, numbers))\n",
    "print(squares)"
   ]
  },
  {
   "cell_type": "code",
   "execution_count": 18,
   "id": "dc677cac",
   "metadata": {},
   "outputs": [
    {
     "name": "stdout",
     "output_type": "stream",
     "text": [
      "[2, 4, 6]\n"
     ]
    }
   ],
   "source": [
    "# c}  Lambda with filter()\n",
    "\n",
    "numbers = [1, 2, 3, 4, 5, 6]\n",
    "evens = list(filter(lambda x: x % 2 == 0, numbers))\n",
    "print(evens)\n"
   ]
  },
  {
   "cell_type": "code",
   "execution_count": 19,
   "id": "c445ff3e",
   "metadata": {},
   "outputs": [
    {
     "name": "stdout",
     "output_type": "stream",
     "text": [
      "24\n"
     ]
    }
   ],
   "source": [
    "# d}  Lambda with reduce()\n",
    "\n",
    "from functools import reduce\n",
    "\n",
    "numbers = [1, 2, 3, 4]\n",
    "product = reduce(lambda x, y: x * y, numbers)\n",
    "print(product)\n"
   ]
  },
  {
   "cell_type": "code",
   "execution_count": 20,
   "id": "6e651a63",
   "metadata": {},
   "outputs": [
    {
     "name": "stdout",
     "output_type": "stream",
     "text": [
      "25\n",
      "8\n"
     ]
    }
   ],
   "source": [
    "#  e} Lambda inside a function\n",
    "\n",
    "def power(n):\n",
    "    return lambda x: x ** n\n",
    "\n",
    "square = power(2)\n",
    "cube = power(3)\n",
    "\n",
    "print(square(5)) \n",
    "print(cube(2))    \n"
   ]
  },
  {
   "cell_type": "code",
   "execution_count": 21,
   "id": "bf342e0f",
   "metadata": {},
   "outputs": [
    {
     "name": "stdout",
     "output_type": "stream",
     "text": [
      "[(1, 'one'), (3, 'three'), (2, 'two')]\n"
     ]
    }
   ],
   "source": [
    "# f}  Sorting with a lambda function\n",
    "\n",
    "pairs = [(1, 'one'), (2, 'two'), (3, 'three')]\n",
    "sorted_pairs = sorted(pairs, key=lambda x: x[1])\n",
    "print(sorted_pairs)"
   ]
  },
  {
   "cell_type": "code",
   "execution_count": 22,
   "id": "0cfc68cd",
   "metadata": {},
   "outputs": [
    {
     "name": "stdout",
     "output_type": "stream",
     "text": [
      "{'Bob': 85, 'Alice': 70, 'Charlie': 60}\n"
     ]
    }
   ],
   "source": [
    "# 15 List Sorting Values (descending)\n",
    "\n",
    "scores = {'Alice': 70, 'Bob': 85, 'Charlie': 60}\n",
    "sorted_scores = dict(sorted(scores.items(),key = lambda x:x[1], reverse = True))\n",
    "print(sorted_scores)"
   ]
  },
  {
   "cell_type": "code",
   "execution_count": 23,
   "id": "98c84116",
   "metadata": {},
   "outputs": [
    {
     "name": "stdout",
     "output_type": "stream",
     "text": [
      "<generator object countdown at 0x00000222F2966A50>\n",
      "5 4 3 2 1\n"
     ]
    }
   ],
   "source": [
    "# 16 Generators\n",
    "\n",
    "# GEnerator Example \n",
    "\n",
    "def countdown(num):\n",
    "    while num > 0:\n",
    "        yield num\n",
    "        num -= 1\n",
    "\n",
    "print(countdown(5))\n",
    "print(*countdown(5))\n",
    "# for number in countdown(5):\n",
    "#     print(number)"
   ]
  },
  {
   "cell_type": "code",
   "execution_count": 24,
   "id": "8e8084e4",
   "metadata": {},
   "outputs": [
    {
     "name": "stdout",
     "output_type": "stream",
     "text": [
      "Before Greeting\n",
      "Hello, Sairaj\n",
      "After Greeting\n"
     ]
    }
   ],
   "source": [
    "# 17 Decorators\n",
    "\n",
    "def greet_decorator(func):\n",
    "    def wrapper(name):\n",
    "        print(\"Before Greeting\")\n",
    "        func(name)\n",
    "        print(\"After Greeting\")\n",
    "    return wrapper\n",
    "\n",
    "@greet_decorator\n",
    "def greet(name):\n",
    "    print(f\"Hello, {name}\")\n",
    "\n",
    "greet(\"Sairaj\")"
   ]
  },
  {
   "cell_type": "code",
   "execution_count": 25,
   "id": "9bb9dd64",
   "metadata": {},
   "outputs": [
    {
     "name": "stdout",
     "output_type": "stream",
     "text": [
      "      Name  Age\n",
      "0    Alice   25\n",
      "1      Bob   30\n",
      "2  Charlie   35\n"
     ]
    }
   ],
   "source": [
    "# 18 Working with Pandas\n",
    "import pandas as pd\n",
    "data = { \n",
    "    'Name': ['Alice', 'Bob', 'Charlie'],\n",
    "    'Age': [25, 30, 35]\n",
    "}\n",
    "\n",
    "df = pd.DataFrame(data)\n",
    "\n",
    "print(df)"
   ]
  },
  {
   "cell_type": "markdown",
   "id": "20c3c715",
   "metadata": {},
   "source": [
    "# 19 Web Scraping with requests and BeautifulSoup\n",
    "\n",
    "import requests\n",
    "from bs4 import BeautifulSoup\n",
    "\n",
    "url = \"\"\n",
    "\n",
    "response = requests.get(url)\n",
    "\n",
    "soup = BeautifulSoup(response.txt, 'html.parser')\n",
    "\n",
    "print(soup.title.text)"
   ]
  },
  {
   "cell_type": "code",
   "execution_count": 26,
   "id": "e221111a",
   "metadata": {},
   "outputs": [
    {
     "name": "stdout",
     "output_type": "stream",
     "text": [
      "0\n",
      "1\n",
      "2\n",
      "3\n",
      "4\n"
     ]
    }
   ],
   "source": [
    "# 20 Multithreading\n",
    "\n",
    "import threading\n",
    "\n",
    "def print_numbers():\n",
    "    for i in range(5):\n",
    "        print(i)\n",
    "\n",
    "# Creating a thread\n",
    "thread = threading.Thread(target=print_numbers)\n",
    "thread.start()\n",
    "thread.join() # wait for the thread to complete"
   ]
  },
  {
   "cell_type": "code",
   "execution_count": 27,
   "id": "8c842baa",
   "metadata": {},
   "outputs": [
    {
     "name": "stdout",
     "output_type": "stream",
     "text": [
      "120\n"
     ]
    }
   ],
   "source": [
    "# 21. Recursion\n",
    "\n",
    "def factorial(n):\n",
    "    if n == 1:\n",
    "        return 1\n",
    "    else:\n",
    "        return n * factorial(n-1)\n",
    "print(factorial(5))"
   ]
  },
  {
   "cell_type": "code",
   "execution_count": 28,
   "id": "49772eca",
   "metadata": {},
   "outputs": [
    {
     "name": "stdout",
     "output_type": "stream",
     "text": [
      "3\n"
     ]
    }
   ],
   "source": [
    "# 22 Binary Search Algorithm\n",
    "\n",
    "# Binary Search in Sorted list\n",
    "\n",
    "def binary_search(arr, target):\n",
    "    low = 0\n",
    "    high = len(arr) - 1\n",
    "    \n",
    "    while low <= high:\n",
    "        mid = (low + high) // 2\n",
    "        if arr[mid] == target:\n",
    "            return mid\n",
    "        elif arr[mid] < target:\n",
    "            low = mid+1\n",
    "        else:\n",
    "            high = mid -1\n",
    "    return -1\n",
    "\n",
    "arr = [1, 3, 5, 7, 9]\n",
    "print(binary_search(arr, 7))"
   ]
  },
  {
   "cell_type": "code",
   "execution_count": 29,
   "id": "d93c896d",
   "metadata": {},
   "outputs": [
    {
     "name": "stdout",
     "output_type": "stream",
     "text": [
      "0 1 1 2 3 5 8 13 21 34 "
     ]
    }
   ],
   "source": [
    "# 23. Fibonacci Sequence (Recursion)\n",
    "\n",
    "def fibonacci(n):\n",
    "    if n <= 1:\n",
    "        return n\n",
    "    else:\n",
    "        return fibonacci(n-1) + fibonacci(n-2)\n",
    "    \n",
    "def print_fibonacci(n, count = 0):\n",
    "    if count < n:\n",
    "        print(fibonacci(count), end=\" \")\n",
    "        print_fibonacci(n, count + 1)\n",
    "        \n",
    "print_fibonacci(10)\n",
    "    \n",
    "# for i in range(10):\n",
    "#     print(fibonacci(i), end = \" \")"
   ]
  },
  {
   "cell_type": "code",
   "execution_count": 30,
   "id": "6cfae02e",
   "metadata": {},
   "outputs": [
    {
     "name": "stdout",
     "output_type": "stream",
     "text": [
      "[12, 30, 54]\n",
      "[48, 75, 108]\n",
      "[84, 120, 162]\n"
     ]
    }
   ],
   "source": [
    "# 24 Matrix Multiplication\n",
    "\n",
    "X = [[1, 2, 3], [4, 5, 6], [7, 8, 9]]\n",
    "Y = [[1, 2, 3], [4, 5, 6], [7, 8, 9]]\n",
    "result = [[0, 0, 0], [0, 0, 0], [0, 0, 0]]\n",
    "\n",
    "for i in range(len(X)):\n",
    "    for j in range(len(Y[0])):\n",
    "        for k in range(len(Y)):\n",
    "            result [i][j] += X[i][j] * Y[k][j]\n",
    "            \n",
    "for r in result:\n",
    "    print(r)"
   ]
  },
  {
   "cell_type": "code",
   "execution_count": 31,
   "id": "134b6c18",
   "metadata": {},
   "outputs": [
    {
     "name": "stdout",
     "output_type": "stream",
     "text": [
      "True\n"
     ]
    }
   ],
   "source": [
    "# 25. Palindrome Check\n",
    "\n",
    "def is_palindrome(s):\n",
    "    return s == s[::-1]\n",
    "\n",
    "print(is_palindrome(\"madam\"))"
   ]
  },
  {
   "cell_type": "code",
   "execution_count": 32,
   "id": "ca7a7c6c",
   "metadata": {},
   "outputs": [
    {
     "name": "stdout",
     "output_type": "stream",
     "text": [
      "[5, 6, 7, 11, 12, 13]\n"
     ]
    }
   ],
   "source": [
    "# 26 Merge Sort implementation\n",
    "\n",
    "def merge_sort(arr):\n",
    "    if len(arr) > 1:\n",
    "        mid = len(arr)//2\n",
    "        left_half = arr[:mid]\n",
    "        right_half = arr[mid:]\n",
    "        \n",
    "        merge_sort(left_half)\n",
    "        merge_sort(right_half)\n",
    "        \n",
    "        i = j = k = 0\n",
    "        \n",
    "        while i < len(left_half) and j < len(right_half):\n",
    "            if left_half[i] < right_half[j]:\n",
    "                arr[k] = left_half[i]\n",
    "                i += 1\n",
    "            else:\n",
    "                arr[k] = right_half[j]\n",
    "                j += 1\n",
    "            k+=1\n",
    "        \n",
    "        while i < len(left_half):\n",
    "            arr[k] = left_half[i]\n",
    "            i += 1\n",
    "            k += 1\n",
    "            \n",
    "        while j < len(right_half):\n",
    "            arr[k] = right_half[j]\n",
    "            j += 1\n",
    "            k += 1\n",
    "\n",
    "arr = [12, 11, 13, 5, 6, 7]\n",
    "merge_sort(arr)\n",
    "print(arr)"
   ]
  },
  {
   "cell_type": "code",
   "execution_count": 33,
   "id": "ac462979",
   "metadata": {},
   "outputs": [
    {
     "name": "stdout",
     "output_type": "stream",
     "text": [
      "[{'name': 'Bob', 'age': 20}, {'name': 'Charlie', 'age': 23}, {'name': 'Alice', 'age': 25}]\n"
     ]
    }
   ],
   "source": [
    "# 27 Sorting a List of Dictionaries\n",
    "\n",
    "students = [\n",
    "    {'name': 'Alice', 'age': 25},\n",
    "    {'name': 'Bob', 'age': 20},\n",
    "    {'name': 'Charlie', 'age': 23}\n",
    "]\n",
    "\n",
    "sorted_students = sorted(students, key = lambda x: x['age'])\n",
    "\n",
    "print(sorted_students)"
   ]
  },
  {
   "cell_type": "code",
   "execution_count": 34,
   "id": "67713af9",
   "metadata": {},
   "outputs": [
    {
     "name": "stdout",
     "output_type": "stream",
     "text": [
      "76 4.116474561431563 apple\n"
     ]
    }
   ],
   "source": [
    "# 28 Random Number Generation\n",
    "\n",
    "import random\n",
    "\n",
    "rand_int = random.randint(1, 100)\n",
    "rand_float = random.uniform(1.0, 10.0)\n",
    "rand_choice = random.choice(['apple', 'banana','cherry'])\n",
    "\n",
    "print(rand_int, rand_float, rand_choice)"
   ]
  },
  {
   "cell_type": "code",
   "execution_count": 35,
   "id": "9d530a61",
   "metadata": {},
   "outputs": [
    {
     "name": "stdout",
     "output_type": "stream",
     "text": [
      "current date and time: 2024-11-15 13:29:35.481047\n",
      "Yesterday's date: 2024-11-14 13:29:35.481047\n",
      "Formated date : 2024-11-15 13:29:35\n"
     ]
    }
   ],
   "source": [
    "# 29 Date and Time\n",
    "\n",
    "import datetime\n",
    "\n",
    "# Get current date and time\n",
    "now = datetime.datetime.now()\n",
    "\n",
    "print(\"current date and time:\", now)\n",
    "\n",
    "# Date manipulation\n",
    "yesterday = now - datetime.timedelta(days = 1)\n",
    "print(\"Yesterday's date:\", yesterday)\n",
    "\n",
    "# Formatting date\n",
    "\n",
    "formatted_date = now.strftime(\"%Y-%m-%d %H:%M:%S\")\n",
    "\n",
    "print(\"Formated date :\",formatted_date)"
   ]
  },
  {
   "cell_type": "code",
   "execution_count": 36,
   "id": "bec7a240",
   "metadata": {},
   "outputs": [
    {
     "name": "stdout",
     "output_type": "stream",
     "text": [
      "['123', '456', '7890']\n",
      "My phone number is [REDACTED]-[REDACTED]-[REDACTED]\n"
     ]
    }
   ],
   "source": [
    "# 30 Regular Expressions\n",
    "\n",
    "import re\n",
    "\n",
    "# Search for a pattrn in a string\n",
    "pattern = r\"\\d+\" # one or more digits\n",
    "\n",
    "text = \"My phone number is 123-456-7890\"\n",
    "\n",
    "matches = re.findall(pattern, text)\n",
    "print(matches) # output: ['123', '456', '7890']\n",
    "\n",
    "# Replace patterns in a string\n",
    "\n",
    "new_txt = re.sub(r\"\\d+\", \"[REDACTED]\", text)\n",
    "\n",
    "print(new_txt)"
   ]
  },
  {
   "cell_type": "code",
   "execution_count": 37,
   "id": "b6c4334b",
   "metadata": {},
   "outputs": [
    {
     "name": "stdout",
     "output_type": "stream",
     "text": [
      "{\"name\": \"John\", \"age\": 30, \"city\": \"New York\"}\n",
      "{'name': 'John', 'age': 30, 'city': 'New York'}\n"
     ]
    }
   ],
   "source": [
    "# 31 Json Handling\n",
    "\n",
    "import json\n",
    "\n",
    "# Dictionary to JSON\n",
    "\n",
    "person_dict = {\n",
    "    \"name\": \"John\",\n",
    "    \"age\": 30,\n",
    "    \"city\": \"New York\"\n",
    "}\n",
    "\n",
    "# Convert Dictionary to JSON\n",
    "\n",
    "person_json = json.dumps(person_dict)\n",
    "\n",
    "print(person_json)\n",
    "\n",
    "# Convert JSON string to dict\n",
    "\n",
    "person_from_json = json.loads(person_json)\n",
    "\n",
    "print(person_from_json)"
   ]
  },
  {
   "cell_type": "code",
   "execution_count": 38,
   "id": "9d04b9db",
   "metadata": {},
   "outputs": [
    {
     "name": "stdout",
     "output_type": "stream",
     "text": [
      "Final Counter value: 50\n"
     ]
    }
   ],
   "source": [
    "# 32 Threading With Locks\n",
    "\n",
    "import threading\n",
    "\n",
    "# Thread-safe counter example\n",
    "\n",
    "counter = 0\n",
    "counter_lock = threading.Lock()\n",
    "\n",
    "def increment_counter():\n",
    "    global counter\n",
    "    with counter_lock:\n",
    "        for _ in range(10):\n",
    "            counter += 1\n",
    "            \n",
    "threads = []\n",
    "for _ in range(5):\n",
    "    thread = threading.Thread(target = increment_counter)\n",
    "    threads.append(thread)\n",
    "    thread.start()\n",
    "    \n",
    "for thread in threads:\n",
    "    thread.join()\n",
    "\n",
    "print(\"Final Counter value:\", counter)"
   ]
  },
  {
   "cell_type": "code",
   "execution_count": 39,
   "id": "a6e28ef6",
   "metadata": {},
   "outputs": [
    {
     "name": "stderr",
     "output_type": "stream",
     "text": [
      "usage: ipykernel_launcher.py [-h] [--age AGE] name\n",
      "ipykernel_launcher.py: error: unrecognized arguments: -f\n"
     ]
    },
    {
     "ename": "SystemExit",
     "evalue": "2",
     "output_type": "error",
     "traceback": [
      "An exception has occurred, use %tb to see the full traceback.\n",
      "\u001b[1;31mSystemExit\u001b[0m\u001b[1;31m:\u001b[0m 2\n"
     ]
    },
    {
     "name": "stderr",
     "output_type": "stream",
     "text": [
      "C:\\Users\\hp\\anaconda3\\lib\\site-packages\\IPython\\core\\interactiveshell.py:3452: UserWarning: To exit: use 'exit', 'quit', or Ctrl-D.\n",
      "  warn(\"To exit: use 'exit', 'quit', or Ctrl-D.\", stacklevel=1)\n"
     ]
    }
   ],
   "source": [
    "# 33 Argparse For Command-Line Arguments\n",
    "\n",
    "import argparse\n",
    "\n",
    "# command line argument parsing\n",
    "\n",
    "parser = argparse.ArgumentParser(description = \"A simple example.\")\n",
    "parser.add_argument('name', type=str, help='Your name')\n",
    "parser.add_argument('--age', type=int, help='Your age', default=18)\n",
    "\n",
    "args = parser.parse_args()\n",
    "\n",
    "print(f\"Hello, {args.name}. You are {args.age} years old.\")"
   ]
  },
  {
   "cell_type": "code",
   "execution_count": 40,
   "id": "d595b31d",
   "metadata": {},
   "outputs": [
    {
     "name": "stdout",
     "output_type": "stream",
     "text": [
      "combinations: [('a', 'b'), ('a', 'c'), ('b', 'c')]\n",
      "permutations [('a', 'b', 'c'), ('a', 'c', 'b'), ('b', 'a', 'c'), ('b', 'c', 'a'), ('c', 'a', 'b'), ('c', 'b', 'a')]\n"
     ]
    }
   ],
   "source": [
    "# 34 itertools for combinations and perutations\n",
    "\n",
    "import itertools\n",
    "\n",
    "items = ['a', 'b', 'c']\n",
    "\n",
    "#Combinations\n",
    "combinations = list(itertools.combinations(items, 2))\n",
    "\n",
    "print(\"combinations:\", combinations)\n",
    "\n",
    "#Permutations\n",
    "\n",
    "permutations = list(itertools.permutations(items))\n",
    "print(\"permutations\",permutations)"
   ]
  },
  {
   "cell_type": "code",
   "execution_count": 41,
   "id": "57b5ecc7",
   "metadata": {},
   "outputs": [
    {
     "name": "stdout",
     "output_type": "stream",
     "text": [
      "Hello\n",
      "Hello\n",
      "World\n",
      "World\n"
     ]
    }
   ],
   "source": [
    "# 35 Asynchronous Programming \n",
    "\n",
    "import asyncio\n",
    "\n",
    "# Asynchronous function example\n",
    "\n",
    "async def say_hello():\n",
    "    print(\"Hello\")\n",
    "    await asyncio.sleep(1)\n",
    "    print(\"World\")\n",
    "    \n",
    "# Running the async function\n",
    "\n",
    "async def main():\n",
    "    await asyncio.gather(say_hello(), say_hello())\n",
    "    \n",
    "await main()\n",
    "\n",
    "# In standard Python scripts, you'd use asyncio.run(main()),\n",
    "# but in Jupyter, using await main() works better."
   ]
  },
  {
   "cell_type": "code",
   "execution_count": 42,
   "id": "e7ea9a6c",
   "metadata": {},
   "outputs": [
    {
     "name": "stdout",
     "output_type": "stream",
     "text": [
      "{0, 2, 4, 6, 8}\n"
     ]
    }
   ],
   "source": [
    "# 36 Comprehensions (set and dictionary)\n",
    "\n",
    "# set comprehension\n",
    "\n",
    "set_comp = {x for x in range(10) if x % 2 == 0}\n",
    "\n",
    "print(set_comp)"
   ]
  },
  {
   "cell_type": "code",
   "execution_count": 43,
   "id": "aa43a4a9",
   "metadata": {},
   "outputs": [
    {
     "name": "stdout",
     "output_type": "stream",
     "text": [
      "{0: 0, 1: 1, 2: 4, 3: 9, 4: 16}\n"
     ]
    }
   ],
   "source": [
    "# dictionary comprehension\n",
    "\n",
    "dict_comp = {x: x**2 for x in range(5)}\n",
    "print(dict_comp)"
   ]
  },
  {
   "cell_type": "code",
   "execution_count": 44,
   "id": "22e2ffb6",
   "metadata": {},
   "outputs": [
    {
     "name": "stdout",
     "output_type": "stream",
     "text": [
      "Counter({'apple': 3, 'banana': 2, 'orange': 1})\n",
      "most_coomon item is : [('apple', 3)]\n"
     ]
    }
   ],
   "source": [
    "# 37 Using collections.Counter\n",
    "\n",
    "# count frequency of elements in a list \n",
    "\n",
    "from collections import Counter\n",
    "\n",
    "data = ['apple','banana','apple','orange','banana','apple']\n",
    "\n",
    "count = Counter(data)\n",
    "\n",
    "print(count)\n",
    "\n",
    "\n",
    "# most common element\n",
    "most_common = count.most_common(1)\n",
    "\n",
    "print(\"most_coomon item is :\",most_common)"
   ]
  },
  {
   "cell_type": "code",
   "execution_count": 45,
   "id": "2ef9fcc2",
   "metadata": {},
   "outputs": [
    {
     "name": "stdout",
     "output_type": "stream",
     "text": [
      "color.RED\n",
      "RED\n",
      "1\n"
     ]
    }
   ],
   "source": [
    "# 38 Working with Enums\n",
    "\n",
    "from enum import Enum\n",
    "\n",
    "# Enum example\n",
    "\n",
    "class color(Enum):\n",
    "    RED = 1\n",
    "    GREEN = 2\n",
    "    BLUE = 3\n",
    "    \n",
    "print(color.RED)\n",
    "print(color.RED.name)\n",
    "print(color.RED.value)"
   ]
  },
  {
   "cell_type": "code",
   "execution_count": 46,
   "id": "f0f79990",
   "metadata": {},
   "outputs": [
    {
     "name": "stdout",
     "output_type": "stream",
     "text": [
      "Car(make='Toyota', model='camry', year=2020)\n"
     ]
    }
   ],
   "source": [
    "# 39 Dataclasses\n",
    "\n",
    "from dataclasses import dataclass\n",
    "\n",
    "# Dataclass example\n",
    "\n",
    "@dataclass\n",
    "class Car:\n",
    "    make: str\n",
    "    model: str\n",
    "    year: int\n",
    "\n",
    "car1 = Car(make=\"Toyota\", model=\"camry\",year=2020)\n",
    "print(car1)"
   ]
  },
  {
   "cell_type": "code",
   "execution_count": 47,
   "id": "c9bfff68",
   "metadata": {},
   "outputs": [
    {
     "name": "stdout",
     "output_type": "stream",
     "text": [
      "55\n"
     ]
    }
   ],
   "source": [
    "# 40 Memoization using\n",
    "\n",
    "from functools import lru_cache\n",
    "\n",
    "# Memoized Fibonacci using lru_cache\n",
    "\n",
    "@lru_cache(maxsize=None)\n",
    "\n",
    "def fib(n):\n",
    "    if n < 2:\n",
    "        return n\n",
    "    return fib(n-1) + fib(n-2)\n",
    "\n",
    "print(fib(10))"
   ]
  },
  {
   "cell_type": "code",
   "execution_count": 48,
   "id": "a9db2d37",
   "metadata": {},
   "outputs": [
    {
     "name": "stdout",
     "output_type": "stream",
     "text": [
      "5 is possitive\n"
     ]
    },
    {
     "ename": "NegativeNumberError",
     "evalue": "Negative number are not allowed",
     "output_type": "error",
     "traceback": [
      "\u001b[1;31m----------------------------------------------------------------\u001b[0m",
      "\u001b[1;31mNegativeNumberError\u001b[0m            Traceback (most recent call last)",
      "\u001b[1;32m~\\AppData\\Local\\Temp/ipykernel_16124/651436212.py\u001b[0m in \u001b[0;36m<module>\u001b[1;34m\u001b[0m\n\u001b[0;32m     11\u001b[0m \u001b[1;33m\u001b[0m\u001b[0m\n\u001b[0;32m     12\u001b[0m \u001b[0mcheck_possitive\u001b[0m\u001b[1;33m(\u001b[0m\u001b[1;36m5\u001b[0m\u001b[1;33m)\u001b[0m\u001b[1;33m\u001b[0m\u001b[1;33m\u001b[0m\u001b[0m\n\u001b[1;32m---> 13\u001b[1;33m \u001b[0mcheck_possitive\u001b[0m\u001b[1;33m(\u001b[0m\u001b[1;33m-\u001b[0m\u001b[1;36m1\u001b[0m\u001b[1;33m)\u001b[0m\u001b[1;33m\u001b[0m\u001b[1;33m\u001b[0m\u001b[0m\n\u001b[0m",
      "\u001b[1;32m~\\AppData\\Local\\Temp/ipykernel_16124/651436212.py\u001b[0m in \u001b[0;36mcheck_possitive\u001b[1;34m(number)\u001b[0m\n\u001b[0;32m      6\u001b[0m \u001b[1;32mdef\u001b[0m \u001b[0mcheck_possitive\u001b[0m\u001b[1;33m(\u001b[0m\u001b[0mnumber\u001b[0m\u001b[1;33m)\u001b[0m\u001b[1;33m:\u001b[0m\u001b[1;33m\u001b[0m\u001b[1;33m\u001b[0m\u001b[0m\n\u001b[0;32m      7\u001b[0m     \u001b[1;32mif\u001b[0m \u001b[0mnumber\u001b[0m \u001b[1;33m<\u001b[0m \u001b[1;36m0\u001b[0m\u001b[1;33m:\u001b[0m\u001b[1;33m\u001b[0m\u001b[1;33m\u001b[0m\u001b[0m\n\u001b[1;32m----> 8\u001b[1;33m         \u001b[1;32mraise\u001b[0m \u001b[0mNegativeNumberError\u001b[0m\u001b[1;33m(\u001b[0m\u001b[1;34m\"Negative number are not allowed\"\u001b[0m\u001b[1;33m)\u001b[0m\u001b[1;33m\u001b[0m\u001b[1;33m\u001b[0m\u001b[0m\n\u001b[0m\u001b[0;32m      9\u001b[0m     \u001b[1;32melse\u001b[0m\u001b[1;33m:\u001b[0m\u001b[1;33m\u001b[0m\u001b[1;33m\u001b[0m\u001b[0m\n\u001b[0;32m     10\u001b[0m         \u001b[0mprint\u001b[0m\u001b[1;33m(\u001b[0m\u001b[1;34mf\"{number} is possitive\"\u001b[0m\u001b[1;33m)\u001b[0m\u001b[1;33m\u001b[0m\u001b[1;33m\u001b[0m\u001b[0m\n",
      "\u001b[1;31mNegativeNumberError\u001b[0m: Negative number are not allowed"
     ]
    }
   ],
   "source": [
    "# 41 Custom Exceptions\n",
    "\n",
    "class NegativeNumberError(Exception):\n",
    "    pass\n",
    "\n",
    "def check_possitive(number):\n",
    "    if number < 0:\n",
    "        raise NegativeNumberError(\"Negative number are not allowed\")\n",
    "    else:\n",
    "        print(f\"{number} is possitive\")\n",
    "        \n",
    "check_possitive(5)\n",
    "check_possitive(-1)"
   ]
  },
  {
   "cell_type": "code",
   "execution_count": 49,
   "id": "95e964d2",
   "metadata": {},
   "outputs": [
    {
     "name": "stdout",
     "output_type": "stream",
     "text": [
      "Entering context...\n",
      "Inside the context block\n",
      "Exiting context...\n"
     ]
    }
   ],
   "source": [
    "# 42 Context Managers\n",
    "\n",
    "# using a context manager(with statement)\n",
    "\n",
    "with open(\"example.txt\", \"w\") as file:\n",
    "    file.write(\"Hello, world!\")\n",
    "    \n",
    "# Custom context manager using class\n",
    "\n",
    "class MyContextManager:\n",
    "    def __enter__(self):\n",
    "        print(\"Entering context...\")\n",
    "        return self\n",
    "    \n",
    "    def __exit__(self, exc_type, exc_value, traceback):\n",
    "        print(\"Exiting context...\")\n",
    "        \n",
    "with MyContextManager() as cm:\n",
    "    print(\"Inside the context block\")"
   ]
  },
  {
   "cell_type": "code",
   "execution_count": 50,
   "id": "efb998ee",
   "metadata": {},
   "outputs": [
    {
     "name": "stdout",
     "output_type": "stream",
     "text": [
      "7\n"
     ]
    }
   ],
   "source": [
    "# 43 Type hinting \n",
    "\n",
    "def add(a: int, b: int) -> int:\n",
    "    return a+b\n",
    "\n",
    "print(add(3,4))"
   ]
  },
  {
   "cell_type": "code",
   "execution_count": 51,
   "id": "1db3f355",
   "metadata": {},
   "outputs": [
    {
     "name": "stdout",
     "output_type": "stream",
     "text": [
      "37\n"
     ]
    }
   ],
   "source": [
    "# 44 property Decorators\n",
    "\n",
    "class Celsius:\n",
    "    def __init__(self, temp = 0):\n",
    "        self._temperature = temp\n",
    "        \n",
    "    @property\n",
    "    def temperature(self):\n",
    "        print(\"Getting temperature\")\n",
    "        return self._temperature\n",
    "    \n",
    "    @temperature.setter\n",
    "    def temperature(self, value):\n",
    "        if value < -273:\n",
    "            raise ValueError(\"Temperature below -273 is not possible\")\n",
    "        print(\"setting temperature\")\n",
    "        self._temperature = value\n",
    "        \n",
    "c = Celsius()\n",
    "c.temp = 37 # Setting Temperature\n",
    "print(c.temp) # Getting temperature and output: 37"
   ]
  },
  {
   "cell_type": "code",
   "execution_count": 52,
   "id": "f4efa452",
   "metadata": {},
   "outputs": [
    {
     "name": "stdout",
     "output_type": "stream",
     "text": [
      "Creating class MyClass\n",
      "Instance created\n"
     ]
    }
   ],
   "source": [
    "# 45 Metaclasses\n",
    "\n",
    "class MyMeta(type):\n",
    "    def __new__(cls, name, bases, attrs):\n",
    "        print(f\"Creating class {name}\")\n",
    "        return super().__new__(cls, name, bases, attrs)\n",
    "    \n",
    "class MyClass(metaclass=MyMeta):\n",
    "    def __init__(self):\n",
    "        print(\"Instance created\")\n",
    "        \n",
    "instance = MyClass()"
   ]
  },
  {
   "cell_type": "code",
   "execution_count": 53,
   "id": "d94de566",
   "metadata": {},
   "outputs": [
    {
     "name": "stdout",
     "output_type": "stream",
     "text": [
      "Hello from Parent1\n"
     ]
    }
   ],
   "source": [
    "# 46 Multiple Inheritance\n",
    "\n",
    "class Parent1:\n",
    "    def greet(self):\n",
    "        print(\"Hello from Parent1\")\n",
    "\n",
    "class Parent2:\n",
    "    def greet(self):\n",
    "        print(\"Hello from Parent2\")\n",
    "        \n",
    "class Child(Parent1, Parent2):\n",
    "    pass\n",
    "\n",
    "obj = Child()\n",
    "\n",
    "obj.greet()  \n",
    "\n",
    "# Output: Hello from Parent1 \n",
    "#(due to method resolution order)"
   ]
  },
  {
   "cell_type": "code",
   "execution_count": 54,
   "id": "4f139746",
   "metadata": {},
   "outputs": [
    {
     "name": "stdout",
     "output_type": "stream",
     "text": [
      "woof!\n"
     ]
    }
   ],
   "source": [
    "# Abstract Base Classes (ABC)\n",
    "\n",
    "from abc import ABC, abstractmethod\n",
    "\n",
    "# Abstract base class example\n",
    "\n",
    "class Animal(ABC):\n",
    "    @abstractmethod\n",
    "    def sound(self):\n",
    "        pass\n",
    "    \n",
    "class Dog(Animal):\n",
    "    def sound(self):\n",
    "        return \"woof!\"\n",
    "    \n",
    "obj = Dog()\n",
    "print(obj.sound())"
   ]
  },
  {
   "cell_type": "code",
   "execution_count": 55,
   "id": "7c10e099",
   "metadata": {},
   "outputs": [
    {
     "name": "stdout",
     "output_type": "stream",
     "text": [
      "Alice is 25 years old\n",
      "Bob is 30 years old\n",
      "charlie is 35 years old\n"
     ]
    }
   ],
   "source": [
    "# 48 Using zip for Parellel Iteration\n",
    "\n",
    "# parallel iteration with zip \n",
    "names = ['Alice', 'Bob', 'charlie']\n",
    "ages = [25, 30, 35]\n",
    "\n",
    "for name, age in zip(names, ages):\n",
    "    print(f\"{name} is {age} years old\")"
   ]
  },
  {
   "cell_type": "code",
   "execution_count": 56,
   "id": "f45a7616",
   "metadata": {},
   "outputs": [
    {
     "name": "stdout",
     "output_type": "stream",
     "text": [
      "multiplication : 24\n",
      "sum : 15\n"
     ]
    }
   ],
   "source": [
    "# 49 Packing and Unpacking Arguments \n",
    "\n",
    "# Unpacking arguments\n",
    "\n",
    "def multiply(a,b,c):\n",
    "    return \"multiplication :\",a * b *c\n",
    "\n",
    "args = [2, 3, 4]\n",
    "\n",
    "result = multiply(*args)  # Unpacking the list into function arguments\n",
    "print(*result)\n",
    "\n",
    "\n",
    "def add(*numbers):\n",
    "    return f\"sum : {sum(numbers)}\"\n",
    "\n",
    "print(add(1,2,3,4,5))"
   ]
  },
  {
   "cell_type": "code",
   "execution_count": 57,
   "id": "86139afb",
   "metadata": {},
   "outputs": [
    {
     "name": "stdout",
     "output_type": "stream",
     "text": [
      "10 20 30\n"
     ]
    }
   ],
   "source": [
    "# 50 Namedtuples\n",
    "\n",
    "from collections import namedtuple\n",
    "\n",
    "# Define the namedtuple with the name 'Pt'\n",
    "pt = namedtuple('gfcf', ['x','y','z'])\n",
    "\n",
    "# Create an instance of Pt\n",
    "p = pt(10, 20, 30)\n",
    "\n",
    "print(p.x, p.y, p.z)"
   ]
  },
  {
   "cell_type": "code",
   "execution_count": 58,
   "id": "b40fc24c",
   "metadata": {},
   "outputs": [
    {
     "name": "stdout",
     "output_type": "stream",
     "text": [
      "deque([1, 2, 3, 4])\n"
     ]
    }
   ],
   "source": [
    "# 51 Using Deque for Efficient deque\n",
    "\n",
    "from collections import deque\n",
    "\n",
    "dq = deque([1, 2, 3])\n",
    "\n",
    "# Appending and popping from both ends\n",
    "\n",
    "dq.append(4)\n",
    "print(dq)"
   ]
  },
  {
   "cell_type": "code",
   "execution_count": 59,
   "id": "f45a0089",
   "metadata": {},
   "outputs": [
    {
     "data": {
      "text/plain": [
       "deque([0, 1, 2, 3, 4])"
      ]
     },
     "execution_count": 59,
     "metadata": {},
     "output_type": "execute_result"
    }
   ],
   "source": [
    "dq.appendleft(0)\n",
    "dq"
   ]
  },
  {
   "cell_type": "code",
   "execution_count": 60,
   "id": "41dd86d4",
   "metadata": {},
   "outputs": [
    {
     "data": {
      "text/plain": [
       "deque([0, 1, 2, 3])"
      ]
     },
     "execution_count": 60,
     "metadata": {},
     "output_type": "execute_result"
    }
   ],
   "source": [
    "dq.pop()\n",
    "dq"
   ]
  },
  {
   "cell_type": "code",
   "execution_count": 61,
   "id": "bc63fe88",
   "metadata": {},
   "outputs": [
    {
     "data": {
      "text/plain": [
       "deque([1, 2, 3])"
      ]
     },
     "execution_count": 61,
     "metadata": {},
     "output_type": "execute_result"
    }
   ],
   "source": [
    "dq.popleft()\n",
    "dq"
   ]
  },
  {
   "cell_type": "code",
   "execution_count": 62,
   "id": "635c30c8",
   "metadata": {},
   "outputs": [
    {
     "name": "stdout",
     "output_type": "stream",
     "text": [
      "deque([1, 2, 3])\n"
     ]
    }
   ],
   "source": [
    "print(dq)"
   ]
  },
  {
   "cell_type": "code",
   "execution_count": 63,
   "id": "f21ca9c9",
   "metadata": {},
   "outputs": [
    {
     "name": "stdout",
     "output_type": "stream",
     "text": [
      "[2, 4, 6]\n",
      "reduce func: 720\n"
     ]
    }
   ],
   "source": [
    "# 52 functional programming with filter and reduce\n",
    "\n",
    "from functools import reduce\n",
    "\n",
    "# filtering even numbers from a list\n",
    "\n",
    "nums = [1, 2,3,4,5,6]\n",
    "\n",
    "evens = list(filter(lambda x: x%2 == 0, nums))\n",
    "\n",
    "print(evens)\n",
    "\n",
    "# reducing a list to its products\n",
    "\n",
    "product = reduce(lambda x, y: x * y, nums)\n",
    "print(\"reduce func:\",product)"
   ]
  },
  {
   "cell_type": "code",
   "execution_count": 64,
   "id": "89743c20",
   "metadata": {},
   "outputs": [
    {
     "name": "stdout",
     "output_type": "stream",
     "text": [
      "True\n",
      "True\n"
     ]
    }
   ],
   "source": [
    "# 53 Using isinstance and issubclass\n",
    "\n",
    "# checking object type with isinstance\n",
    "\n",
    "print(isinstance(5, int))\n",
    "\n",
    "print(isinstance(\"hello\", str))\n"
   ]
  },
  {
   "cell_type": "code",
   "execution_count": 65,
   "id": "b65c5432",
   "metadata": {},
   "outputs": [
    {
     "name": "stdout",
     "output_type": "stream",
     "text": [
      "True\n",
      "False\n"
     ]
    }
   ],
   "source": [
    "# checking class hierachy with issubclass\n",
    "class A:\n",
    "    pass\n",
    "\n",
    "class B(A):\n",
    "    pass\n",
    "\n",
    "print(issubclass(B, A)) # Output: True\n",
    "print(issubclass(A, B))  # Output: False"
   ]
  },
  {
   "cell_type": "code",
   "execution_count": 66,
   "id": "13256896",
   "metadata": {},
   "outputs": [
    {
     "name": "stdout",
     "output_type": "stream",
     "text": [
      "10 20\n"
     ]
    }
   ],
   "source": [
    "# 54 slot optimization for Memory Efficiency\n",
    "\n",
    "class MyClass:\n",
    "    __slots__ = ['x', 'y'] # Limiting attributes to save memory\n",
    "    \n",
    "    \n",
    "    def __init__(self, x, y):\n",
    "        self.x = x\n",
    "        self.y = y\n",
    "        \n",
    "obj = MyClass(10,20)\n",
    "\n",
    "print(obj.x, obj.y)"
   ]
  },
  {
   "cell_type": "code",
   "execution_count": null,
   "id": "d6762889",
   "metadata": {},
   "outputs": [],
   "source": [
    "pip install aiofiles"
   ]
  },
  {
   "cell_type": "code",
   "execution_count": 72,
   "id": "b87fcc92",
   "metadata": {},
   "outputs": [
    {
     "name": "stdout",
     "output_type": "stream",
     "text": [
      "Hello Async!\n"
     ]
    }
   ],
   "source": [
    "# 55 Asynchronous File I/O\n",
    "\n",
    "import aiofiles\n",
    "import asyncio\n",
    "\n",
    "# Asynchronous file read and write\n",
    "\n",
    "async def async_file_operations():\n",
    "    async with aiofiles.open('async_test.txt', 'w') as f:\n",
    "        await f.write(\"Hello Async!\")\n",
    "        \n",
    "    async with aiofiles.open('async_test.txt', 'r') as f:\n",
    "        content = await f.read()\n",
    "        print(content)\n",
    "\n",
    "# Running the asynchronous function\n",
    "# asyncio.run(async_file_operations())\n",
    "\n",
    "# In an environment with an already running event loop, use await\n",
    "await async_file_operations()"
   ]
  },
  {
   "cell_type": "code",
   "execution_count": 82,
   "id": "44e4930a",
   "metadata": {},
   "outputs": [
    {
     "name": "stdout",
     "output_type": "stream",
     "text": [
      "2\n",
      "4\n"
     ]
    }
   ],
   "source": [
    "# 56 Custom Iteratots\n",
    "\n",
    "# Custom iterator class\n",
    "\n",
    "class MyRange:\n",
    "    def __init__(self, start, end):\n",
    "        self.current = start\n",
    "        self.end = end\n",
    "        \n",
    "    def __iter__(self):\n",
    "        return self\n",
    "    \n",
    "    def __next__(self):\n",
    "        if self.current >= self.end:\n",
    "            raise StopIteration\n",
    "            \n",
    "        else:\n",
    "            self.current += 2\n",
    "            return self.current - 1\n",
    "    \n",
    "my_range = MyRange(1, 5)\n",
    "\n",
    "for num in my_range:\n",
    "    print(num)"
   ]
  },
  {
   "cell_type": "code",
   "execution_count": 83,
   "id": "52cf3436",
   "metadata": {},
   "outputs": [
    {
     "name": "stdout",
     "output_type": "stream",
     "text": [
      "5\n",
      "4\n",
      "3\n",
      "2\n",
      "1\n"
     ]
    }
   ],
   "source": [
    "# 57 Generators and Generator Expressions\n",
    "\n",
    "# Generator example\n",
    "def countdown(n):\n",
    "    while n > 0:\n",
    "        yield n\n",
    "        n -= 1\n",
    "        \n",
    "for num in countdown(5):\n",
    "    print(num)"
   ]
  },
  {
   "cell_type": "code",
   "execution_count": 86,
   "id": "707fd615",
   "metadata": {},
   "outputs": [
    {
     "name": "stdout",
     "output_type": "stream",
     "text": [
      "0\n",
      "1\n",
      "4\n",
      "9\n",
      "16\n"
     ]
    }
   ],
   "source": [
    "# Generator expression\n",
    "\n",
    "squares = (x ** 2 for x in range(5))\n",
    "for square in squares:\n",
    "    print(square)"
   ]
  },
  {
   "cell_type": "code",
   "execution_count": 88,
   "id": "314c3df3",
   "metadata": {},
   "outputs": [
    {
     "name": "stdout",
     "output_type": "stream",
     "text": [
      "Hello, sairaj!\n",
      "Hello, sairaj!\n",
      "Hello, sairaj!\n"
     ]
    }
   ],
   "source": [
    "# 58 Decorators with Arguments\n",
    "\n",
    "def repeat(num_times):\n",
    "    def decorator(func):\n",
    "        def wrapper(*args, **kwargs):\n",
    "            for _ in range(num_times):\n",
    "                func(*args, **kwargs)\n",
    "        return wrapper\n",
    "    return decorator\n",
    "\n",
    "@repeat(3)\n",
    "def greet(name):\n",
    "    print(f\"Hello, {name}!\")\n",
    "    \n",
    "greet(\"sairaj\")"
   ]
  },
  {
   "cell_type": "code",
   "execution_count": 91,
   "id": "c823d174",
   "metadata": {},
   "outputs": [
    {
     "name": "stdout",
     "output_type": "stream",
     "text": [
      "Calling method1\n",
      "method1 called\n",
      "Calling method2\n",
      "method2 called\n"
     ]
    }
   ],
   "source": [
    "# 59 class level decorators\n",
    "\n",
    "# Applying a decorator to all methods of a class\n",
    "\n",
    "def debug_methods(cls):\n",
    "    for key, value in vars(cls).items():\n",
    "        if callable(value):\n",
    "            setattr(cls, key, debug(value))\n",
    "    return cls\n",
    "\n",
    "def debug(func):\n",
    "    def wrapper(*args, **kwargs):\n",
    "        print(f\"Calling {func.__name__}\")\n",
    "        return func(*args, **kwargs)\n",
    "    return wrapper\n",
    "\n",
    "@debug_methods\n",
    "class MyClass:\n",
    "    def method1(self):\n",
    "        print(\"method1 called\")\n",
    "        \n",
    "    def method2(self):\n",
    "        print(\"method2 called\")\n",
    "\n",
    "obj = MyClass()\n",
    "\n",
    "obj.method1()  # Output: Calling method1\n",
    "               #         Method1 called\n",
    "    \n",
    "obj.method2()  # Output: Calling method2\n",
    "               #         Method2 called"
   ]
  },
  {
   "cell_type": "code",
   "execution_count": 94,
   "id": "faceddcb",
   "metadata": {},
   "outputs": [
    {
     "name": "stdout",
     "output_type": "stream",
     "text": [
      "Hello, World!\n"
     ]
    }
   ],
   "source": [
    "# 60 Custom context Managers with contextlib\n",
    "\n",
    "\n",
    "from contextlib import contextmanager\n",
    "\n",
    "# custom context manager with contextlib\n",
    "@contextmanager\n",
    "def open_file(file_name, mode):\n",
    "    f = open(file_name, mode)\n",
    "    yield f\n",
    "    f.close()\n",
    "    \n",
    "with open_file(\"test.txt\", \"w\") as f:\n",
    "    f.write(\"Hello, World!\")\n",
    "    \n",
    "with open_file(\"test.txt\", \"r\") as f:\n",
    "    print(f.read())"
   ]
  },
  {
   "cell_type": "code",
   "execution_count": 95,
   "id": "9a78a277",
   "metadata": {},
   "outputs": [
    {
     "name": "stdout",
     "output_type": "stream",
     "text": [
      "10\n"
     ]
    }
   ],
   "source": [
    "# 61 Partial Functions with functools.partial\n",
    "\n",
    "from functools import partial\n",
    "\n",
    "def multiply(x, y):\n",
    "    return x * y\n",
    "\n",
    "double = partial(multiply, 2)\n",
    "\n",
    "print(double(5))"
   ]
  },
  {
   "cell_type": "code",
   "execution_count": 98,
   "id": "22e30179",
   "metadata": {},
   "outputs": [
    {
     "name": "stdout",
     "output_type": "stream",
     "text": [
      "alice\n",
      "bob\n",
      "True\n"
     ]
    }
   ],
   "source": [
    "# 62 Attribute Access and getattr, setattr, hasattr\n",
    "\n",
    "class Person:\n",
    "    def __init__(self, name, age):\n",
    "        self.name = name\n",
    "        self.age = age\n",
    "        \n",
    "        \n",
    "person = Person(\"alice\", 30)\n",
    "\n",
    "# Get Attribute\n",
    "\n",
    "print(getattr(person, 'name'))\n",
    "\n",
    "# Set Attribute\n",
    "\n",
    "setattr(person, 'name', 'bob')\n",
    "print(person.name)\n",
    "\n",
    "\n",
    "# check if attribute exists\n",
    "\n",
    "print(hasattr(person, 'age'))"
   ]
  },
  {
   "cell_type": "code",
   "execution_count": 105,
   "id": "2953aa94",
   "metadata": {},
   "outputs": [
    {
     "name": "stdout",
     "output_type": "stream",
     "text": [
      "[1, 2, [9, 4]]\n"
     ]
    }
   ],
   "source": [
    "# 63 Object Copying (copy and deepcopy)\n",
    "\n",
    "import copy\n",
    "\n",
    "# shallow copy\n",
    "\n",
    "list1 = [1,2,[3,4]]\n",
    "list2 = copy.copy(list1)\n",
    "list2[2][0] = 9\n",
    "\n",
    "print(list1) # Output: [1, 2, [9, 4]] (changes reflect in both)"
   ]
  },
  {
   "cell_type": "code",
   "execution_count": 104,
   "id": "7a751b36",
   "metadata": {},
   "outputs": [
    {
     "name": "stdout",
     "output_type": "stream",
     "text": [
      "[4, 5, [7, 8]]\n",
      "[4, 5, [6, 8]]\n"
     ]
    }
   ],
   "source": [
    "# Deep copy\n",
    "\n",
    "import copy\n",
    "\n",
    "list3 = [4,5,[7,8]]\n",
    "\n",
    "list4 = copy.deepcopy(list3)\n",
    "\n",
    "list4[2][0] = 6\n",
    "print(list3) # (no change)\n",
    "print(list4)"
   ]
  },
  {
   "cell_type": "code",
   "execution_count": 106,
   "id": "7082fd17",
   "metadata": {},
   "outputs": [
    {
     "name": "stdout",
     "output_type": "stream",
     "text": [
      "b'\\x00\\xff\\x00\\xff'\n"
     ]
    }
   ],
   "source": [
    "# 65  Binary data Handling\n",
    "\n",
    "with open(\"binary_file.bin\", \"wb\") as f:\n",
    "    f.write(b\"\\x00\\xFF\\x00\\xFF\")\n",
    "    \n",
    "with open(\"binary_file.bin\", \"rb\") as f:\n",
    "    data = f.read()\n",
    "    print(data)"
   ]
  },
  {
   "cell_type": "code",
   "execution_count": 109,
   "id": "9647a893",
   "metadata": {},
   "outputs": [
    {
     "name": "stdout",
     "output_type": "stream",
     "text": [
      "<class '__main__.MyClass'>\n",
      "Help on class MyClass in module __main__:\n",
      "\n",
      "class MyClass(builtins.object)\n",
      " |  Methods defined here:\n",
      " |  \n",
      " |  method(self)\n",
      " |  \n",
      " |  ----------------------------------------------------------------------\n",
      " |  Data descriptors defined here:\n",
      " |  \n",
      " |  __dict__\n",
      " |      dictionary for instance variables (if defined)\n",
      " |  \n",
      " |  __weakref__\n",
      " |      list of weak references to the object (if defined)\n",
      "\n"
     ]
    }
   ],
   "source": [
    "# 66 Introspection (dir, type, help)\n",
    "\n",
    "class MyClass:\n",
    "    def method(self):\n",
    "        pass\n",
    "    \n",
    "obj = MyClass()\n",
    "\n",
    "# Getting the list of attributes and methods of an object\n",
    "print(type(obj))\n",
    "\n",
    "# Getting help on a class\n",
    "help(MyClass)"
   ]
  },
  {
   "cell_type": "code",
   "execution_count": 110,
   "id": "87fa7fa7",
   "metadata": {},
   "outputs": [
    {
     "name": "stdout",
     "output_type": "stream",
     "text": [
      "20\n"
     ]
    }
   ],
   "source": [
    "# 67. Global and Nonlocal Variables\n",
    "\n",
    "# Global Variable example\n",
    "\n",
    "x = 10 \n",
    "\n",
    "def modify_global():\n",
    "    global x\n",
    "    x = 20\n",
    "    \n",
    "\n",
    "modify_global()\n",
    "\n",
    "print(x)"
   ]
  },
  {
   "cell_type": "code",
   "execution_count": 112,
   "id": "087983b2",
   "metadata": {},
   "outputs": [
    {
     "name": "stdout",
     "output_type": "stream",
     "text": [
      "20\n"
     ]
    }
   ],
   "source": [
    "# Nonlocal variable example\n",
    "\n",
    "def outer_function():\n",
    "    y = 10\n",
    "    def inner_function():\n",
    "        nonlocal y\n",
    "        y = 20\n",
    "    inner_function()\n",
    "    print(y)\n",
    "\n",
    "outer_function()"
   ]
  },
  {
   "cell_type": "code",
   "execution_count": 118,
   "id": "1cd81697",
   "metadata": {},
   "outputs": [
    {
     "name": "stdout",
     "output_type": "stream",
     "text": [
      "4 9 0 16 1 "
     ]
    }
   ],
   "source": [
    "# 68 Multithreading with concurrent.futures\n",
    "\n",
    "import concurrent.futures\n",
    "import time\n",
    "\n",
    "def task(n):\n",
    "    time.sleep(1)\n",
    "    return n * n\n",
    "\n",
    "# Using ThreadPoolExecutor for multithreading\n",
    "\n",
    "with concurrent.futures.ThreadPoolExecutor() as executor:\n",
    "    futures = [executor.submit(task, i) for i in range(5)]\n",
    "    for future in  concurrent.futures.as_completed(futures):\n",
    "        print(future.result(), end=\" \")"
   ]
  },
  {
   "cell_type": "code",
   "execution_count": 122,
   "id": "c75d16fb",
   "metadata": {},
   "outputs": [
    {
     "ename": "BrokenProcessPool",
     "evalue": "A process in the process pool was terminated abruptly while the future was running or pending.",
     "output_type": "error",
     "traceback": [
      "\u001b[1;31m----------------------------------------------------------------\u001b[0m",
      "\u001b[1;31mBrokenProcessPool\u001b[0m              Traceback (most recent call last)",
      "\u001b[1;32m~\\AppData\\Local\\Temp/ipykernel_16124/3392735268.py\u001b[0m in \u001b[0;36m<module>\u001b[1;34m\u001b[0m\n\u001b[0;32m      9\u001b[0m \u001b[1;33m\u001b[0m\u001b[0m\n\u001b[0;32m     10\u001b[0m \u001b[1;32mwith\u001b[0m \u001b[0mconcurrent\u001b[0m\u001b[1;33m.\u001b[0m\u001b[0mfutures\u001b[0m\u001b[1;33m.\u001b[0m\u001b[0mProcessPoolExecutor\u001b[0m\u001b[1;33m(\u001b[0m\u001b[1;33m)\u001b[0m \u001b[1;32mas\u001b[0m \u001b[0mexecutor\u001b[0m\u001b[1;33m:\u001b[0m\u001b[1;33m\u001b[0m\u001b[1;33m\u001b[0m\u001b[0m\n\u001b[1;32m---> 11\u001b[1;33m     \u001b[0mresults\u001b[0m \u001b[1;33m=\u001b[0m \u001b[0mlist\u001b[0m\u001b[1;33m(\u001b[0m\u001b[0mexecutor\u001b[0m\u001b[1;33m.\u001b[0m\u001b[0mmap\u001b[0m\u001b[1;33m(\u001b[0m\u001b[0mtask\u001b[0m\u001b[1;33m,\u001b[0m \u001b[0mrange\u001b[0m\u001b[1;33m(\u001b[0m\u001b[1;36m5\u001b[0m\u001b[1;33m)\u001b[0m\u001b[1;33m)\u001b[0m\u001b[1;33m)\u001b[0m\u001b[1;33m\u001b[0m\u001b[1;33m\u001b[0m\u001b[0m\n\u001b[0m\u001b[0;32m     12\u001b[0m \u001b[1;33m\u001b[0m\u001b[0m\n\u001b[0;32m     13\u001b[0m \u001b[0mprint\u001b[0m\u001b[1;33m(\u001b[0m\u001b[0mresults\u001b[0m\u001b[1;33m)\u001b[0m\u001b[1;33m\u001b[0m\u001b[1;33m\u001b[0m\u001b[0m\n",
      "\u001b[1;32m~\\anaconda3\\lib\\concurrent\\futures\\process.py\u001b[0m in \u001b[0;36m_chain_from_iterable_of_lists\u001b[1;34m(iterable)\u001b[0m\n\u001b[0;32m    557\u001b[0m     \u001b[0mcareful\u001b[0m \u001b[1;32mnot\u001b[0m \u001b[0mto\u001b[0m \u001b[0mkeep\u001b[0m \u001b[0mreferences\u001b[0m \u001b[0mto\u001b[0m \u001b[0myielded\u001b[0m \u001b[0mobjects\u001b[0m\u001b[1;33m.\u001b[0m\u001b[1;33m\u001b[0m\u001b[1;33m\u001b[0m\u001b[0m\n\u001b[0;32m    558\u001b[0m     \"\"\"\n\u001b[1;32m--> 559\u001b[1;33m     \u001b[1;32mfor\u001b[0m \u001b[0melement\u001b[0m \u001b[1;32min\u001b[0m \u001b[0miterable\u001b[0m\u001b[1;33m:\u001b[0m\u001b[1;33m\u001b[0m\u001b[1;33m\u001b[0m\u001b[0m\n\u001b[0m\u001b[0;32m    560\u001b[0m         \u001b[0melement\u001b[0m\u001b[1;33m.\u001b[0m\u001b[0mreverse\u001b[0m\u001b[1;33m(\u001b[0m\u001b[1;33m)\u001b[0m\u001b[1;33m\u001b[0m\u001b[1;33m\u001b[0m\u001b[0m\n\u001b[0;32m    561\u001b[0m         \u001b[1;32mwhile\u001b[0m \u001b[0melement\u001b[0m\u001b[1;33m:\u001b[0m\u001b[1;33m\u001b[0m\u001b[1;33m\u001b[0m\u001b[0m\n",
      "\u001b[1;32m~\\anaconda3\\lib\\concurrent\\futures\\_base.py\u001b[0m in \u001b[0;36mresult_iterator\u001b[1;34m()\u001b[0m\n\u001b[0;32m    606\u001b[0m                     \u001b[1;31m# Careful not to keep a reference to the popped future\u001b[0m\u001b[1;33m\u001b[0m\u001b[1;33m\u001b[0m\u001b[0m\n\u001b[0;32m    607\u001b[0m                     \u001b[1;32mif\u001b[0m \u001b[0mtimeout\u001b[0m \u001b[1;32mis\u001b[0m \u001b[1;32mNone\u001b[0m\u001b[1;33m:\u001b[0m\u001b[1;33m\u001b[0m\u001b[1;33m\u001b[0m\u001b[0m\n\u001b[1;32m--> 608\u001b[1;33m                         \u001b[1;32myield\u001b[0m \u001b[0mfs\u001b[0m\u001b[1;33m.\u001b[0m\u001b[0mpop\u001b[0m\u001b[1;33m(\u001b[0m\u001b[1;33m)\u001b[0m\u001b[1;33m.\u001b[0m\u001b[0mresult\u001b[0m\u001b[1;33m(\u001b[0m\u001b[1;33m)\u001b[0m\u001b[1;33m\u001b[0m\u001b[1;33m\u001b[0m\u001b[0m\n\u001b[0m\u001b[0;32m    609\u001b[0m                     \u001b[1;32melse\u001b[0m\u001b[1;33m:\u001b[0m\u001b[1;33m\u001b[0m\u001b[1;33m\u001b[0m\u001b[0m\n\u001b[0;32m    610\u001b[0m                         \u001b[1;32myield\u001b[0m \u001b[0mfs\u001b[0m\u001b[1;33m.\u001b[0m\u001b[0mpop\u001b[0m\u001b[1;33m(\u001b[0m\u001b[1;33m)\u001b[0m\u001b[1;33m.\u001b[0m\u001b[0mresult\u001b[0m\u001b[1;33m(\u001b[0m\u001b[0mend_time\u001b[0m \u001b[1;33m-\u001b[0m \u001b[0mtime\u001b[0m\u001b[1;33m.\u001b[0m\u001b[0mmonotonic\u001b[0m\u001b[1;33m(\u001b[0m\u001b[1;33m)\u001b[0m\u001b[1;33m)\u001b[0m\u001b[1;33m\u001b[0m\u001b[1;33m\u001b[0m\u001b[0m\n",
      "\u001b[1;32m~\\anaconda3\\lib\\concurrent\\futures\\_base.py\u001b[0m in \u001b[0;36mresult\u001b[1;34m(self, timeout)\u001b[0m\n\u001b[0;32m    443\u001b[0m                     \u001b[1;32mraise\u001b[0m \u001b[0mCancelledError\u001b[0m\u001b[1;33m(\u001b[0m\u001b[1;33m)\u001b[0m\u001b[1;33m\u001b[0m\u001b[1;33m\u001b[0m\u001b[0m\n\u001b[0;32m    444\u001b[0m                 \u001b[1;32melif\u001b[0m \u001b[0mself\u001b[0m\u001b[1;33m.\u001b[0m\u001b[0m_state\u001b[0m \u001b[1;33m==\u001b[0m \u001b[0mFINISHED\u001b[0m\u001b[1;33m:\u001b[0m\u001b[1;33m\u001b[0m\u001b[1;33m\u001b[0m\u001b[0m\n\u001b[1;32m--> 445\u001b[1;33m                     \u001b[1;32mreturn\u001b[0m \u001b[0mself\u001b[0m\u001b[1;33m.\u001b[0m\u001b[0m__get_result\u001b[0m\u001b[1;33m(\u001b[0m\u001b[1;33m)\u001b[0m\u001b[1;33m\u001b[0m\u001b[1;33m\u001b[0m\u001b[0m\n\u001b[0m\u001b[0;32m    446\u001b[0m                 \u001b[1;32melse\u001b[0m\u001b[1;33m:\u001b[0m\u001b[1;33m\u001b[0m\u001b[1;33m\u001b[0m\u001b[0m\n\u001b[0;32m    447\u001b[0m                     \u001b[1;32mraise\u001b[0m \u001b[0mTimeoutError\u001b[0m\u001b[1;33m(\u001b[0m\u001b[1;33m)\u001b[0m\u001b[1;33m\u001b[0m\u001b[1;33m\u001b[0m\u001b[0m\n",
      "\u001b[1;32m~\\anaconda3\\lib\\concurrent\\futures\\_base.py\u001b[0m in \u001b[0;36m__get_result\u001b[1;34m(self)\u001b[0m\n\u001b[0;32m    388\u001b[0m         \u001b[1;32mif\u001b[0m \u001b[0mself\u001b[0m\u001b[1;33m.\u001b[0m\u001b[0m_exception\u001b[0m\u001b[1;33m:\u001b[0m\u001b[1;33m\u001b[0m\u001b[1;33m\u001b[0m\u001b[0m\n\u001b[0;32m    389\u001b[0m             \u001b[1;32mtry\u001b[0m\u001b[1;33m:\u001b[0m\u001b[1;33m\u001b[0m\u001b[1;33m\u001b[0m\u001b[0m\n\u001b[1;32m--> 390\u001b[1;33m                 \u001b[1;32mraise\u001b[0m \u001b[0mself\u001b[0m\u001b[1;33m.\u001b[0m\u001b[0m_exception\u001b[0m\u001b[1;33m\u001b[0m\u001b[1;33m\u001b[0m\u001b[0m\n\u001b[0m\u001b[0;32m    391\u001b[0m             \u001b[1;32mfinally\u001b[0m\u001b[1;33m:\u001b[0m\u001b[1;33m\u001b[0m\u001b[1;33m\u001b[0m\u001b[0m\n\u001b[0;32m    392\u001b[0m                 \u001b[1;31m# Break a reference cycle with the exception in self._exception\u001b[0m\u001b[1;33m\u001b[0m\u001b[1;33m\u001b[0m\u001b[0m\n",
      "\u001b[1;31mBrokenProcessPool\u001b[0m: A process in the process pool was terminated abruptly while the future was running or pending."
     ]
    }
   ],
   "source": [
    "# 69 Multiprocessing with concurrent.futures\n",
    "\n",
    "import concurrent.futures\n",
    "\n",
    "def task(n):\n",
    "    return n * n\n",
    "\n",
    "# Using ProcessPoolExecutor for multiprocessing\n",
    "\n",
    "with concurrent.futures.ProcessPoolExecutor() as executor:\n",
    "    results = list(executor.map(task, range(5)))\n",
    "    \n",
    "print(results)"
   ]
  },
  {
   "cell_type": "code",
   "execution_count": 123,
   "id": "323ddc79",
   "metadata": {},
   "outputs": [
    {
     "name": "stdout",
     "output_type": "stream",
     "text": [
      "{'key': 'value', 'number': 42}\n"
     ]
    }
   ],
   "source": [
    "# 70 Serialization with pickle\n",
    "\n",
    "import pickle\n",
    "\n",
    "# Serialize (pickle) an object\n",
    "data = {'key': 'value', 'number': 42}\n",
    "\n",
    "with open('data.pk1', 'wb') as f:\n",
    "    pickle.dump(data, f)\n",
    "    \n",
    "# Deserialize (unpickle) an object\n",
    "\n",
    "with open('data.pk1', 'rb') as f:\n",
    "    loaded_data = pickle.load(f)\n",
    "    print(loaded_data)"
   ]
  },
  {
   "cell_type": "code",
   "execution_count": 128,
   "id": "984ced7f",
   "metadata": {},
   "outputs": [
    {
     "name": "stdout",
     "output_type": "stream",
     "text": [
      "aa465602-4bff-4575-8e71-e383e084135d\n"
     ]
    }
   ],
   "source": [
    "# 71 UUID generation\n",
    "\n",
    "import uuid\n",
    "\n",
    "# generate a random UUID\n",
    "\n",
    "unique_id = uuid.uuid4()\n",
    "print(unique_id)"
   ]
  },
  {
   "cell_type": "code",
   "execution_count": 136,
   "id": "69f3347e",
   "metadata": {},
   "outputs": [
    {
     "name": "stdout",
     "output_type": "stream",
     "text": [
      "2024-11-15 23-06-24 IST+0530\n"
     ]
    }
   ],
   "source": [
    "# 72 Handling Timezones with pytz\n",
    "\n",
    "from datetime import datetime\n",
    "import pytz\n",
    "\n",
    "# set the timezone\n",
    "\n",
    "timezone = pytz.timezone('Asia/Kolkata')\n",
    "\n",
    "# Get the current time in the specified timezone\n",
    "\n",
    "now = datetime.now(timezone)\n",
    "print(now.strftime('%Y-%m-%d %H-%M-%S %Z%z'))"
   ]
  },
  {
   "cell_type": "code",
   "execution_count": 139,
   "id": "96365f14",
   "metadata": {},
   "outputs": [
    {
     "name": "stdout",
     "output_type": "stream",
     "text": [
      "Alice\n"
     ]
    }
   ],
   "source": [
    "# 73 SQLAlchemy ORM for Databases\n",
    "\n",
    "from sqlalchemy import create_engine, Column, Integer, String\n",
    "from sqlalchemy.ext.declarative import declarative_base\n",
    "from sqlalchemy.orm import sessionmaker\n",
    "\n",
    "# Set up the SQLite database and ORM\n",
    "\n",
    "engine = create_engine('sqlite:///:memory:')\n",
    "\n",
    "Base = declarative_base()\n",
    "\n",
    "class User(Base):\n",
    "    __tablename__ = 'users'\n",
    "    id = Column(Integer, primary_key = True)\n",
    "    name = Column(String)\n",
    "    \n",
    "# Create an engine and a session\n",
    "engine = create_engine('sqlite:///users.db')\n",
    "Base.metadata.create_all(engine)\n",
    "\n",
    "Session = sessionmaker(bind=engine)\n",
    "session = Session()\n",
    "\n",
    "# Add a user to the database\n",
    "\n",
    "new_user = User(name='Alice')\n",
    "session.add(new_user)\n",
    "session.commit()\n",
    "\n",
    "# Query the databases\n",
    "\n",
    "for user in session.query(User):\n",
    "    print(user.name)"
   ]
  },
  {
   "cell_type": "code",
   "execution_count": 14,
   "id": "79ec2920",
   "metadata": {},
   "outputs": [
    {
     "name": "stdout",
     "output_type": "stream",
     "text": [
      "[1, 2, 3, 4, 5, 6]\n"
     ]
    }
   ],
   "source": [
    "# Merge two sorted lists\n",
    "\n",
    "def merge_sorted_lists(lst1, lst2):\n",
    "    result = []\n",
    "    i,j = 0,0\n",
    "    \n",
    "    # Merge the lists while both have elements\n",
    "    while i < len(lst1) and j < len(lst2):\n",
    "        if lst1[i] < lst2[j]:\n",
    "            result.append(lst1[i])\n",
    "            i += 1\n",
    "        else:\n",
    "            result.append(lst2[j])\n",
    "            j += 1\n",
    "            \n",
    "    # Append remaining elements\n",
    "    result.extend(lst1[i:]) # result += lst1[i:]\n",
    "    result.extend(lst2[j:]) # result += lst2[j:]\n",
    "    \n",
    "    return result\n",
    "\n",
    "print(merge_sorted_lists([1, 3, 5], [2, 4, 6]))"
   ]
  },
  {
   "cell_type": "code",
   "execution_count": 24,
   "id": "f431a2cb",
   "metadata": {},
   "outputs": [
    {
     "name": "stdout",
     "output_type": "stream",
     "text": [
      "[1, 2, 2, 3, 4, 5, 5, 6]\n",
      "Merged_sorted_list=> [1, 2, 2, 3, 4, 5, 5, 6]\n"
     ]
    }
   ],
   "source": [
    "import heapq\n",
    "\n",
    "lst1 = [1, 2, 3, 5]\n",
    "lst2 = [2, 4, 5, 6]\n",
    "\n",
    "res = list(heapq.merge(lst1, lst2))\n",
    "\n",
    "print(res)\n",
    "\n",
    "\n",
    "def merged_sorted_lists(lst1, lst2):\n",
    "    return sorted(lst1 + lst2)\n",
    "\n",
    "print(\"Merged_sorted_list=>\",merged_sorted_lists(lst1,lst2))"
   ]
  },
  {
   "cell_type": "markdown",
   "id": "d4dceda4",
   "metadata": {},
   "source": []
  },
  {
   "cell_type": "code",
   "execution_count": 1,
   "id": "5237c576",
   "metadata": {},
   "outputs": [
    {
     "name": "stdout",
     "output_type": "stream",
     "text": [
      "[1, 2, 2, 3, 4, 5, 5, 6]\n",
      "Merged_sorted_list=> [1, 2, 2, 3, 4, 5, 5, 6]\n"
     ]
    }
   ],
   "source": []
  },
  {
   "cell_type": "code",
   "execution_count": 15,
   "id": "fa52a945",
   "metadata": {},
   "outputs": [
    {
     "name": "stdout",
     "output_type": "stream",
     "text": [
      "[2, 4, 7, 1, 5, 0]\n",
      "[1, 2, 3, 6, 4, 5]\n"
     ]
    }
   ],
   "source": [
    "# Next_Permutation\n",
    "\n",
    "def next_permutation(arr):\n",
    "    n = len(arr)\n",
    "    \n",
    "    # step 1: find the first decresing element from the right\n",
    "    i = n - 2\n",
    "    \n",
    "    while i >= 0 and arr[i] >= arr[i+1]:\n",
    "        i -= 1\n",
    "        \n",
    "    if i >= 0: # step 2: Find the element just larger than arr[i]\n",
    "        j = n-1\n",
    "        while arr[j] <= arr[i]:\n",
    "            j -= 1\n",
    "            \n",
    "        # swap the elements\n",
    "        arr[i], arr[j] = arr[j], arr[i]\n",
    "        \n",
    "    # step 3: Reverse the suffix\n",
    "    arr[i + 1:] = reversed(arr[i + 1:])\n",
    "        \n",
    "    return arr\n",
    "    \n",
    "\n",
    "print(next_permutation([2, 4, 7, 1, 0, 5]))\n",
    "print(next_permutation([1, 2, 3, 5, 6, 4]))"
   ]
  },
  {
   "cell_type": "code",
   "execution_count": 11,
   "id": "0e7fe200",
   "metadata": {},
   "outputs": [
    {
     "name": "stdout",
     "output_type": "stream",
     "text": [
      "[1, 2, 3]\n"
     ]
    }
   ],
   "source": [
    "print(next_permutation([3, 2, 1]))"
   ]
  },
  {
   "cell_type": "code",
   "execution_count": null,
   "id": "348c1431",
   "metadata": {},
   "outputs": [],
   "source": []
  },
  {
   "cell_type": "code",
   "execution_count": 18,
   "id": "b1dca9ff",
   "metadata": {},
   "outputs": [
    {
     "data": {
      "text/plain": [
       "'Even'"
      ]
     },
     "execution_count": 18,
     "metadata": {},
     "output_type": "execute_result"
    }
   ],
   "source": [
    "def checkOddEven(x):\n",
    "    if(x % 2 == 0):\n",
    "      # Complete the statement below\n",
    "      return \"Even\"\n",
    "    else:\n",
    "        # Complete the statement below\n",
    "        return \"Odd\"\n",
    "    \n",
    "checkOddEven(6)"
   ]
  },
  {
   "cell_type": "markdown",
   "id": "542af6fd",
   "metadata": {},
   "source": []
  },
  {
   "cell_type": "code",
   "execution_count": 31,
   "id": "34e444d2",
   "metadata": {},
   "outputs": [
    {
     "name": "stdout",
     "output_type": "stream",
     "text": [
      "3 5\n"
     ]
    },
    {
     "data": {
      "text/plain": [
       "True"
      ]
     },
     "execution_count": 31,
     "metadata": {},
     "output_type": "execute_result"
    }
   ],
   "source": []
  },
  {
   "cell_type": "markdown",
   "id": "8c081fc9",
   "metadata": {},
   "source": []
  },
  {
   "cell_type": "code",
   "execution_count": 2,
   "id": "aaf590a3",
   "metadata": {},
   "outputs": [
    {
     "name": "stdout",
     "output_type": "stream",
     "text": [
      "13\n"
     ]
    }
   ],
   "source": []
  },
  {
   "cell_type": "code",
   "execution_count": 9,
   "id": "d638779f",
   "metadata": {},
   "outputs": [
    {
     "data": {
      "text/plain": [
       "[17, 5, 2]"
      ]
     },
     "execution_count": 9,
     "metadata": {},
     "output_type": "execute_result"
    }
   ],
   "source": []
  },
  {
   "cell_type": "code",
   "execution_count": 20,
   "id": "6a4c8d2c",
   "metadata": {},
   "outputs": [
    {
     "name": "stdout",
     "output_type": "stream",
     "text": [
      "5 3 4 17 16 "
     ]
    },
    {
     "data": {
      "text/plain": [
       "[17, 5, 2]"
      ]
     },
     "execution_count": 20,
     "metadata": {},
     "output_type": "execute_result"
    }
   ],
   "source": []
  },
  {
   "cell_type": "raw",
   "id": "2c7adc99",
   "metadata": {},
   "source": []
  },
  {
   "cell_type": "code",
   "execution_count": 28,
   "id": "1ddff3b5",
   "metadata": {},
   "outputs": [
    {
     "data": {
      "text/plain": [
       "[0, 0, 1, 1, 2, 2]"
      ]
     },
     "execution_count": 28,
     "metadata": {},
     "output_type": "execute_result"
    }
   ],
   "source": []
  },
  {
   "cell_type": "code",
   "execution_count": 33,
   "id": "6624e282",
   "metadata": {},
   "outputs": [
    {
     "data": {
      "text/plain": [
       "[0, 0, 1, 1, 2, 2]"
      ]
     },
     "execution_count": 33,
     "metadata": {},
     "output_type": "execute_result"
    }
   ],
   "source": []
  },
  {
   "cell_type": "code",
   "execution_count": null,
   "id": "21106e3d",
   "metadata": {},
   "outputs": [],
   "source": []
  },
  {
   "cell_type": "code",
   "execution_count": null,
   "id": "10284f84",
   "metadata": {},
   "outputs": [],
   "source": []
  },
  {
   "cell_type": "code",
   "execution_count": null,
   "id": "19e3d473",
   "metadata": {},
   "outputs": [],
   "source": []
  },
  {
   "cell_type": "code",
   "execution_count": null,
   "id": "6a28090d",
   "metadata": {},
   "outputs": [],
   "source": []
  },
  {
   "cell_type": "code",
   "execution_count": null,
   "id": "d28d75a3",
   "metadata": {},
   "outputs": [],
   "source": []
  },
  {
   "cell_type": "code",
   "execution_count": null,
   "id": "4d3ae836",
   "metadata": {},
   "outputs": [],
   "source": []
  },
  {
   "cell_type": "code",
   "execution_count": null,
   "id": "1626ccbe",
   "metadata": {},
   "outputs": [],
   "source": []
  },
  {
   "cell_type": "code",
   "execution_count": null,
   "id": "31d8ae57",
   "metadata": {},
   "outputs": [],
   "source": []
  },
  {
   "cell_type": "code",
   "execution_count": null,
   "id": "4827f2b5",
   "metadata": {},
   "outputs": [],
   "source": []
  },
  {
   "cell_type": "code",
   "execution_count": null,
   "id": "aa16c72a",
   "metadata": {},
   "outputs": [],
   "source": []
  },
  {
   "cell_type": "code",
   "execution_count": null,
   "id": "f94a2f47",
   "metadata": {},
   "outputs": [],
   "source": []
  },
  {
   "cell_type": "code",
   "execution_count": null,
   "id": "cba13f93",
   "metadata": {},
   "outputs": [],
   "source": []
  },
  {
   "cell_type": "code",
   "execution_count": null,
   "id": "4ee30cf7",
   "metadata": {},
   "outputs": [],
   "source": []
  },
  {
   "cell_type": "code",
   "execution_count": 70,
   "id": "a2c6ca87",
   "metadata": {},
   "outputs": [
    {
     "name": "stdout",
     "output_type": "stream",
     "text": [
      "('_abc', '_ast', '_bisect', '_blake2', '_codecs', '_codecs_cn', '_codecs_hk', '_codecs_iso2022', '_codecs_jp', '_codecs_kr', '_codecs_tw', '_collections', '_contextvars', '_csv', '_datetime', '_functools', '_heapq', '_imp', '_io', '_json', '_locale', '_lsprof', '_md5', '_multibytecodec', '_opcode', '_operator', '_peg_parser', '_pickle', '_random', '_sha1', '_sha256', '_sha3', '_sha512', '_signal', '_sre', '_stat', '_statistics', '_string', '_struct', '_symtable', '_thread', '_tracemalloc', '_warnings', '_weakref', '_winapi', '_xxsubinterpreters', 'array', 'atexit', 'audioop', 'binascii', 'builtins', 'cmath', 'errno', 'faulthandler', 'gc', 'itertools', 'marshal', 'math', 'mmap', 'msvcrt', 'nt', 'parser', 'sys', 'time', 'winreg', 'xxsubtype', 'zlib')\n"
     ]
    }
   ],
   "source": [
    "import sys\n",
    "\n",
    "# List all built-in modules\n",
    "print(sys.builtin_module_names)"
   ]
  },
  {
   "cell_type": "markdown",
   "id": "24c60756",
   "metadata": {},
   "source": [
    "# Scipy"
   ]
  },
  {
   "cell_type": "code",
   "execution_count": 73,
   "id": "cc6f48dc",
   "metadata": {},
   "outputs": [
    {
     "data": {
      "text/plain": [
       "1.5253934026696339"
      ]
     },
     "execution_count": 73,
     "metadata": {},
     "output_type": "execute_result"
    }
   ],
   "source": [
    "from scipy.optimize import fsolve\n",
    "\n",
    "# Define the equation\n",
    "def equation(B):\n",
    "    return 85.64165 * B**3 + 875.025 * B**2 - 2340\n",
    "\n",
    "# Initial guess\n",
    "B_initial_guess = 1\n",
    "\n",
    "# Solve for B\n",
    "B_solution = fsolve(equation, B_initial_guess)\n",
    "\n",
    "B_solution[0]"
   ]
  },
  {
   "cell_type": "code",
   "execution_count": 5,
   "id": "4196b656",
   "metadata": {},
   "outputs": [
    {
     "name": "stdout",
     "output_type": "stream",
     "text": [
      "hello\n"
     ]
    }
   ],
   "source": [
    "def trim(str):\n",
    "    return str.strip()   \n",
    "\n",
    "def exists(str, x):\n",
    "    return str.find(x)   \n",
    "\n",
    "def titleIt(str):\n",
    "    return str.title()    \n",
    "\n",
    "def casesSwap(str):\n",
    "    return str.swapcase()\n",
    "\n",
    "print(trim(\"hello\"))"
   ]
  },
  {
   "cell_type": "code",
   "execution_count": 6,
   "id": "d2d2352f",
   "metadata": {},
   "outputs": [
    {
     "name": "stdout",
     "output_type": "stream",
     "text": [
      "2\n"
     ]
    }
   ],
   "source": [
    "print(exists(\"hello\", \"llo\"))"
   ]
  },
  {
   "cell_type": "code",
   "execution_count": 7,
   "id": "6d3eeb9f",
   "metadata": {},
   "outputs": [
    {
     "data": {
      "text/plain": [
       "'Hello'"
      ]
     },
     "execution_count": 7,
     "metadata": {},
     "output_type": "execute_result"
    }
   ],
   "source": [
    "titleIt(\"hello\")"
   ]
  },
  {
   "cell_type": "code",
   "execution_count": 8,
   "id": "01391644",
   "metadata": {},
   "outputs": [
    {
     "data": {
      "text/plain": [
       "'HeLlO'"
      ]
     },
     "execution_count": 8,
     "metadata": {},
     "output_type": "execute_result"
    }
   ],
   "source": [
    "casesSwap(\"hElLo\")"
   ]
  },
  {
   "cell_type": "markdown",
   "id": "de07a5ce",
   "metadata": {},
   "source": [
    "# SwAp_CaSe:"
   ]
  },
  {
   "cell_type": "code",
   "execution_count": 74,
   "id": "785dcff9",
   "metadata": {},
   "outputs": [
    {
     "name": "stdout",
     "output_type": "stream",
     "text": [
      "sAirAj\n",
      "swap_case string= SaIRaJ\n"
     ]
    }
   ],
   "source": [
    "def swap_case(s):\n",
    "    ans=\"\"\n",
    "    for i in s:\n",
    "        if i.isupper():\n",
    "            ans+=i.lower()\n",
    "        elif i.islower():\n",
    "            ans+=i.upper()\n",
    "        else:\n",
    "            ans+=i\n",
    "    print(\"swap_case string=\",ans)\n",
    "    \n",
    "s=input()\n",
    "swap_case(s)"
   ]
  },
  {
   "cell_type": "markdown",
   "id": "f126927b",
   "metadata": {},
   "source": [
    "### S.startswith('string2'), and S.endswith('string2')"
   ]
  },
  {
   "cell_type": "code",
   "execution_count": 3,
   "id": "50beb041",
   "metadata": {},
   "outputs": [
    {
     "name": "stdout",
     "output_type": "stream",
     "text": [
      "Yes\n"
     ]
    }
   ],
   "source": [
    "def gfg(S):\n",
    "    b = S.lower()\n",
    "    if(b.startswith(\"gfg\") and b.endswith(\"gfg\")):  \n",
    "        print (\"Yes\")\n",
    "    else:\n",
    "        print (\"No\")\n",
    "        \n",
    "        \n",
    "S = \"gFgabcdEGfG\"\n",
    "\n",
    "gfg(S)"
   ]
  },
  {
   "cell_type": "markdown",
   "id": "77b282a1",
   "metadata": {},
   "source": [
    "# Upper(),lower(),capitalize()"
   ]
  },
  {
   "cell_type": "code",
   "execution_count": null,
   "id": "f15346df",
   "metadata": {},
   "outputs": [],
   "source": [
    "s = input(\"name:\")\n",
    "\n",
    "result = s.upper()  # apple ==> APPLE\n",
    "\n",
    "capital = s.capitalize() # eagle ==> Eagle\n",
    "\n",
    "print(result)\n",
    "\n",
    "print(type(s))\n",
    "\n",
    "print(capital)"
   ]
  },
  {
   "cell_type": "markdown",
   "id": "07a05254",
   "metadata": {},
   "source": [
    "# to capitalize_first_letter_of_each_word  "
   ]
  },
  {
   "cell_type": "code",
   "execution_count": null,
   "id": "3c90443b",
   "metadata": {},
   "outputs": [],
   "source": [
    "def capitalize_first_letter(sentence):\n",
    "    words = sentence.split()\n",
    "    capitalized_words = [i.capitalize() for i in words]\n",
    "    return ' '.join(capitalized_words)\n",
    "\n",
    "sentence = \"this is a sample sentence\"\n",
    "print(capitalize_first_letter(sentence))\n",
    "\n",
    "print(type(capitalize_first_letter(sentence)))"
   ]
  },
  {
   "cell_type": "markdown",
   "id": "5ecf351b",
   "metadata": {},
   "source": [
    "## title() function"
   ]
  },
  {
   "cell_type": "code",
   "execution_count": null,
   "id": "588936f3",
   "metadata": {},
   "outputs": [],
   "source": [
    "sentence = \"this is a sample sentence\"\n",
    "sentence.title()"
   ]
  },
  {
   "cell_type": "markdown",
   "id": "389cf300",
   "metadata": {},
   "source": [
    "# split() and join() "
   ]
  },
  {
   "cell_type": "code",
   "execution_count": null,
   "id": "98d5bd9c",
   "metadata": {},
   "outputs": [],
   "source": [
    "def split_and_join(line):\n",
    "   a=line.split()\n",
    "   print(a)         #$ variable.split()\n",
    "    \n",
    "   b='-'.join(a)  \n",
    "   print(b)         # '-'.join(variable)\n",
    "   return a,b\n",
    "\n",
    "if __name__ == '__main__':\n",
    "    line = input()\n",
    "    result = split_and_join(line)\n",
    "    print(result)"
   ]
  },
  {
   "cell_type": "code",
   "execution_count": null,
   "id": "ad146d21",
   "metadata": {},
   "outputs": [],
   "source": [
    "zuz=\"chris alan\"\n",
    "a=zuz.split()\n",
    "print(list(a))\n",
    "for i in a:\n",
    "    print(i.capitalize(),end=\" \")"
   ]
  },
  {
   "cell_type": "markdown",
   "id": "634b0924",
   "metadata": {},
   "source": [
    "# import textwrap  ## textwrap.wrap(text,width)"
   ]
  },
  {
   "cell_type": "code",
   "execution_count": 26,
   "id": "77817ea2",
   "metadata": {},
   "outputs": [
    {
     "name": "stdout",
     "output_type": "stream",
     "text": [
      "['TextWrapper', '__all__', '__builtins__', '__cached__', '__doc__', '__file__', '__loader__', '__name__', '__package__', '__spec__', '_leading_whitespace_re', '_whitespace', '_whitespace_only_re', 'dedent', 'fill', 'indent', 're', 'shorten', 'wrap']\n"
     ]
    }
   ],
   "source": [
    "import textwrap\n",
    "print(dir(textwrap))"
   ]
  },
  {
   "cell_type": "code",
   "execution_count": 25,
   "id": "078cfb25",
   "metadata": {},
   "outputs": [
    {
     "name": "stdout",
     "output_type": "stream",
     "text": [
      "['AAB', 'CAA', 'ADA']\n",
      "AB\n",
      "AC\n",
      "AD\n"
     ]
    }
   ],
   "source": [
    "import textwrap\n",
    "\n",
    "h=\"AABCAAADA\"\n",
    "k=3\n",
    "sub_s=textwrap.wrap(h,k)\n",
    "print(sub_s)\n",
    "for i in sub_s:\n",
    "    u=\"\".join(set(i))\n",
    "    print(u)"
   ]
  },
  {
   "cell_type": "code",
   "execution_count": 27,
   "id": "b96464cb",
   "metadata": {},
   "outputs": [
    {
     "name": "stdout",
     "output_type": "stream",
     "text": [
      "This is a long\n",
      "string that we want\n",
      "to wrap within a\n",
      "certain width to\n",
      "make it easier to\n",
      "read.\n"
     ]
    }
   ],
   "source": [
    "import textwrap\n",
    "\n",
    "def wrap(string, max_width):\n",
    "    # Use textwrap.wrap() with the provided max_width\n",
    "    wrapped_lines = textwrap.wrap(string, max_width)\n",
    "    \n",
    "    # Join the wrapped lines into a single string using '\\n' as the separator\n",
    "    wrapped_string = '\\n'.join(wrapped_lines)\n",
    "    \n",
    "    # Return the wrapped string\n",
    "    return wrapped_string\n",
    "\n",
    "# Example usage:\n",
    "wrapped_text = wrap(\"This is a long string that we want to wrap within a certain width to make it easier to read.\", 20)\n",
    "print(wrapped_text)"
   ]
  },
  {
   "cell_type": "code",
   "execution_count": 28,
   "id": "34ef6db6",
   "metadata": {},
   "outputs": [
    {
     "name": "stdout",
     "output_type": "stream",
     "text": [
      "bbbaaababa\n",
      "3\n",
      "3\n"
     ]
    }
   ],
   "source": [
    "# tcs nqt\n",
    "\"\"\"\n",
    "input: \n",
    "    bbbaaababa >> value of str\n",
    "    3 >> val of L\n",
    "    \n",
    "output:\n",
    "    3 >> maximum No. of a's\n",
    "\"\"\"\n",
    "\n",
    "str = input()\n",
    "n = int(input())\n",
    "\n",
    "max_val = 0\n",
    "count = 0\n",
    "for i in range(len(str)):\n",
    "    if i%n==0:                             # 0%3==0 & 3%3==0 & 6%3==0 \n",
    "        max_val = max(count, max_val)\n",
    "        count = 0\n",
    "    if str[i]=='a':\n",
    "        count+=1\n",
    "    \n",
    "if count > max_val:\n",
    "    max_val = count\n",
    "    \n",
    "print(max_val)"
   ]
  },
  {
   "cell_type": "code",
   "execution_count": null,
   "id": "86cb1b1d",
   "metadata": {},
   "outputs": [],
   "source": []
  },
  {
   "cell_type": "code",
   "execution_count": 29,
   "id": "e0c0b05b",
   "metadata": {},
   "outputs": [
    {
     "name": "stdout",
     "output_type": "stream",
     "text": [
      "['bbb', 'aaa', 'bab', 'a']\n",
      "3\n"
     ]
    }
   ],
   "source": [
    "import textwrap\n",
    "\n",
    "wr = textwrap.wrap(str,n)\n",
    "print(wr)\n",
    "len_a=0\n",
    "for i in range(len(wr)):\n",
    "    if 'a' in wr[i]:\n",
    "        len_a+=1\n",
    "print(len_a)"
   ]
  },
  {
   "cell_type": "code",
   "execution_count": 30,
   "id": "04f443fa",
   "metadata": {},
   "outputs": [
    {
     "name": "stdout",
     "output_type": "stream",
     "text": [
      "AB\n",
      "CA\n",
      "AD\n",
      "['AB', 'CA', 'AD']\n"
     ]
    }
   ],
   "source": [
    "#HackerRank Problem\n",
    "\n",
    "s = \"AABCAAADA\"\n",
    "k = 3\n",
    "sub = \"\"\n",
    "l = len(s)\n",
    "lst=[]\n",
    "for i in range(l):\n",
    "    sub += s[i]\n",
    "    if len(sub) == k:\n",
    "        # Remove duplicates from the substring\n",
    "        sub_2 =''.join(sorted(set(sub), key=sub.index))\n",
    "        lst.append(sub_2)\n",
    "        print(sub_2)\n",
    "        sub=\"\"\n",
    "print(lst)"
   ]
  },
  {
   "cell_type": "markdown",
   "id": "516ae67c",
   "metadata": {},
   "source": [
    "# Dictionary"
   ]
  },
  {
   "cell_type": "code",
   "execution_count": 49,
   "id": "c9faaa53",
   "metadata": {},
   "outputs": [
    {
     "name": "stdout",
     "output_type": "stream",
     "text": [
      "{'john': 100, 'ala': 200, 'ilia': 150, 'sudan': 80, 'mercy': 300}\n"
     ]
    }
   ],
   "source": [
    "# Data\n",
    "names = [\"john\", \"ala\", \"ilia\", \"sudan\", \"mercy\"]\n",
    "marks = [100, 200, 150, 80, 300]\n",
    "\n",
    "names, marks = arr\n",
    "\n",
    "def create_dict(arr):\n",
    "    #unpack the tuple into names and marks\n",
    "    \n",
    "    \n",
    "    return {name:mark for name,mark in zip(names, marks)}\n",
    "\n",
    "\n",
    "\n",
    "result = create_dict(arr)\n",
    "\n",
    "print(result)"
   ]
  },
  {
   "cell_type": "code",
   "execution_count": 42,
   "id": "6d5b8bfd",
   "metadata": {},
   "outputs": [
    {
     "data": {
      "text/plain": [
       "{'john': 100, 'ala': 200, 'ilia': 150, 'sudan': 80, 'mercy': 300}"
      ]
     },
     "execution_count": 42,
     "metadata": {},
     "output_type": "execute_result"
    }
   ],
   "source": [
    "def create_dict(arr):\n",
    "    \n",
    "    dict = {}\n",
    "    \n",
    "    for name, mark in arr:\n",
    "        dict[name] = mark\n",
    "    \n",
    "    \n",
    "    \n",
    "    return dict\n",
    "\n",
    "\n",
    "arr = [(\"john\", 100), (\"ala\", 200), (\"ilia\", 150), (\"sudan\", 80), (\"mercy\", 300)]\n",
    "\n",
    "create_dict(arr)"
   ]
  },
  {
   "cell_type": "code",
   "execution_count": null,
   "id": "2aa932ef",
   "metadata": {},
   "outputs": [],
   "source": [
    "# insert into dictionary\n",
    "def insert_dict(query, dict):\n",
    "    dict[query[1]]=query[2]\n",
    "    \n",
    "    \n",
    "\n",
    "# deleting from dictionary\n",
    "def del_dict(query, dict):\n",
    "    if(query[1] in dict):\n",
    "        del dict[query[1]]\n",
    "        return True\n",
    "    else:\n",
    "        return False\n",
    "    \n",
    "    \n",
    "    \n",
    "\n",
    "# print marks of required name\n",
    "def print_dict(key, dict):\n",
    "    if key in dict:\n",
    "        print(f\"Marks of {key} is {dict[key]}\")\n",
    "    else:\n",
    "        return False"
   ]
  },
  {
   "cell_type": "markdown",
   "id": "20cfa741",
   "metadata": {},
   "source": [
    "# get() method\n",
    "\n",
    "the get() method is used with dictionaries. It provides a way to safely access values by their keys without raising a KeyError if the key is missing.\n",
    "\n",
    "\n",
    "# syntax\n",
    "\n",
    "​\n",
    "dict.get(key, default_value)"
   ]
  },
  {
   "cell_type": "code",
   "execution_count": 3,
   "id": "816676cc",
   "metadata": {},
   "outputs": [
    {
     "name": "stdout",
     "output_type": "stream",
     "text": [
      "{'i': 5, 't': 3, 'n': 3, 's': 2, 'h': 2}\n",
      "i 5\n"
     ]
    }
   ],
   "source": [
    "s = \"itnisinitsithhn\"\n",
    "\n",
    "ch = {}\n",
    "\n",
    "for i in s:\n",
    "    if i in ch:\n",
    "        ch[i] += 1\n",
    "    else:\n",
    "        ch[i] = 1\n",
    "        \n",
    "print(ch)\n",
    "\n",
    "max_char = max(ch,key = ch.get)\n",
    "\n",
    "max_value = ch.get(max_char)\n",
    "\n",
    "print(max_char, max_value)\n"
   ]
  },
  {
   "cell_type": "code",
   "execution_count": 4,
   "id": "1c8e0845",
   "metadata": {},
   "outputs": [
    {
     "name": "stdout",
     "output_type": "stream",
     "text": [
      "Alice\n",
      "No address provided\n"
     ]
    }
   ],
   "source": [
    "data = {'user': {'name': 'Alice', 'age': 30}}\n",
    "\n",
    "# Safe access\n",
    "name = data.get('user', {}).get('name', 'Unknown')\n",
    "print(name)  # Output: Alice\n",
    "\n",
    "# Missing key\n",
    "address = data.get('user', {}).get('address', 'No address provided')\n",
    "print(address)  # Output: No address provided\n"
   ]
  },
  {
   "cell_type": "markdown",
   "id": "0d89d4ba",
   "metadata": {},
   "source": [
    "# Fibonacii"
   ]
  },
  {
   "cell_type": "code",
   "execution_count": 62,
   "id": "e044fca9",
   "metadata": {},
   "outputs": [
    {
     "data": {
      "text/plain": [
       "6"
      ]
     },
     "execution_count": 62,
     "metadata": {},
     "output_type": "execute_result"
    }
   ],
   "source": [
    "def countFibonacciNumbers(arr):\n",
    "        n = max(arr)\n",
    "        fib = set()\n",
    "        a = 0\n",
    "        b = 1\n",
    "        counter = 0\n",
    "        while a <= n:\n",
    "            fib.add(a)\n",
    "            a, b = b, a+b\n",
    "        \n",
    "        for i in arr:\n",
    "            if i in fib:\n",
    "                counter+=1\n",
    "        \n",
    "        return counter\n",
    "arr = [4, 2, 8, 5, 20, 1, 40, 13, 5, 23]\n",
    "\n",
    "countFibonacciNumbers(arr)"
   ]
  },
  {
   "cell_type": "code",
   "execution_count": 101,
   "id": "5506e01d",
   "metadata": {},
   "outputs": [
    {
     "name": "stdout",
     "output_type": "stream",
     "text": [
      "27777890035288\n",
      "[2, 8, 34, 144, 610, 2584, 10946, 46368, 196418, 832040, 3524578, 14930352, 63245986, 267914296, 1134903170, 4807526976, 20365011074, 86267571272, 365435296162, 1548008755920, 6557470319842, 27777890035288]\n"
     ]
    }
   ],
   "source": [
    "# Given a positive integer N, find the Nth Even Fibonacci number\n",
    "\n",
    "def nthEvenFibonacci (n):\n",
    "        l = list()\n",
    "        a = 0\n",
    "        b = 1\n",
    "        for i in range(10000000000000000000):\n",
    "            a, b = b , a+b\n",
    "            if a % 2 == 0:\n",
    "                l.append(a)\n",
    "            if len(l) == n:\n",
    "                break\n",
    "        print(l[n-1])\n",
    "        print(l)\n",
    "        \n",
    "nthEvenFibonacci (22)"
   ]
  },
  {
   "cell_type": "code",
   "execution_count": 103,
   "id": "5d7ff650",
   "metadata": {},
   "outputs": [
    {
     "name": "stdout",
     "output_type": "stream",
     "text": [
      "829778862\n"
     ]
    }
   ],
   "source": [
    "def nthEvenFibonacci(n):\n",
    "    MOD = 1000000007\n",
    "\n",
    "    # Base cases\n",
    "    if n == 1:\n",
    "        return 2\n",
    "    if n == 2:\n",
    "        return 8\n",
    "\n",
    "    # Iterative computation of even Fibonacci numbers\n",
    "    prev2, prev1 = 2, 8  # E_1 = 2, E_2 = 8\n",
    "\n",
    "    for _ in range(3, n + 1):\n",
    "        current = (4 * prev1 + prev2) % MOD\n",
    "        prev2, prev1 = prev1, current\n",
    "\n",
    "    return prev1\n",
    "\n",
    "# Example Usage\n",
    "n = 345\n",
    "result = nthEvenFibonacci(n)\n",
    "print(result)  # Output: 829778862\n"
   ]
  },
  {
   "cell_type": "markdown",
   "id": "f612ac69",
   "metadata": {},
   "source": [
    "# Dictionary Comprehension"
   ]
  },
  {
   "cell_type": "code",
   "execution_count": 31,
   "id": "6955a270",
   "metadata": {},
   "outputs": [
    {
     "name": "stdout",
     "output_type": "stream",
     "text": [
      "{'Alex': 81, 'Emilia': 89, 'John': 22, 'Ross': 79, 'Clark': 61, 'Joey': 26}\n"
     ]
    }
   ],
   "source": [
    "import random\n",
    "\n",
    "names = ['Alex', 'Emilia', 'John', 'Ross', 'Clark', 'Joey']\n",
    "\n",
    "#syntax :\n",
    "\n",
    "# dict = {new_key:new_value for item in iterable}\n",
    "\n",
    "\n",
    "student_scores = {student:random.randint(20,100) for student in names}\n",
    "\n",
    "print(student_scores)"
   ]
  },
  {
   "cell_type": "code",
   "execution_count": 32,
   "id": "f91224c0",
   "metadata": {},
   "outputs": [
    {
     "name": "stdout",
     "output_type": "stream",
     "text": [
      "{'Alex': 81, 'Emilia': 89, 'Ross': 79, 'Clark': 61}\n"
     ]
    }
   ],
   "source": [
    "# conditional dictionary comprehension\n",
    "\n",
    "# syntax :\n",
    "\n",
    "# new_dict = {new_key:new_value for (key,value) in dict.items() if condtion}\n",
    "\n",
    "\n",
    "passed_students = {student:score for (student, score) in student_scores.items() if score >= 40}\n",
    "\n",
    "print(passed_students)"
   ]
  },
  {
   "cell_type": "code",
   "execution_count": 33,
   "id": "38c82d4f",
   "metadata": {},
   "outputs": [
    {
     "name": "stdout",
     "output_type": "stream",
     "text": [
      "{'What': 4, 'is': 2, 'the': 3, 'Airspeed': 8, 'Velocity': 8, 'of': 2, 'an': 2, 'Unladen': 7, 'Swallow?': 8}\n"
     ]
    }
   ],
   "source": [
    "sentence = \"What is the Airspeed Velocity of an Unladen Swallow?\"\n",
    "\n",
    "\n",
    "result = {word:len(word) for word in sentence.split()}\n",
    "print(result)"
   ]
  },
  {
   "cell_type": "code",
   "execution_count": 34,
   "id": "42e4a886",
   "metadata": {},
   "outputs": [
    {
     "name": "stdout",
     "output_type": "stream",
     "text": [
      "{'Monday': 53.6, 'Tuesday': 57.2, 'Wednesday': 59.0, 'Thursday': 57.2, 'Friday': 69.8, 'Saturday': 71.6, 'Sunday': 75.2}\n"
     ]
    }
   ],
   "source": [
    "weather_c = {\"Monday\": 12, \"Tuesday\": 14, \"Wednesday\": 15, \"Thursday\": 14, \"Friday\": 21, \"Saturday\": 22, \"Sunday\": 24}\n",
    "\n",
    "weather_f = {day:temp_c*9/5+32 for (day, temp_c) in weather_c.items()}\n",
    "\n",
    "print(weather_f)"
   ]
  },
  {
   "cell_type": "code",
   "execution_count": null,
   "id": "9d3d5663",
   "metadata": {},
   "outputs": [],
   "source": []
  },
  {
   "cell_type": "markdown",
   "id": "b4924e43",
   "metadata": {},
   "source": [
    "# LAMBDA FUNCTION"
   ]
  },
  {
   "cell_type": "code",
   "execution_count": 35,
   "id": "319ec05f",
   "metadata": {},
   "outputs": [
    {
     "name": "stdout",
     "output_type": "stream",
     "text": [
      "7\n"
     ]
    }
   ],
   "source": [
    "sum = lambda a, b: a + b\n",
    "print(sum(3, 4))"
   ]
  },
  {
   "cell_type": "code",
   "execution_count": 36,
   "id": "5c8b86b2",
   "metadata": {},
   "outputs": [
    {
     "name": "stdout",
     "output_type": "stream",
     "text": [
      "[(1, 2), (5, -1), (15, 1), (20, 3)]\n"
     ]
    }
   ],
   "source": [
    "point2D = [(1,2),(15,1),(5,-1),(20,3)]\n",
    "\n",
    "point_2D_sorted = sorted(point2D , key = lambda x:x[0] + x[1]) # sort on thr basis of sum of two numbers\n",
    "print(point_2D_sorted)"
   ]
  },
  {
   "cell_type": "code",
   "execution_count": null,
   "id": "6e97cf4f",
   "metadata": {},
   "outputs": [],
   "source": []
  },
  {
   "cell_type": "code",
   "execution_count": null,
   "id": "d8e1c011",
   "metadata": {},
   "outputs": [],
   "source": [
    "python_students = [['Harry', 37.21,'a'], ['Berry', 37.21,'b'], ['Tina', 37.2,'d'], ['Akriti', 41,'e'], ['Harsh', 39,'c']]\n",
    "\n",
    "#python_students.sort(key=lambda x: x[1]) creates Object  \n",
    "                            \n",
    "# Sort the list of students based by their grades\n",
    "sorted_data = sorted(python_students, key=lambda x: x[1])\n",
    "print(\"using sorted__\",sorted_data)\n",
    "\n",
    "python_students.sort(key=lambda x: x[2],reverse = True) # Sort the list of students based by letters\n",
    "print(\"reverse letters sorted :\",python_students)"
   ]
  },
  {
   "cell_type": "code",
   "execution_count": null,
   "id": "26c1b7d2",
   "metadata": {},
   "outputs": [],
   "source": [
    "python_students.sort()   # Sort the list of students based by their names\n",
    "print(python_students)"
   ]
  },
  {
   "cell_type": "markdown",
   "id": "70581910",
   "metadata": {},
   "source": [
    "####  Print names of students with the second lowest grade"
   ]
  },
  {
   "cell_type": "code",
   "execution_count": null,
   "id": "48f2c74e",
   "metadata": {},
   "outputs": [],
   "source": [
    "python_students = [['Harry', 37.21], ['Berry', 37.21], ['Tina', 37.2], ['Akriti', 41], ['Harsh', 39]]\n",
    "\n",
    "# Sort the list of students based on their grades\n",
    "python_students.sort(key=lambda x: x[1])\n",
    "\n",
    "# Find the second lowest grade\n",
    "\n",
    "second_lowest_grade = sorted(set(i[1] for i in python_students))[1]\n",
    "\n",
    "#for sorting names\n",
    "python_students.sort()\n",
    "\n",
    "# Print names of students with the second lowest grade\n",
    "for student in python_students:\n",
    "    if student[1] == second_lowest_grade:\n",
    "        print(student[0])"
   ]
  },
  {
   "cell_type": "code",
   "execution_count": null,
   "id": "30a022ef",
   "metadata": {},
   "outputs": [],
   "source": [
    "# Given list of students and their grades\n",
    "python_students = [['Akriti', 41], ['Harsh', 39], ['Berry', 37.21], ['Harry', 37.21], ['Tina', 37.2]]\n",
    "\n",
    "# Sorting the list by grades\n",
    "sorted_students = sorted(python_students, key=lambda x: x[1])\n",
    "\n",
    "# Finding the second lowest grade\n",
    "grades = []\n",
    "for i in sorted_students:\n",
    "    grades.append(i[1])\n",
    "second_lowest_grade = sorted(set(grades))[1]\n",
    "\n",
    "# Finding students with the second lowest grade\n",
    "for student in python_students:\n",
    "    if student[1] == second_lowest_grade:\n",
    "        print(student[0])\n",
    "\n",
    "# Output the second lowest grade and students\n",
    "print(\"Second Lowest Grade:\", second_lowest_grade)\n"
   ]
  },
  {
   "cell_type": "markdown",
   "id": "518bfad6",
   "metadata": {},
   "source": [
    "## difference_map & filter"
   ]
  },
  {
   "cell_type": "code",
   "execution_count": 37,
   "id": "4e49c772",
   "metadata": {},
   "outputs": [
    {
     "name": "stdout",
     "output_type": "stream",
     "text": [
      "[2, 4, 6, 8, 10]\n"
     ]
    }
   ],
   "source": [
    "#filter\n",
    "def is_even(num):\n",
    "    return num % 2 == 0\n",
    "\n",
    "numbers = [1, 2, 3, 4, 5, 6, 7, 8, 9, 10]\n",
    "filtered_numbers = list(filter(is_even, numbers))\n",
    "\n",
    "print(filtered_numbers) "
   ]
  },
  {
   "cell_type": "code",
   "execution_count": 38,
   "id": "7169ce18",
   "metadata": {},
   "outputs": [
    {
     "name": "stdout",
     "output_type": "stream",
     "text": [
      "[False, True, False, True, False, True, False, True, False, True]\n"
     ]
    }
   ],
   "source": [
    "#map\n",
    "def is_even(num):\n",
    "    return num % 2 == 0\n",
    "\n",
    "numbers = [1, 2, 3, 4, 5, 6, 7, 8, 9, 10]\n",
    "filtered_numbers = list(map(is_even, numbers))\n",
    "\n",
    "print(filtered_numbers) "
   ]
  },
  {
   "cell_type": "markdown",
   "id": "9e838c66",
   "metadata": {},
   "source": [
    "## filter(lambda)"
   ]
  },
  {
   "cell_type": "code",
   "execution_count": 39,
   "id": "e2497faf",
   "metadata": {},
   "outputs": [
    {
     "name": "stdout",
     "output_type": "stream",
     "text": [
      "negative tuple (-1, -2, -3)\n",
      "possitive list [10, 20, 30]\n"
     ]
    }
   ],
   "source": [
    "lst=[10,20,30,-1,-2,-3]\n",
    "res=tuple(filter(lambda x:x<0,lst))\n",
    "print(\"negative tuple\",res)\n",
    "\n",
    "\n",
    "res=list(filter(lambda x:x>0,lst))\n",
    "print(\"possitive list\",res)"
   ]
  },
  {
   "cell_type": "markdown",
   "id": "fcc92c29",
   "metadata": {},
   "source": [
    "# map"
   ]
  },
  {
   "cell_type": "raw",
   "id": "b27e81e1",
   "metadata": {},
   "source": [
    "Purpose: \n",
    "    The 'map' function is used to apply a specific function to each item in an iterable (like a list or array) and\n",
    "    return a new iterable with the results.\n",
    "    \n",
    "How it works: \n",
    "    You provide a function and an iterable, and 'map' applies the function to each element of the iterable,\n",
    "    returning a new iterable of the transformed elements."
   ]
  },
  {
   "cell_type": "markdown",
   "id": "6e397500",
   "metadata": {},
   "source": [
    "## map(lambda)"
   ]
  },
  {
   "cell_type": "code",
   "execution_count": null,
   "id": "147a53e9",
   "metadata": {
    "scrolled": true
   },
   "outputs": [],
   "source": [
    "lsti=[1,2,3,4,5]\n",
    "res=list(map(lambda x:x**3,lsti))\n",
    "print(res)"
   ]
  },
  {
   "cell_type": "code",
   "execution_count": null,
   "id": "0765dd1c",
   "metadata": {},
   "outputs": [],
   "source": [
    "import functools \n",
    "print(dir(functools))"
   ]
  },
  {
   "cell_type": "markdown",
   "id": "feba4f7c",
   "metadata": {},
   "source": [
    "## reduce(lambda)"
   ]
  },
  {
   "cell_type": "raw",
   "id": "28cf21ac",
   "metadata": {},
   "source": [
    "Purpose: \n",
    "    The 'reduce' function is used to apply a binary function cumulatively to the items of an iterable,\n",
    "    reducing it to a single value.\n",
    "    \n",
    "How it works:\n",
    "    You provide a binary function (a function that takes two arguments) and an iterable, and \n",
    "    reduce applies the function to the first two elements, then to the result and the next element, and \n",
    "    so on, until the iterable is reduced to a single value."
   ]
  },
  {
   "cell_type": "code",
   "execution_count": null,
   "id": "c7ea53fa",
   "metadata": {},
   "outputs": [],
   "source": [
    "from functools import reduce\n",
    "\n",
    "numbers = [1, 2, 3, 4, 5]\n",
    "result = reduce(lambda x, y: x + y, numbers)\n",
    "\n",
    "print(result)"
   ]
  },
  {
   "cell_type": "code",
   "execution_count": null,
   "id": "0c105328",
   "metadata": {},
   "outputs": [],
   "source": [
    "from functools import reduce\n",
    "\n",
    "numbers = [7, 2, 9, 1, 5]\n",
    "result = reduce(lambda x, y: x if x > y else y, numbers)\n",
    "\n",
    "print(result)"
   ]
  },
  {
   "cell_type": "code",
   "execution_count": null,
   "id": "de43651a",
   "metadata": {},
   "outputs": [],
   "source": [
    "#  implementing max() function, using \n",
    "import functools\n",
    "print (functools.reduce(lambda a,b: a if (a > b) else b, [7, 12, 45, 100, 15]))"
   ]
  },
  {
   "cell_type": "code",
   "execution_count": null,
   "id": "3d5cdd57",
   "metadata": {},
   "outputs": [],
   "source": [
    "from functools import reduce\n",
    "print (reduce(lambda a,b: a if (a > b) else b, [7, 12, 45, 100, 15]))"
   ]
  },
  {
   "cell_type": "code",
   "execution_count": null,
   "id": "b8949252",
   "metadata": {},
   "outputs": [],
   "source": [
    "from functools import reduce\n",
    "from collections import Counter\n",
    "\n",
    "words = [\"apple\", \"banana\", \"apple\", \"orange\", \"banana\", \"banana\"]\n",
    "frequency = reduce(lambda acc, word: acc.update({word: acc.get(word, 0) + 1}) or acc, words, Counter())\n",
    "print(frequency)  # Output: Counter({'banana': 3, 'apple': 2, 'orange': 1})\n",
    ","
   ]
  },
  {
   "cell_type": "markdown",
   "id": "be61a594",
   "metadata": {},
   "source": [
    "# collections : Counter , namedtuple , orderedDict , defaultdict , deque"
   ]
  },
  {
   "cell_type": "code",
   "execution_count": null,
   "id": "21a8f972",
   "metadata": {},
   "outputs": [],
   "source": [
    "import collections\n",
    "print(dir(collections))"
   ]
  },
  {
   "cell_type": "markdown",
   "id": "cc0954ba",
   "metadata": {},
   "source": [
    "# Counter"
   ]
  },
  {
   "cell_type": "markdown",
   "id": "357853fa",
   "metadata": {},
   "source": [
    "#                      from collections import Counter  ## C is capital in Counter"
   ]
  },
  {
   "cell_type": "code",
   "execution_count": null,
   "id": "42aec2c7",
   "metadata": {},
   "outputs": [],
   "source": [
    "from collections import Counter \n",
    "\n",
    "                        # C is capital in Counter\n",
    "\n",
    "myList = [1,1,2,3,4,5,3,2,3,4,2,1,2,3]\n",
    "\n",
    "print(Counter(myList))"
   ]
  },
  {
   "cell_type": "code",
   "execution_count": null,
   "id": "bc0ac396",
   "metadata": {},
   "outputs": [],
   "source": [
    "#print in a sorted manner and their counts \n",
    "print(Counter(myList).items())"
   ]
  },
  {
   "cell_type": "code",
   "execution_count": null,
   "id": "18aed7ce",
   "metadata": {},
   "outputs": [],
   "source": [
    "from collections import Counter\n",
    "\n",
    "myList = ['a','b','c','a','n','b','s','d','c','b','a','n','d','a','c']\n",
    "b=Counter(myList)\n",
    "print(b)"
   ]
  },
  {
   "cell_type": "code",
   "execution_count": null,
   "id": "e37ac741",
   "metadata": {},
   "outputs": [],
   "source": [
    "a=Counter(myList).items()\n",
    "print(a)"
   ]
  },
  {
   "cell_type": "code",
   "execution_count": null,
   "id": "af9dc046",
   "metadata": {},
   "outputs": [],
   "source": [
    "from collections import Counter\n",
    "a=\"aaaaabbbbcccdd\"\n",
    "my_count=Counter(a)\n",
    "print(my_count.most_common(1)) \n",
    "                                # counter(var).most_common(index_upto) \n",
    "print(Counter(a).most_common(2))\n",
    "print(Counter(a).most_common(3))\n",
    "print(\"###\")\n",
    "print(my_count.most_common(1)[0][0])     #   most_common"
   ]
  },
  {
   "cell_type": "markdown",
   "id": "2df46868",
   "metadata": {},
   "source": [
    "The first line contains , the number of shoes.\n",
    "The second line contains the space separated list of all the shoe sizes in the shop.\n",
    "The third line contains , the number of customers.\n",
    "The next  lines contain the space separated values of the size desired by the customer and , the price of the shoe."
   ]
  },
  {
   "cell_type": "code",
   "execution_count": null,
   "id": "3ff4118a",
   "metadata": {},
   "outputs": [],
   "source": [
    "n= int(input('the number of shoes:'))\n",
    "stock = list(map(int,input('the space separated list of all the shoe sizes in the shop:').split()))\n",
    "\n",
    "x=int(input('the number of customers:'))\n",
    "\n",
    "from collections import Counter\n",
    "\n",
    "dict=Counter(stock)\n",
    "print(dict)\n",
    "\n",
    "p=0\n",
    "for i in range(x):\n",
    "    size,price = map(int,input().split())\n",
    "    \n",
    "    if(dict[size]):\n",
    "        dict[size]-=1\n",
    "        p+=price\n",
    "        \n",
    "print(p)"
   ]
  },
  {
   "cell_type": "code",
   "execution_count": null,
   "id": "2aa2c6c7",
   "metadata": {},
   "outputs": [],
   "source": [
    "a = \"Harry Potter and The Prisoner Of Azkaban\"\n",
    "a = a.casefold()\n",
    "print(a)\n",
    "v = \"aeiou\"\n",
    "\n",
    "count={}.fromkeys(v,0)\n",
    "\n",
    "print(count)\n",
    "\n",
    "for i in a:\n",
    "    if i in v:\n",
    "        count[i]+=1\n",
    "print(\"----#----#-----#-----#----#----\")\n",
    "print(count)"
   ]
  },
  {
   "cell_type": "code",
   "execution_count": null,
   "id": "3931de93",
   "metadata": {},
   "outputs": [],
   "source": [
    "from collections import Counter\n",
    "\n",
    "a= \"Harry potter and The Prisoner Of Azkaban\"\n",
    "\n",
    "a=a.casefold()\n",
    "\n",
    "v=\"aeiou\"\n",
    "\n",
    "c=Counter(a)\n",
    "print(c)\n",
    "d={}\n",
    "for i in c:\n",
    "    if i in v:\n",
    "        d[i] = c[i]\n",
    "\n",
    "print(d)"
   ]
  },
  {
   "cell_type": "markdown",
   "id": "63c13911",
   "metadata": {},
   "source": [
    "## OrderedDict : "
   ]
  },
  {
   "cell_type": "code",
   "execution_count": null,
   "id": "c5432476",
   "metadata": {},
   "outputs": [],
   "source": [
    "from collections import OrderedDict\n",
    "\n",
    "dct=OrderedDict()\n",
    "\n",
    "dct['c']=3\n",
    "dct['b']=2\n",
    "dct['d']=4\n",
    "dct['a']=1\n",
    "\n",
    "print(dct)"
   ]
  },
  {
   "cell_type": "code",
   "execution_count": null,
   "id": "260c9e23",
   "metadata": {},
   "outputs": [],
   "source": [
    "print(dict(dct))"
   ]
  },
  {
   "cell_type": "code",
   "execution_count": null,
   "id": "6dbe8de1",
   "metadata": {},
   "outputs": [],
   "source": []
  },
  {
   "cell_type": "markdown",
   "id": "c7387de4",
   "metadata": {},
   "source": [
    "# defaultdict :"
   ]
  },
  {
   "cell_type": "code",
   "execution_count": 40,
   "id": "d8ece1d5",
   "metadata": {},
   "outputs": [
    {
     "name": "stdout",
     "output_type": "stream",
     "text": [
      "defaultdict(<class 'int'>, {'a': 2, 'b': 1})\n",
      "if key not present print default value 0\n",
      "{'a': 2, 'b': 1, 'c': 0}\n"
     ]
    }
   ],
   "source": [
    "from collections import defaultdict\n",
    "\n",
    "d = defaultdict(int)\n",
    "d['a'] = 2\n",
    "d['b'] = 1\n",
    "\n",
    "print(d)\n",
    "print(\"if key not present print default value\",d['c']) #default Value 0\n",
    "print(dict(d))"
   ]
  },
  {
   "cell_type": "code",
   "execution_count": 43,
   "id": "8eb4ad45",
   "metadata": {},
   "outputs": [
    {
     "name": "stdout",
     "output_type": "stream",
     "text": [
      "2 2\n",
      "2\n"
     ]
    },
    {
     "ename": "TypeError",
     "evalue": "'str' object is not callable",
     "output_type": "error",
     "traceback": [
      "\u001b[1;31m---------------------------------------------------------------------------\u001b[0m",
      "\u001b[1;31mTypeError\u001b[0m                                 Traceback (most recent call last)",
      "\u001b[1;32m~\\AppData\\Local\\Temp/ipykernel_11708/1427243995.py\u001b[0m in \u001b[0;36m<module>\u001b[1;34m\u001b[0m\n\u001b[0;32m      5\u001b[0m \u001b[0md\u001b[0m \u001b[1;33m=\u001b[0m \u001b[0mdefaultdict\u001b[0m\u001b[1;33m(\u001b[0m\u001b[0mlist\u001b[0m\u001b[1;33m)\u001b[0m\u001b[1;33m\u001b[0m\u001b[1;33m\u001b[0m\u001b[0m\n\u001b[0;32m      6\u001b[0m \u001b[1;32mfor\u001b[0m \u001b[0mi\u001b[0m \u001b[1;32min\u001b[0m \u001b[0mrange\u001b[0m\u001b[1;33m(\u001b[0m\u001b[0mn\u001b[0m\u001b[1;33m)\u001b[0m\u001b[1;33m:\u001b[0m\u001b[1;33m\u001b[0m\u001b[1;33m\u001b[0m\u001b[0m\n\u001b[1;32m----> 7\u001b[1;33m     \u001b[0md\u001b[0m\u001b[1;33m[\u001b[0m\u001b[0mstr\u001b[0m\u001b[1;33m(\u001b[0m\u001b[0minput\u001b[0m\u001b[1;33m(\u001b[0m\u001b[1;33m)\u001b[0m\u001b[1;33m)\u001b[0m\u001b[1;33m]\u001b[0m\u001b[1;33m.\u001b[0m\u001b[0mappend\u001b[0m\u001b[1;33m(\u001b[0m\u001b[0mi\u001b[0m\u001b[1;33m+\u001b[0m\u001b[1;36m1\u001b[0m\u001b[1;33m)\u001b[0m\u001b[1;33m\u001b[0m\u001b[1;33m\u001b[0m\u001b[0m\n\u001b[0m\u001b[0;32m      8\u001b[0m \u001b[1;32mfor\u001b[0m \u001b[0mi\u001b[0m \u001b[1;32min\u001b[0m \u001b[0mrange\u001b[0m\u001b[1;33m(\u001b[0m\u001b[0mm\u001b[0m\u001b[1;33m)\u001b[0m\u001b[1;33m:\u001b[0m\u001b[1;33m\u001b[0m\u001b[1;33m\u001b[0m\u001b[0m\n\u001b[0;32m      9\u001b[0m     \u001b[0mlst_m\u001b[0m\u001b[1;33m.\u001b[0m\u001b[0mappend\u001b[0m\u001b[1;33m(\u001b[0m\u001b[0mstr\u001b[0m\u001b[1;33m(\u001b[0m\u001b[0minput\u001b[0m\u001b[1;33m(\u001b[0m\u001b[1;33m)\u001b[0m\u001b[1;33m)\u001b[0m\u001b[1;33m)\u001b[0m\u001b[1;33m\u001b[0m\u001b[1;33m\u001b[0m\u001b[0m\n",
      "\u001b[1;31mTypeError\u001b[0m: 'str' object is not callable"
     ]
    }
   ],
   "source": [
    "from collections import defaultdict\n",
    "\n",
    "n, m = map(int, input().split())\n",
    "lst_m = []\n",
    "d = defaultdict(list)\n",
    "for i in range(n):\n",
    "    d[str(input())].append(i+1)\n",
    "for i in range(m):\n",
    "    lst_m.append(str(input()))\n",
    "for item in lst_m:\n",
    "    if item in d.keys():\n",
    "        print(*d[item])\n",
    "    else:\n",
    "        print(-1)"
   ]
  },
  {
   "cell_type": "markdown",
   "id": "166fca84",
   "metadata": {},
   "source": [
    "STDIN   Function\n",
    "-----   --------\n",
    "5 2     group A size n = 5, group B size m = 2\n",
    "a       group A contains 'a', 'a', 'b', 'a', 'b'\n",
    "a\n",
    "b\n",
    "a\n",
    "b\n",
    "a       group B contains 'a', 'b'\n",
    "b\n",
    "\n",
    "\n",
    "Sample Output\n",
    "\n",
    "1 2 4\n",
    "3 5"
   ]
  },
  {
   "cell_type": "code",
   "execution_count": 45,
   "id": "0b2bde46",
   "metadata": {},
   "outputs": [
    {
     "name": "stdout",
     "output_type": "stream",
     "text": [
      "ds\n"
     ]
    },
    {
     "ename": "ValueError",
     "evalue": "invalid literal for int() with base 10: 'ds'",
     "output_type": "error",
     "traceback": [
      "\u001b[1;31m---------------------------------------------------------------------------\u001b[0m",
      "\u001b[1;31mValueError\u001b[0m                                Traceback (most recent call last)",
      "\u001b[1;32m~\\AppData\\Local\\Temp/ipykernel_11708/2426128808.py\u001b[0m in \u001b[0;36m<module>\u001b[1;34m\u001b[0m\n\u001b[0;32m      1\u001b[0m \u001b[1;32mfrom\u001b[0m \u001b[0mcollections\u001b[0m \u001b[1;32mimport\u001b[0m \u001b[0mdefaultdict\u001b[0m\u001b[1;33m\u001b[0m\u001b[1;33m\u001b[0m\u001b[0m\n\u001b[0;32m      2\u001b[0m \u001b[1;33m\u001b[0m\u001b[0m\n\u001b[1;32m----> 3\u001b[1;33m \u001b[0mn\u001b[0m\u001b[1;33m,\u001b[0m \u001b[0mm\u001b[0m \u001b[1;33m=\u001b[0m \u001b[0mmap\u001b[0m\u001b[1;33m(\u001b[0m\u001b[0mint\u001b[0m\u001b[1;33m,\u001b[0m \u001b[0minput\u001b[0m\u001b[1;33m(\u001b[0m\u001b[1;33m)\u001b[0m\u001b[1;33m.\u001b[0m\u001b[0msplit\u001b[0m\u001b[1;33m(\u001b[0m\u001b[1;33m)\u001b[0m\u001b[1;33m)\u001b[0m\u001b[1;33m\u001b[0m\u001b[1;33m\u001b[0m\u001b[0m\n\u001b[0m\u001b[0;32m      4\u001b[0m \u001b[1;33m\u001b[0m\u001b[0m\n\u001b[0;32m      5\u001b[0m \u001b[0mD\u001b[0m\u001b[1;33m=\u001b[0m \u001b[0mdefaultdict\u001b[0m\u001b[1;33m(\u001b[0m\u001b[0mlist\u001b[0m\u001b[1;33m)\u001b[0m\u001b[1;33m\u001b[0m\u001b[1;33m\u001b[0m\u001b[0m\n",
      "\u001b[1;31mValueError\u001b[0m: invalid literal for int() with base 10: 'ds'"
     ]
    }
   ],
   "source": [
    "from collections import defaultdict\n",
    "\n",
    "n, m = map(int, input().split())\n",
    "\n",
    "D= defaultdict(list)\n",
    "\n",
    "for i in range(n):\n",
    "    s = input().rstrip()\n",
    "    D[s].append(i+1)\n",
    "\n",
    "for i in range(m):\n",
    "    s = input().rstrip()\n",
    "    \n",
    "    if s in D:\n",
    "        print(' '.join(map(str, D[s])))\n",
    "    else:\n",
    "        print(\"-1\")"
   ]
  },
  {
   "cell_type": "code",
   "execution_count": null,
   "id": "8bb152b6",
   "metadata": {},
   "outputs": [],
   "source": [
    "from collections import defaultdict\n",
    "n, m = map(int, input().split())\n",
    "a = defaultdict(list)\n",
    "for i in range(1, n+1):\n",
    "    a[input()].append(i)\n",
    "for _ in range(m):\n",
    "    print(*a.get(input()) or [-1])"
   ]
  },
  {
   "cell_type": "markdown",
   "id": "95b5642b",
   "metadata": {},
   "source": [
    "# deque"
   ]
  },
  {
   "cell_type": "code",
   "execution_count": 52,
   "id": "54056661",
   "metadata": {
    "scrolled": true
   },
   "outputs": [
    {
     "name": "stdout",
     "output_type": "stream",
     "text": [
      "deque([1, 2])\n",
      "[3, 1, 2]\n",
      "<class 'collections.deque'>\n"
     ]
    }
   ],
   "source": [
    "from collections import deque\n",
    "\n",
    "d = deque()\n",
    "\n",
    "d.append(1)\n",
    "d.append(2)\n",
    "print(d)\n",
    "\n",
    "d.appendleft(3)  # adding value to left\n",
    "print(list(d))\n",
    "print(type(d))"
   ]
  },
  {
   "cell_type": "code",
   "execution_count": 47,
   "id": "2fdfbac7",
   "metadata": {},
   "outputs": [
    {
     "name": "stdout",
     "output_type": "stream",
     "text": [
      "deque([3, 1, 2, 9, 8, 7])\n"
     ]
    }
   ],
   "source": [
    "e=[9,8,7]\n",
    "d.extend(e)\n",
    "print(d)"
   ]
  },
  {
   "cell_type": "code",
   "execution_count": 48,
   "id": "4aa91e2b",
   "metadata": {},
   "outputs": [
    {
     "name": "stdout",
     "output_type": "stream",
     "text": [
      "deque([7, 6, 5, 3, 1, 2, 9, 8, 7])\n"
     ]
    }
   ],
   "source": [
    "f = [5,6,7]\n",
    "d.extendleft(f)\n",
    "print(d) # extending the list in FIFO\n"
   ]
  },
  {
   "cell_type": "code",
   "execution_count": 49,
   "id": "2dc217d1",
   "metadata": {},
   "outputs": [
    {
     "name": "stdout",
     "output_type": "stream",
     "text": [
      "deque([7, 6, 5, 3, 1, 2, 9, 8, 7])\n",
      "deque([6, 5, 3, 1, 2, 9, 8, 7, 7])\n",
      "deque([7, 7, 6, 5, 3, 1, 2, 9, 8])\n"
     ]
    }
   ],
   "source": [
    "print(d)\n",
    "d.rotate(-1)  # rotate list to left side by 1 position\n",
    "print(d)\n",
    "d.rotate(2)\n",
    "print(d) # rotate list to right side by 2 position"
   ]
  },
  {
   "cell_type": "code",
   "execution_count": null,
   "id": "93fe1701",
   "metadata": {},
   "outputs": [],
   "source": [
    "d.clear()\n",
    "print(d)"
   ]
  },
  {
   "cell_type": "code",
   "execution_count": 55,
   "id": "cc6fbb15",
   "metadata": {},
   "outputs": [
    {
     "ename": "AttributeError",
     "evalue": "'list' object has no attribute 'deque'",
     "output_type": "error",
     "traceback": [
      "\u001b[1;31m---------------------------------------------------------------------------\u001b[0m",
      "\u001b[1;31mAttributeError\u001b[0m                            Traceback (most recent call last)",
      "\u001b[1;32m~\\AppData\\Local\\Temp/ipykernel_11708/3790061513.py\u001b[0m in \u001b[0;36m<module>\u001b[1;34m\u001b[0m\n\u001b[0;32m      4\u001b[0m \u001b[0md\u001b[0m \u001b[1;33m=\u001b[0m \u001b[1;36m2\u001b[0m\u001b[1;33m\u001b[0m\u001b[1;33m\u001b[0m\u001b[0m\n\u001b[0;32m      5\u001b[0m \u001b[1;33m\u001b[0m\u001b[0m\n\u001b[1;32m----> 6\u001b[1;33m \u001b[0mA\u001b[0m \u001b[1;33m=\u001b[0m \u001b[0marr\u001b[0m\u001b[1;33m.\u001b[0m\u001b[0mdeque\u001b[0m\u001b[1;33m(\u001b[0m\u001b[1;33m)\u001b[0m\u001b[1;33m\u001b[0m\u001b[1;33m\u001b[0m\u001b[0m\n\u001b[0m\u001b[0;32m      7\u001b[0m \u001b[1;33m\u001b[0m\u001b[0m\n\u001b[0;32m      8\u001b[0m \u001b[0mA\u001b[0m\u001b[1;33m.\u001b[0m\u001b[0mrotate\u001b[0m\u001b[1;33m(\u001b[0m\u001b[1;33m-\u001b[0m\u001b[0md\u001b[0m\u001b[1;33m)\u001b[0m\u001b[1;33m\u001b[0m\u001b[1;33m\u001b[0m\u001b[0m\n",
      "\u001b[1;31mAttributeError\u001b[0m: 'list' object has no attribute 'deque'"
     ]
    }
   ],
   "source": []
  },
  {
   "cell_type": "markdown",
   "id": "41e9e2f4",
   "metadata": {},
   "source": [
    "# namedtuple"
   ]
  },
  {
   "cell_type": "code",
   "execution_count": null,
   "id": "7c633d0a",
   "metadata": {},
   "outputs": [],
   "source": [
    "from collections import namedtuple\n",
    "ND = namedtuple('Point','x,y')\n",
    "pt1 = Point(1,2)\n",
    "pt2 = Point(3,4)\n",
    "dot_product = ( pt1.x * pt2.x ) +( pt1.y * pt2.y )\n",
    "             # (1 * 3) + (2 * 4)\n",
    "print(dot_product)\n",
    "print(f\"pt1.x = {pt1.x}\")\n",
    "print(f\"pt2.x = {pt2.x}\")\n",
    "print(f\"pt1.y = {pt1.y}\")\n",
    "print(f\"pt2.y = {pt2.y}\")"
   ]
  },
  {
   "cell_type": "code",
   "execution_count": null,
   "id": "a3e280a9",
   "metadata": {},
   "outputs": [],
   "source": [
    "from collections import namedtuple\n",
    "Car = namedtuple('Car',())"
   ]
  },
  {
   "cell_type": "code",
   "execution_count": null,
   "id": "71ba21a5",
   "metadata": {},
   "outputs": [],
   "source": [
    "\n",
    "from collections import namedtuple\n",
    "\n",
    "n = int(input())\n",
    "\n",
    "column_names = input().split()\n",
    "\n",
    "total_marks = 0\n",
    "for i in range(n):\n",
    "    stu = namedtuple('student', column_names)\n",
    "    MARKS, CLASS, NAME, ID = input().split()\n",
    "    \n",
    "    student = stu(MARKS, CLASS, NAME, ID)\n",
    "    total_marks += int(student.MARKS)\n",
    "    \n",
    "    avg = total_marks/n\n",
    "    \n",
    "print('{:.2f}'.format(avg))"
   ]
  },
  {
   "cell_type": "markdown",
   "id": "599ff695",
   "metadata": {},
   "source": [
    "# itertools : product , permutations , accumulate , groupby , count "
   ]
  },
  {
   "cell_type": "code",
   "execution_count": null,
   "id": "9f935652",
   "metadata": {},
   "outputs": [],
   "source": [
    "import itertools\n",
    "print(dir(itertools))"
   ]
  },
  {
   "cell_type": "markdown",
   "id": "21a2791f",
   "metadata": {},
   "source": [
    "# product"
   ]
  },
  {
   "cell_type": "code",
   "execution_count": null,
   "id": "276a3dc8",
   "metadata": {},
   "outputs": [],
   "source": [
    "s, k = input().split()\n",
    "k = int(k)\n",
    "print(s, k)"
   ]
  },
  {
   "cell_type": "code",
   "execution_count": null,
   "id": "88ac07ea",
   "metadata": {},
   "outputs": [],
   "source": [
    "from itertools import product\n",
    "\n",
    "A=list(map(int, input().split()))\n",
    "B=list(map(int, input().split()))\n",
    "\n",
    "C=list(product(A, B))\n",
    "\n",
    "for i in C:\n",
    "    print(i,end=\" \") "
   ]
  },
  {
   "cell_type": "code",
   "execution_count": null,
   "id": "0eee12ba",
   "metadata": {},
   "outputs": [],
   "source": [
    "from itertools import product\n",
    "\n",
    "a = [1,2]\n",
    "b = [3,4]\n",
    "pro = product(a,b) # cartesian product of two matrix\n",
    "\n",
    "print(pro)\n",
    "\n",
    "print(list(pro))"
   ]
  },
  {
   "cell_type": "code",
   "execution_count": null,
   "id": "534015c5",
   "metadata": {},
   "outputs": [],
   "source": [
    "c = [1,3,5]\n",
    "d = [2,4,6]\n",
    "\n",
    "\n",
    "mat_rix = product(c,d)\n",
    "\n",
    "print(list(mat_rix))"
   ]
  },
  {
   "cell_type": "code",
   "execution_count": null,
   "id": "383f0679",
   "metadata": {},
   "outputs": [],
   "source": [
    "from itertools import product\n",
    "A = [[1,2,3],[3,4,5]]\n",
    "print(list(product(*A)))\n",
    "\n",
    "#[(1, 3), (1, 4), (1, 5), (2, 3), (2, 4), (2, 5), (3, 3), (3, 4), (3, 5)]"
   ]
  },
  {
   "cell_type": "markdown",
   "id": "fca62e6f",
   "metadata": {},
   "source": [
    "# permutations"
   ]
  },
  {
   "cell_type": "code",
   "execution_count": null,
   "id": "9250c260",
   "metadata": {},
   "outputs": [],
   "source": [
    "from itertools import permutations\n",
    "s, k = input().split()\n",
    "k = int(k)\n",
    "\n",
    "p = permutations(s,k)\n",
    "#print(list(p))\n",
    "\n",
    "for i in sorted(list(p)):\n",
    "    print(\"\".join(i))"
   ]
  },
  {
   "cell_type": "code",
   "execution_count": null,
   "id": "147f534b",
   "metadata": {},
   "outputs": [],
   "source": []
  },
  {
   "cell_type": "code",
   "execution_count": null,
   "id": "89d9974b",
   "metadata": {},
   "outputs": [],
   "source": [
    "from itertools import permutations\n",
    "a = [1,2,3]\n",
    "\n",
    "pems = permutations(a)\n",
    "\n",
    "print(pems)\n",
    "\n",
    "print(list(pems)) "
   ]
  },
  {
   "cell_type": "code",
   "execution_count": null,
   "id": "1d81e92e",
   "metadata": {},
   "outputs": [],
   "source": [
    "# permutations of different length \n",
    "\n",
    "pems = permutations(a,2)\n",
    "\n",
    "print(list(pems))"
   ]
  },
  {
   "cell_type": "code",
   "execution_count": null,
   "id": "1407d3e8",
   "metadata": {},
   "outputs": [],
   "source": []
  },
  {
   "cell_type": "markdown",
   "id": "4e967792",
   "metadata": {},
   "source": [
    "# combinations , combinations_with_replacement"
   ]
  },
  {
   "cell_type": "code",
   "execution_count": null,
   "id": "b4b84126",
   "metadata": {},
   "outputs": [],
   "source": [
    "from itertools import combinations\n",
    "\n",
    "s, k = input().split()\n",
    "k = int(k)\n",
    "s = sorted(s)\n",
    "comb_1 = combinations(s, 1)\n",
    "\n",
    "comb_2 = combinations(s, k)\n",
    "\n",
    "for i in (list(comb_1)):\n",
    "    print(\"\".join(i))\n",
    "\n",
    "for i in (list(comb_2)):\n",
    "    print(\"\".join(i))\n",
    "        "
   ]
  },
  {
   "cell_type": "code",
   "execution_count": null,
   "id": "ebc1f130",
   "metadata": {},
   "outputs": [],
   "source": []
  },
  {
   "cell_type": "code",
   "execution_count": null,
   "id": "aa4c4329",
   "metadata": {},
   "outputs": [],
   "source": [
    "from itertools import combinations , combinations_with_replacement\n",
    "\n",
    "c = [1,2,3]\n",
    "\n",
    "comb = combinations(c,2) # here lenghth is mandatory \n",
    "\n",
    "print(list(comb)) # it does not create duplicates combination\n"
   ]
  },
  {
   "cell_type": "code",
   "execution_count": null,
   "id": "2300c45e",
   "metadata": {},
   "outputs": [],
   "source": []
  },
  {
   "cell_type": "code",
   "execution_count": null,
   "id": "1cd0b769",
   "metadata": {},
   "outputs": [],
   "source": [
    "from itertools import combinations_with_replacement\n",
    "\n",
    "s, k = input().split()\n",
    "s=sorted(s)\n",
    "k=int(k)\n",
    "\n",
    "c_WR = combinations_with_replacement(s, k)\n",
    "\n",
    "for i in list(c_WR):\n",
    "    print(\"\".join(i))"
   ]
  },
  {
   "cell_type": "code",
   "execution_count": null,
   "id": "402c889a",
   "metadata": {},
   "outputs": [],
   "source": []
  },
  {
   "cell_type": "code",
   "execution_count": null,
   "id": "3577e912",
   "metadata": {},
   "outputs": [],
   "source": [
    "#it creates all possible comination\n",
    "comb_wr = combinations_with_replacement(c,2)\n",
    "\n",
    "print(list(comb_wr))\n"
   ]
  },
  {
   "cell_type": "code",
   "execution_count": null,
   "id": "0bf31243",
   "metadata": {},
   "outputs": [],
   "source": [
    "g=[('a', 'a'), ('a', 'c'), ('a', 'd'), ('a', 'c'), ('a', 'd'), ('c', 'd')]\n",
    "\n",
    "g[1][0] == 'a'\n",
    "count = 0\n",
    "for i in g:\n",
    "    if 'a' in i:\n",
    "        count+=1\n",
    "print(count)"
   ]
  },
  {
   "cell_type": "code",
   "execution_count": null,
   "id": "1b0ad3c2",
   "metadata": {},
   "outputs": [],
   "source": [
    "# Enter your code here. Read input from STDIN. Print output to STDOUT\n",
    "from itertools import combinations\n",
    "\n",
    "N = int(input())\n",
    "\n",
    "y = input().split()\n",
    "\n",
    "lower_case = map(str.lower, y)\n",
    "\n",
    "\n",
    "r = int(input())\n",
    "\n",
    "total =0\n",
    "count = 0\n",
    "comb = list(combinations(lower_case, r))\n",
    "\n",
    "print(comb)\n",
    "\n",
    "# for i in range(len(comb)):\n",
    "#     if comb[i][0]=='a':\n",
    "#         count+=1          \n",
    "\n",
    "        #OR\n",
    "\n",
    "for i in (comb):\n",
    "    if 'a' in i:\n",
    "        count+=1\n",
    "\n",
    "list_len=len(comb)\n",
    "\n",
    "print(list_len)\n",
    "    \n",
    "\n",
    "print(format(count/list_len,'.4f'))\n",
    "\n",
    "#input:\n",
    "# 4\n",
    "# a a c d\n",
    "# 2"
   ]
  },
  {
   "cell_type": "markdown",
   "id": "500f3dd5",
   "metadata": {},
   "source": [
    "# group by"
   ]
  },
  {
   "cell_type": "code",
   "execution_count": null,
   "id": "e621df6d",
   "metadata": {},
   "outputs": [],
   "source": [
    "from itertools import groupby\n",
    "\n",
    "persons = [{'name':'Tim','age':25},{'name':'Dan','age':27},{'name':'lisa','age':26},{'name':'claire','age':25}]\n",
    "\n",
    "grp_obj = groupby(persons , key=lambda x:x['age'])\n",
    "\n",
    "for key,value in grp_obj:\n",
    "    print(key , list(value))"
   ]
  },
  {
   "cell_type": "markdown",
   "id": "378620a9",
   "metadata": {},
   "source": [
    "# count,cycle,repeat\n"
   ]
  },
  {
   "cell_type": "code",
   "execution_count": null,
   "id": "77b8cca1",
   "metadata": {},
   "outputs": [],
   "source": [
    "from itertools import count,cycle,repeat\n",
    "\n",
    "\n",
    "for i in count(10):\n",
    "    if i == 15:\n",
    "        break\n",
    "    print(i)"
   ]
  },
  {
   "cell_type": "code",
   "execution_count": null,
   "id": "cb418bda",
   "metadata": {},
   "outputs": [],
   "source": [
    "from itertools import cycle\n",
    "counter = 0\n",
    "a=[1,2,3]\n",
    "for i in cycle(a):         # cycle \n",
    "    if counter==9:\n",
    "        break\n",
    "    print(i)\n",
    "    counter+=1"
   ]
  },
  {
   "cell_type": "code",
   "execution_count": null,
   "id": "d252632f",
   "metadata": {},
   "outputs": [],
   "source": [
    "from itertools import repeat\n",
    "\n",
    "\n",
    "for i in repeat(8,5):\n",
    "    print(i)"
   ]
  },
  {
   "cell_type": "code",
   "execution_count": null,
   "id": "6e3fde69",
   "metadata": {},
   "outputs": [],
   "source": []
  },
  {
   "cell_type": "markdown",
   "id": "07ef1584",
   "metadata": {},
   "source": [
    "# Errors  :\n",
    "\n",
    "1 ==> Syntax Error : invalid syntax\n",
    "\n",
    "                            2==> TypeError : unsupported operand \n",
    "\n",
    "3 ==> ModuleNotFoundError : \n",
    "\n",
    "                            4==> NameError : name 'ex.' is not defined\n",
    "\n",
    "5 ==> FileNotFoundError : no such file or directory : 'filename.format'\n",
    "\n",
    "                            6==> ValueError : value not in\n",
    "\n",
    "7 ==> IndexError : index out of range\n",
    "\n",
    "                            8==> KeyError : 'keyname'\n",
    "9 ==> ZeroDivisionError : division by zero\n",
    "                                \n",
    "                           10==> EOFError : Raised when the input() function hits the end-of-file condition\n",
    "11 ==> AssertionError : Raised when an assert statement fails\n",
    "\n",
    "                            12==> OSError : Raised when system operation causes system related error\n",
    "\n",
    "13 ==> MemoryError : Raised when an operation runs out of memory"
   ]
  },
  {
   "cell_type": "markdown",
   "id": "313cf852",
   "metadata": {},
   "source": [
    "# try and except:\n"
   ]
  },
  {
   "cell_type": "code",
   "execution_count": null,
   "id": "d72812ab",
   "metadata": {},
   "outputs": [],
   "source": [
    "try:\n",
    "    a = int(input(\"Enter value of a:\"))\n",
    "    b = int(input(\"Enter value of b:\"))\n",
    "    c = a/b\n",
    "    print(\"The answer of a divide by b:\", c)\n",
    "except ValueError as v:\n",
    "    print(\"Entered value is wrong\")\n",
    "    print(\"Error Code:\",v)\n",
    "except ZeroDivisionError as z:\n",
    "    print(\"Can't divide by zero\")\n",
    "    print(\"Error Code:\",z)"
   ]
  },
  {
   "cell_type": "code",
   "execution_count": null,
   "id": "e45acbf6",
   "metadata": {},
   "outputs": [],
   "source": [
    "T = int(input()) \n",
    "for i in range(T): \n",
    "    try: \n",
    "        a, b = map(int, input().split()) \n",
    "        print(a//b) \n",
    "    except Exception as e: \n",
    "        print(\"Error Code:\",e)  "
   ]
  },
  {
   "cell_type": "markdown",
   "id": "065bab04",
   "metadata": {},
   "source": []
  },
  {
   "cell_type": "code",
   "execution_count": null,
   "id": "765051c8",
   "metadata": {},
   "outputs": [],
   "source": [
    "def simple_interest(amount, year, rate):\n",
    "    try:\n",
    "        if rate > 100:\n",
    "            raise ValueError(rate)\n",
    "        interest = (amount * year * rate) / 100\n",
    "        print('The Simple Interest is', interest)\n",
    "        return interest\n",
    "    except ValueError as ve:\n",
    "        print('Interest rate is out of range:', ve)\n",
    "\n",
    "print('Case 1')\n",
    "simple_interest(800, 6, 8)\n",
    "\n",
    "print('Case 2')\n",
    "simple_interest(800, 6, 800)\n"
   ]
  },
  {
   "cell_type": "markdown",
   "id": "f2cc511a",
   "metadata": {},
   "source": [
    "### Polar coordinates are an alternative way of representing Cartesian coordinates or Complex Numbers."
   ]
  },
  {
   "cell_type": "code",
   "execution_count": null,
   "id": "26669241",
   "metadata": {},
   "outputs": [],
   "source": [
    "from cmath import polar\n",
    "z=input()\n",
    "complex_num=complex(z)\n",
    "polar_form=polar(complex_num)\n",
    "for i in polar_form:\n",
    "    print(i)"
   ]
  },
  {
   "cell_type": "code",
   "execution_count": null,
   "id": "9d2c5574",
   "metadata": {},
   "outputs": [],
   "source": []
  },
  {
   "cell_type": "markdown",
   "id": "9b94ad83",
   "metadata": {},
   "source": [
    "# Triangle"
   ]
  },
  {
   "cell_type": "code",
   "execution_count": null,
   "id": "1b6dd875",
   "metadata": {},
   "outputs": [],
   "source": [
    "1\n",
    "121\n",
    "12321\n",
    "1234321\n",
    "123454321"
   ]
  },
  {
   "cell_type": "code",
   "execution_count": null,
   "id": "5547cf62",
   "metadata": {},
   "outputs": [],
   "source": [
    "for i in range(1,int(input())+1):\n",
    "    print(i*'*')\n"
   ]
  },
  {
   "cell_type": "code",
   "execution_count": null,
   "id": "37f1dc0c",
   "metadata": {},
   "outputs": [],
   "source": [
    "for i in range(1,int(input())+1):\n",
    "    print(str(i)*(i))"
   ]
  },
  {
   "cell_type": "code",
   "execution_count": null,
   "id": "f7b7d07d",
   "metadata": {},
   "outputs": [],
   "source": [
    "n=5\n",
    "for i in range(1,n):\n",
    "    print(\" \"*(n-i)+i*\"#\")"
   ]
  },
  {
   "cell_type": "code",
   "execution_count": null,
   "id": "4dd74e90",
   "metadata": {},
   "outputs": [],
   "source": [
    "n = int(input(\"Enter number of rows: \"))\n",
    "alph = 65\n",
    "for i in range(0, n):\n",
    "    print(\" \" * (n-i), end=\" \")\n",
    "    for j in range(0, i+1):\n",
    "        print(chr(alph), end=\" \")\n",
    "        alph += 1\n",
    "    alph = 65\n",
    "    #print(\"\\r\")\n",
    "    print()"
   ]
  },
  {
   "cell_type": "code",
   "execution_count": null,
   "id": "6b41cee4",
   "metadata": {},
   "outputs": [],
   "source": [
    "n = int(input(\"Enter number of rows: \"))\n",
    "alpha=65\n",
    "for i in range(0,n):\n",
    "    for j in range(1,n-i):\n",
    "        print(\" \",end=\"\")\n",
    "    for k in range(0,i+1):\n",
    "        print(chr(alpha),end=\" \")\n",
    "        alpha+=1\n",
    "    print(\"\\r\")\n",
    "    #print()"
   ]
  },
  {
   "cell_type": "code",
   "execution_count": null,
   "id": "58e98881",
   "metadata": {},
   "outputs": [],
   "source": [
    "k=n-1\n",
    "for i in range(0, n):\n",
    "     \n",
    "        # inner loop to handle number spaces\n",
    "        # values changing acc. to requirement\n",
    "        for j in range(0, k):\n",
    "            print(end=\"+\")\n",
    "     \n",
    "        # decrementing k after each loop\n",
    "        k = k - 1\n",
    "     \n",
    "        # inner loop to handle number of columns\n",
    "        # values changing acc. to outer loop\n",
    "        for s in range(0, i+1):\n",
    "         \n",
    "            # printing stars\n",
    "            print(\"*\", end=\"#\") \n",
    "        print(\"\\r\")\n",
    "k=0\n",
    "for i in range(n-1,0,-1):\n",
    "    k=k+1\n",
    "    for j in range(0,k):\n",
    "        print(end=\"+\")\n",
    "    for s in range(i,0,-1):\n",
    "        print(\"*\",end=\"@\")\n",
    "    print()"
   ]
  },
  {
   "cell_type": "markdown",
   "id": "232aa7ca",
   "metadata": {},
   "source": [
    "#  .rstrip()"
   ]
  },
  {
   "cell_type": "markdown",
   "id": "01bd768a",
   "metadata": {},
   "source": [
    "### The rstrip() method removes any trailing whitespace characters from the right side of the string. \n",
    "\n",
    "\n",
    "## This is useful to clean up the input and remove any unwanted spaces at the end."
   ]
  },
  {
   "cell_type": "code",
   "execution_count": null,
   "id": "88af4428",
   "metadata": {
    "scrolled": true
   },
   "outputs": [],
   "source": [
    "n=3\n",
    "arr=[]\n",
    "for i in range(n):\n",
    "        arr.append(list(map(int, input().rstrip().split())))\n",
    "print(arr)"
   ]
  },
  {
   "cell_type": "code",
   "execution_count": null,
   "id": "338b4e21",
   "metadata": {},
   "outputs": [],
   "source": [
    "arr[2][2]"
   ]
  },
  {
   "cell_type": "code",
   "execution_count": null,
   "id": "ef1a1200",
   "metadata": {},
   "outputs": [],
   "source": [
    "# 1+3+4\n",
    "arr[0][0]+arr[1][1]+arr[2][2]"
   ]
  },
  {
   "cell_type": "code",
   "execution_count": null,
   "id": "6df1df99",
   "metadata": {},
   "outputs": [],
   "source": [
    "arr[0][2]+arr[1][1]+arr[2][1]"
   ]
  },
  {
   "cell_type": "code",
   "execution_count": null,
   "id": "b428f7df",
   "metadata": {},
   "outputs": [],
   "source": []
  },
  {
   "cell_type": "markdown",
   "id": "e88e9072",
   "metadata": {},
   "source": [
    "# Python-interface module"
   ]
  },
  {
   "cell_type": "code",
   "execution_count": null,
   "id": "68009e4a",
   "metadata": {},
   "outputs": [],
   "source": []
  },
  {
   "cell_type": "raw",
   "id": "647cc7d5",
   "metadata": {},
   "source": [
    "In object-oriented languages like Python, the interface is a collection of method signatures that should be provided \n",
    "by the implementing class. Implementing an interface is a way of writing an organized code and achieve abstraction.\n",
    "\n",
    "The package zope.interface provides an implementation of “object interfaces” for Python. \n",
    "It is maintained by the Zope Toolkit project. The package exports two objects, ‘Interface’ and ‘Attribute’ directly. \n",
    "It also exports several helper methods. It aims to provide stricter semantics and better error messages than \n",
    "Python’s built-in abc module."
   ]
  },
  {
   "cell_type": "markdown",
   "id": "d46385e1",
   "metadata": {},
   "source": [
    "# Implementing interface: The interface acts as a blueprint for designing classes, \n",
    "    so interfaces are implemented using the implementer decorator on the class. \n",
    "    If a class implements an interface, then the instances of the class provide the interface. \n",
    "    Objects can provide interfaces directly, in addition to what their classes implement.\n",
    "    \n",
    "    "
   ]
  },
  {
   "cell_type": "code",
   "execution_count": null,
   "id": "f7331c1f",
   "metadata": {},
   "outputs": [],
   "source": [
    "'''\n",
    "Syntax:  @zope.interface.implementer(*interfaces)\n",
    "class Class_name:\n",
    "   # methods\n",
    "'''\n",
    "\n",
    "import zope.interface \n",
    "\t\n",
    "\t\n",
    "class MyInterface(zope.interface.Interface): \n",
    "\tx = zope.interface.Attribute(\"whatever\") \n",
    "\tdef method1(self, x): \n",
    "\t\tpass\n",
    "\tdef method2(self): \n",
    "\t\tpass\n",
    "\t\n",
    "@zope.interface.implementer(MyInterface) \n",
    "class MyClass: \n",
    "\tdef method1(self, x): \n",
    "\t\treturn x**2\n",
    "\tdef method2(self): \n",
    "\t\treturn \"foo\"\n",
    "\t\n",
    "obj1 = MyClass() \n",
    "\n",
    "print(obj1.method1(5)) \n",
    "print(obj1.method2())\n"
   ]
  },
  {
   "cell_type": "code",
   "execution_count": null,
   "id": "5ad33352",
   "metadata": {},
   "outputs": [],
   "source": [
    "import zope.interface \n",
    "\n",
    "\n",
    "class BaseI(zope.interface.Interface): \n",
    "\tdef m1(self, x): \n",
    "\t\tpass\n",
    "\tdef m2(self): \n",
    "\t\tpass\n",
    "\n",
    "class DerivedI(BaseI): \n",
    "\tdef m3(self, x, y): \n",
    "\t\tpass\n",
    "\n",
    "@zope.interface.implementer(DerivedI) \n",
    "class cls: \n",
    "\tdef m1(self, z): \n",
    "\t\treturn z**3\n",
    "\tdef m2(self): \n",
    "\t\treturn 'foo'\n",
    "\tdef m3(self, x, y): \n",
    "\t\treturn x ^ y \n",
    "\t\n",
    "# Get base interfaces \n",
    "print(DerivedI.__bases__) \n",
    "\n",
    "# Ask whether baseI extends \n",
    "# DerivedI \n",
    "print(BaseI.extends(DerivedI)) \n",
    "\n",
    "# Ask whether baseI is equal to \n",
    "# or is extended by DerivedI \n",
    "print(BaseI.isEqualOrExtendedBy(DerivedI)) \n",
    "\n",
    "# Ask whether baseI is equal to \n",
    "# or extends DerivedI \n",
    "print(BaseI.isOrExtends(DerivedI)) \n",
    "\n",
    "# Ask whether DerivedI is equal \n",
    "# to or extends BaseI \n",
    "print(DerivedI.isOrExtends(DerivedI)) \n"
   ]
  },
  {
   "cell_type": "markdown",
   "id": "1329da42",
   "metadata": {},
   "source": [
    "# Difference between abstract class and interface in Python"
   ]
  },
  {
   "cell_type": "raw",
   "id": "3670f734",
   "metadata": {},
   "source": [
    "What is an Abstract class in Python?\n",
    "\n",
    "A blueprint for other classes might be thought of as an abstract class.\n",
    "You may use it to define a collection of methods that are required for all subclasses derived from the abstract class.\n",
    "An abstract class is one that includes one or more abstract methods.\n",
    "A method that has a declaration but no implementation is said to be abstract.\n",
    "We use an abstract class for creating huge functional units. \n",
    "An abstract class is used to offer a standard interface for various implementations of a component."
   ]
  },
  {
   "cell_type": "markdown",
   "id": "ceeba021",
   "metadata": {},
   "source": [
    "# Abstract class "
   ]
  },
  {
   "cell_type": "raw",
   "id": "180184a1",
   "metadata": {},
   "source": [
    "Python does not come with any abstract classes by default. \n",
    "Python has a module called ABC that serves as the foundation for building Abstract Base Classes (ABC). \n",
    "ABC works by decorating methods of the base class as abstract and then registering concrete classes as \n",
    "implementations of the abstract base. When a method is decorated with the keyword @abstractmethod, it becomes abstract."
   ]
  },
  {
   "cell_type": "code",
   "execution_count": null,
   "id": "a2a425f0",
   "metadata": {},
   "outputs": [],
   "source": [
    "from abc import ABC, abstractmethod \n",
    "class Animal(ABC): \n",
    "\n",
    "\tdef move(self): \n",
    "\t\tpass\n",
    "\n",
    "class Human(Animal): \n",
    "\n",
    "\tdef move(self): \n",
    "\t\tprint(\"I can walk and run\") \n",
    "\n",
    "class Snake(Animal): \n",
    "\n",
    "\tdef move(self): \n",
    "\t\tprint(\"I can crawl\") \n",
    "\n",
    "class Dog(Animal): \n",
    "\n",
    "\tdef move(self): \n",
    "\t\tprint(\"I can bark\") \n",
    "\n",
    "class Lion(Animal): \n",
    "\n",
    "\tdef move(self): \n",
    "\t\tprint(\"I can roar\") \n",
    "\t\t\n",
    "# Driver code \n",
    "R = Human() \n",
    "R.move() \n",
    "\n",
    "K = Snake() \n",
    "K.move() \n",
    "\n",
    "R = Dog() \n",
    "R.move() \n",
    "\n",
    "K = Lion() \n",
    "K.move() \n"
   ]
  },
  {
   "cell_type": "code",
   "execution_count": null,
   "id": "fdc844ef",
   "metadata": {},
   "outputs": [],
   "source": [
    "# Python program invoking a \n",
    "# method using super()\n",
    "from abc import ABC\n",
    "\n",
    "class R(ABC):\n",
    "    def rk(self):\n",
    "        print(\"Abstract Base Class\")\n",
    "\n",
    "class K(R):\n",
    "    def rk(self):\n",
    "        super().rk()\n",
    "        print(\"subclass \")\n",
    "\n",
    "# Driver code\n",
    "r = K()\n",
    "r.rk()"
   ]
  },
  {
   "cell_type": "code",
   "execution_count": null,
   "id": "f058f999",
   "metadata": {},
   "outputs": [],
   "source": []
  },
  {
   "cell_type": "markdown",
   "id": "726813de",
   "metadata": {},
   "source": [
    "# Calendar"
   ]
  },
  {
   "cell_type": "markdown",
   "id": "0c961f63",
   "metadata": {},
   "source": [
    "## class calendar.Calendar(firstweekday=0)\n",
    "Creates a Calendar object. firstweekday is an integer specifying the first day of the week. \n",
    "MONDAY is 0 (the default), SUNDAY is 6."
   ]
  },
  {
   "cell_type": "code",
   "execution_count": null,
   "id": "53be23c8",
   "metadata": {},
   "outputs": [],
   "source": [
    "import calendar\n",
    "\n",
    "print(calendar.TextCalendar(firstweekday=6).formatyear(2024))"
   ]
  },
  {
   "cell_type": "code",
   "execution_count": null,
   "id": "b0abf547",
   "metadata": {},
   "outputs": [],
   "source": [
    "import calendar \n",
    "print (\"The calendar of year 2018 is : \") \n",
    "print (calendar.calendar(2018))"
   ]
  },
  {
   "cell_type": "code",
   "execution_count": null,
   "id": "0b215b28",
   "metadata": {},
   "outputs": [],
   "source": [
    "import calendar \n",
    "   \n",
    "yy = 2017\n",
    "mm = 11\n",
    "print(calendar.month(yy, mm)) "
   ]
  },
  {
   "cell_type": "code",
   "execution_count": null,
   "id": "c812aa68",
   "metadata": {},
   "outputs": [],
   "source": [
    "import calendar\n",
    "\n",
    "n1, n2, n3 = map(int, input().split())\n",
    "\n",
    "print((calendar.day_name[calendar.weekday(n3, n1, n2)]).upper())"
   ]
  },
  {
   "cell_type": "code",
   "execution_count": null,
   "id": "f34d2acc",
   "metadata": {},
   "outputs": [],
   "source": [
    "import calendar\n",
    "\n",
    "n1, n2, n3 = map(int, input().split())\n",
    "\n",
    "print((calendar.day_name[calendar.weekday(n3, n1, n2)]))"
   ]
  },
  {
   "cell_type": "code",
   "execution_count": null,
   "id": "57ae9c4c",
   "metadata": {},
   "outputs": [],
   "source": [
    "# import calendar\n",
    "\n",
    "month, day, year = map(int, input().split())\n",
    "\n",
    "print(calendar.datetime.datetime(year, month, day).strftime(\"%A\").upper())"
   ]
  },
  {
   "cell_type": "markdown",
   "id": "d20cb285",
   "metadata": {},
   "source": [
    "#  Generator :"
   ]
  },
  {
   "cell_type": "code",
   "execution_count": null,
   "id": "bde288da",
   "metadata": {},
   "outputs": [],
   "source": [
    "##Generator:\n",
    "What Are Generators?\n",
    "\n",
    "Generators are a type of iterable, like lists or tuples, but unlike lists, generators do not store their contents in memory.\n",
    "\n",
    "Instead, they generate the next value on the fly, which makes them very efficient for working with large datasets.\n",
    "\n",
    "How to Create Generators\n",
    "\n",
    "Generator Functions: These are defined using the def keyword and contain one or more yield statements.\n",
    "    \n",
    "Generator Expressions: These are similar to list comprehensions but use parentheses instead of square brackets."
   ]
  },
  {
   "cell_type": "code",
   "execution_count": null,
   "id": "e9490dd5",
   "metadata": {},
   "outputs": [],
   "source": [
    "def count_up_to(max):\n",
    "    count = 1\n",
    "    while count <= max:\n",
    "        yield count\n",
    "        count += 1\n",
    "\n",
    "# Using the generator\n",
    "counter = count_up_to(5)\n",
    "for number in counter:\n",
    "    print(number)\n"
   ]
  },
  {
   "cell_type": "code",
   "execution_count": null,
   "id": "15b81c3a",
   "metadata": {},
   "outputs": [],
   "source": [
    "# List comprehension\n",
    "squares_list = [x * x for x in range(10)]\n",
    "\n",
    "# Generator expression\n",
    "squares_gen = (x * x for x in range(10))\n",
    "\n",
    "# Using the generator\n",
    "for square in squares_gen:\n",
    "    print(square,end=\" \")\n"
   ]
  },
  {
   "cell_type": "markdown",
   "id": "c98246da",
   "metadata": {},
   "source": [
    "Advantages of Generators\n",
    "\n",
    "Memory Efficiency: Generators are memory-efficient because they generate items one at a time and only when required.\n",
    "\n",
    "Lazy Evaluation: They produce items only when needed, which can save time and resources, especially with large datasets.\n",
    "\n",
    "Improved Performance: They can improve performance by yielding values instead of returning them all at once."
   ]
  },
  {
   "cell_type": "code",
   "execution_count": null,
   "id": "4907d728",
   "metadata": {},
   "outputs": [],
   "source": [
    "def generate_numbers(n):\n",
    "    for i in range(n):\n",
    "        yield i\n",
    "\n",
    "def square_numbers(numbers):\n",
    "    for number in numbers:\n",
    "        yield number * number\n",
    "\n",
    "def filter_even_numbers(numbers):\n",
    "    for number in numbers:\n",
    "        if number % 2 == 0:\n",
    "            yield number\n",
    "\n",
    "# Creating a pipeline\n",
    "numbers = generate_numbers(10)\n",
    "squared = square_numbers(numbers)\n",
    "even_squares = filter_even_numbers(squared)\n",
    "\n",
    "# Using the pipeline\n",
    "for num in even_squares:\n",
    "    print(num)\n"
   ]
  },
  {
   "cell_type": "markdown",
   "id": "4b5787e8",
   "metadata": {},
   "source": [
    "# Decorator"
   ]
  },
  {
   "cell_type": "code",
   "execution_count": null,
   "id": "be232feb",
   "metadata": {},
   "outputs": [],
   "source": [
    "What Are Decorators?\n",
    "\n",
    "A decorator is a function that takes another function as an argument, extends or alters its behavior, \n",
    "and returns a new function. \n",
    "\n",
    "They are often used for logging, access control, memoization, and more."
   ]
  },
  {
   "cell_type": "code",
   "execution_count": null,
   "id": "0c1c8240",
   "metadata": {},
   "outputs": [],
   "source": [
    "def decorator_function(original_function):\n",
    "    def wrapper_function():\n",
    "        print(\"Wrapper executed before {}\".format(original_function.__name__))\n",
    "        return original_function()\n",
    "    return wrapper_function\n",
    "\n",
    "@decorator_function\n",
    "def display():\n",
    "    print(\"Display function ran\")\n",
    "\n",
    "display()\n"
   ]
  },
  {
   "cell_type": "code",
   "execution_count": null,
   "id": "e207abcc",
   "metadata": {},
   "outputs": [],
   "source": [
    "def simple_decorator(func):\n",
    "    def wrapper():\n",
    "        print(\"Something is happening before the function is called.\")\n",
    "        func()\n",
    "        print(\"Something is happening after the function is called.\")\n",
    "    return wrapper\n",
    "\n",
    "@simple_decorator\n",
    "def say_hello():\n",
    "    print(\"Hello!\")\n",
    "\n",
    "say_hello()\n"
   ]
  },
  {
   "cell_type": "code",
   "execution_count": null,
   "id": "11f9193b",
   "metadata": {},
   "outputs": [],
   "source": []
  },
  {
   "cell_type": "code",
   "execution_count": null,
   "id": "f8bd65e1",
   "metadata": {},
   "outputs": [],
   "source": [
    "# append remove # leetcode 283\n",
    "\n",
    "num = list(map(int, input().split()))\n",
    "for i in num:\n",
    "    if i == 0:\n",
    "        num.remove(i)\n",
    "        num.append(i)\n",
    "    else:\n",
    "        pass\n",
    "print(num)"
   ]
  },
  {
   "cell_type": "code",
   "execution_count": null,
   "id": "44ed0dc6",
   "metadata": {},
   "outputs": [],
   "source": []
  },
  {
   "cell_type": "code",
   "execution_count": null,
   "id": "52d74394",
   "metadata": {},
   "outputs": [],
   "source": [
    "# Errors, Exception Handling"
   ]
  },
  {
   "cell_type": "code",
   "execution_count": null,
   "id": "cf581d7a",
   "metadata": {},
   "outputs": [],
   "source": [
    "facebook_posts = [\n",
    "    {'Likes': 21, 'Comments': 2},\n",
    "    {'Likes': 13, 'Comments': 2, 'Shares': 1},\n",
    "    {'Likes': 33, 'Comments': 8, 'Shares': 3},\n",
    "    {'Comments': 4, 'Shares': 2},\n",
    "    {'Comments': 1, 'Shares': 1},\n",
    "    {'Likes': 19, 'Comments': 3}\n",
    "]\n",
    "\n",
    "\n",
    "\n",
    "def count_likes(posts):\n",
    "    total_likes = 0\n",
    "    for post in posts:\n",
    "        try:\n",
    "            total_likes = total_likes + post['Likes']\n",
    "        \n",
    "        except KeyError:\n",
    "            # Handle when \"Likes\" key is missing\n",
    "            pass       \n",
    "    return total_likes\n",
    "\n",
    "\n",
    "print(count_likes(facebook_posts))"
   ]
  },
  {
   "cell_type": "code",
   "execution_count": null,
   "id": "9c746efc",
   "metadata": {},
   "outputs": [],
   "source": []
  },
  {
   "cell_type": "markdown",
   "id": "dd3da34b",
   "metadata": {},
   "source": [
    "# get() method"
   ]
  },
  {
   "cell_type": "raw",
   "id": "4bbd5d4a",
   "metadata": {},
   "source": [
    "In Python, the get() method is used with dictionaries. It provides a way to safely access values by their keys without raising a KeyError if the key is missing."
   ]
  },
  {
   "cell_type": "code",
   "execution_count": null,
   "id": "053a9a6f",
   "metadata": {},
   "outputs": [],
   "source": [
    "# syntax\n",
    "\n",
    "dict.get(key, default_value)"
   ]
  },
  {
   "cell_type": "raw",
   "id": "3afcdb0b",
   "metadata": {},
   "source": [
    "Benefits of get():\n",
    "\n",
    "1} Avoids KeyError: If the key is not found, it returns None or the specified default value, instead of raising an exception.\n",
    "\n",
    "2} Default value handling: You can provide a default value to return if the key is missing."
   ]
  },
  {
   "cell_type": "code",
   "execution_count": null,
   "id": "fa659922",
   "metadata": {},
   "outputs": [],
   "source": [
    "my_dict = {'a': 1, 'b': 2, 'c': 3}\n",
    "\n",
    "# Without using get()\n",
    "value = my_dict['a']  # This works\n",
    "# value = my_dict['z']  # This raises a KeyError\n",
    "\n",
    "# Using get()\n",
    "u = my_dict.get('a')  # Returns 1\n",
    "v = my_dict.get('z')  # Returns None (key not found)\n",
    "w = my_dict.get('z', 0)  # Returns 0 (key not found, default value provided)\n",
    "\n",
    "print(u)\n",
    "print(v)\n",
    "print(w)"
   ]
  },
  {
   "cell_type": "raw",
   "id": "979dbd64",
   "metadata": {},
   "source": [
    "1] What is the difference between accessing a value using dict[key] and dict.get(key)?\n",
    "\n",
    "Answer: dict[key] raises a KeyError if the key is missing, while dict.get(key) returns None or a specified default value.\n",
    "\n",
    "2]What are some common use cases for the get() method?\n",
    "\n",
    "Answer: Handling missing keys gracefully, assigning default values when fetching keys, and avoiding exceptions in large codebases.\n",
    "\n",
    "3] Explain how get() can be useful in reading user-provided configuration files.\n",
    "\n",
    "Answer: If configuration keys are optional, get() can be used to return default values in case some settings are not provided, thus avoiding crashes.\n",
    "\n",
    "4] What is the time complexity of the get() method in Python dictionaries?\n",
    "\n",
    "Answer: The time complexity of get() is\n",
    "O(1) (constant time) because dictionary lookups are hash-based."
   ]
  },
  {
   "cell_type": "code",
   "execution_count": null,
   "id": "94cd80c3",
   "metadata": {},
   "outputs": [],
   "source": [
    "# Count word frequncy in a text\n",
    "\n",
    "def word_frequency(text):\n",
    "    words = text.split()\n",
    "    freq = {}\n",
    "    for word in words:\n",
    "        freq[word] = freq.get(word, 0) + 1\n",
    "    return freq\n",
    "\n",
    "text = \"this is a test and this is just a test\"\n",
    "\n",
    "print(word_frequency(text))"
   ]
  },
  {
   "cell_type": "code",
   "execution_count": null,
   "id": "26c00c16",
   "metadata": {},
   "outputs": [],
   "source": [
    "# Return the marks of a student by name, and if the student is not found, return -1\n",
    "\n",
    "def get_marks(student_name, marks_dict):\n",
    "    return marks_dict.get(student_name, -1)\n",
    "\n",
    "marks = {'John': 85, 'Emily': 92, 'Lara': 78}\n",
    "\n",
    "print(get_marks(\"John\", marks))\n",
    "print(get_marks(\"Rachel\", marks))"
   ]
  },
  {
   "cell_type": "markdown",
   "id": "f6783ead",
   "metadata": {},
   "source": [
    "# Regex and parsing\n",
    "\n",
    "<!-- Regular expressions are patterns used to match character combinations in strings. In Python, this is handled using the re module. -->"
   ]
  },
  {
   "cell_type": "markdown",
   "id": "5d68f743",
   "metadata": {},
   "source": [
    "$$ 1. Regular Expressions (Regex) Basics\n",
    "\n",
    "\n",
    "1. \\d: Matches any digit (0-9).\n",
    "2. \\D: Matches any non-digit.\n",
    "3. \\w: Matches any alphanumeric character (a-z, A-Z, 0-9, and _).\n",
    "4. \\W: Matches any non-word character.\n",
    "5. \\s: Matches any whitespace character (space, tab, newline).\n",
    "6. \\S: Matches any non-whitespace character.\n",
    "\n",
    "$$ Anchors:\n",
    "\n",
    "1. ^: Matches the start of a string.\n",
    "2. $: Matches the end of a string.\n",
    "\n",
    "\n",
    "$$ Quantifiers:\n",
    "\n",
    "1. *: Matches 0 or more repetitions.\n",
    "2. +: Matches 1 or more repetitions.\n",
    "3. ?: Matches 0 or 1 repetition.\n",
    "4. {m}: Matches exactly m repetitions.\n",
    "5. {m, n}: Matches from m to n repetitions.\n",
    "\n",
    "\n",
    "$$ Groups and Alternation:\n",
    "\n",
    "1. (abc): Matches the exact sequence abc.\n",
    "\n",
    "2. (a|b): Matches either a or b.\n",
    "\n"
   ]
  },
  {
   "cell_type": "markdown",
   "id": "ea019d47",
   "metadata": {},
   "source": [
    "\n",
    "$$ Regex Functions in Python\n",
    "\n",
    "\n",
    "1. re.match(pattern, string): Determines if the pattern matches at the start of the string.\n",
    "\n",
    "2. re.search(pattern, string): Scans through the string looking for any location where the pattern matches.\n",
    "\n",
    "3. re.findall(pattern, string): Returns all matches of a pattern in a string.\n",
    "\n",
    "4. re.sub(pattern, repl, string): Replaces all matches of the pattern in a string with repl.\n",
    "\n",
    "5. re.split(pattern, string): Splits the string wherever the pattern matches."
   ]
  },
  {
   "cell_type": "code",
   "execution_count": null,
   "id": "3c2bed4e",
   "metadata": {},
   "outputs": [],
   "source": [
    "# matching specific string patterns (^hackerrank)\n",
    "\n",
    "# ^: Matches the start of a string.\n",
    "\n",
    "import re\n",
    "\n",
    "# Example usage\n",
    "\n",
    "test_strings = [\"hackerrank123\", \"hackerrank abc\", \" abc hackerrank\", \"hackerrank\"]\n",
    "\n",
    "for s in test_strings:\n",
    "    if re.match(r'^hackerrank',s):\n",
    "        print(f\"'{s}' matches\")\n",
    "    else:\n",
    "        print(f\" '{s}' does not match\")"
   ]
  },
  {
   "cell_type": "code",
   "execution_count": null,
   "id": "66e004c8",
   "metadata": {},
   "outputs": [],
   "source": [
    "# Validating email address\n",
    "\n",
    "# Pattern: ^[a-zA-Z0-9._%+-]+@[a-zA-Z0-9.-]+\\.[a-zA-Z]{2,}$\n",
    "\n",
    "import re\n",
    "\n",
    "emails = [\"example@test.com\", \"user@domain.org\", \"invalid-email@\", \"@missingusername.com\"]\n",
    "\n",
    "for email in emails:\n",
    "    if re.match(r'^[a-zA-Z09._%+-]+@[a-zA-Z0-9.-]+\\.[a-zA-Z]{2,}$',email):\n",
    "        print(f\"'{email}' is valid\")\n",
    "    else:\n",
    "        print(f\"'{email}' is not valid\")"
   ]
  },
  {
   "cell_type": "code",
   "execution_count": 16,
   "id": "0ed2cc0d",
   "metadata": {},
   "outputs": [
    {
     "name": "stdout",
     "output_type": "stream",
     "text": [
      "Name:John Doe, Age:28, City:New York\n"
     ]
    }
   ],
   "source": [
    "# Extracting Information with Groups extract the name, age, and city.\n",
    "\n",
    "# Pattern: User:\\s*(\\w+\\s+\\w+),\\s*Age:\\s*(\\d+),\\s*City:\\s*(\\w+\\s*\\w*)\n",
    "\n",
    "import re\n",
    "\n",
    "text = \"User: John Doe, Age: 28, City: New York\"\n",
    "\n",
    "match = re.search(r\"User:\\s*(\\w+\\s+\\w+),\\s*Age:\\s*(\\d+),\\s*City:\\s*(\\w+\\s*\\w*)\", text)\n",
    "\n",
    "if match:\n",
    "    name, age, city = match.groups()\n",
    "    print(f\"Name:{name}, Age:{age}, City:{city}\")"
   ]
  },
  {
   "cell_type": "code",
   "execution_count": 15,
   "id": "e8796d3e",
   "metadata": {},
   "outputs": [
    {
     "name": "stdout",
     "output_type": "stream",
     "text": [
      "'9587456281' Yes\n",
      "No\n",
      "'7896541230' Yes\n",
      "'+919876543210' Yes\n",
      "'+91 9587456281' Yes\n"
     ]
    }
   ],
   "source": [
    "# Basic Regex for a 10-Digit Phone Number\n",
    "\n",
    "import re\n",
    "\n",
    "n = [\"9587456281\", \"1252478965\", \"7896541230\", \"+919876543210\", \"+91 9587456281\"]\n",
    "\n",
    "for number in n:\n",
    "    if re.match(r'^(\\+91[-\\s]?)?[6789]\\d{9}$', number):\n",
    "        print(f\"'{number}' Yes\")\n",
    "    else:\n",
    "        print(\"No\")"
   ]
  },
  {
   "cell_type": "code",
   "execution_count": 14,
   "id": "ec0fa2ef",
   "metadata": {},
   "outputs": [
    {
     "data": {
      "text/plain": [
       "True"
      ]
     },
     "execution_count": 14,
     "metadata": {},
     "output_type": "execute_result"
    }
   ],
   "source": [
    "import re\n",
    "def validate(str):\n",
    "    pat= \"[a-z]+[!@#$%]+[0-9]\"\n",
    "    match = re.search(pat, str)\n",
    "    if(match):\n",
    "        return True\n",
    "    else:\n",
    "        return False\n",
    "    \n",
    "    \n",
    "str1 = \"asdsab@!@234\"    \n",
    "validate(str1)"
   ]
  },
  {
   "cell_type": "code",
   "execution_count": 36,
   "id": "ebd1caf6",
   "metadata": {},
   "outputs": [
    {
     "name": "stdout",
     "output_type": "stream",
     "text": [
      "123 34234 34 5 "
     ]
    }
   ],
   "source": [
    "def numberMatcher(str):\n",
    "#     pat= \"[0-9]+\"\n",
    "    pat= '\\d+'\n",
    "    match=re.findall(pat,str) ##find all finds all the matched texts and returns a list\n",
    "    if(match): \n",
    "        for i in match:\n",
    "            print(i, end=\" \")\n",
    "    else:\n",
    "        print(-1,end=\"\")\n",
    "        \n",
    "strx = \"asdasd123asmdasdk34234kfdsd34sdfk5\"\n",
    "numberMatcher(strx)"
   ]
  },
  {
   "cell_type": "code",
   "execution_count": null,
   "id": "dab4a5fe",
   "metadata": {},
   "outputs": [],
   "source": []
  }
 ],
 "metadata": {
  "kernelspec": {
   "display_name": "Python 3 (ipykernel)",
   "language": "python",
   "name": "python3"
  },
  "language_info": {
   "codemirror_mode": {
    "name": "ipython",
    "version": 3
   },
   "file_extension": ".py",
   "mimetype": "text/x-python",
   "name": "python",
   "nbconvert_exporter": "python",
   "pygments_lexer": "ipython3",
   "version": "3.9.7"
  }
 },
 "nbformat": 4,
 "nbformat_minor": 5
}
