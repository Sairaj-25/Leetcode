{
 "cells": [
  {
   "cell_type": "markdown",
   "id": "c5031a6c",
   "metadata": {},
   "source": [
    "# ARRAY TRAVERSAL"
   ]
  },
  {
   "cell_type": "code",
   "execution_count": 1,
   "id": "22858719",
   "metadata": {},
   "outputs": [
    {
     "name": "stdout",
     "output_type": "stream",
     "text": [
      "[1, 3, 12, 0, 0]\n"
     ]
    }
   ],
   "source": [
    "# move zero ==> leetcode 283\n",
    "\n",
    "k=[1,0,3,0,12]\n",
    "a=0\n",
    "for i in range(len(k)):\n",
    "    if k[i]==0:\n",
    "        k.remove(k[i])\n",
    "        k.append(a)\n",
    "print(k)\n",
    "        "
   ]
  },
  {
   "cell_type": "code",
   "execution_count": 1,
   "id": "6f7be85c",
   "metadata": {},
   "outputs": [
    {
     "name": "stdout",
     "output_type": "stream",
     "text": [
      "[1, 6, 4, 0, 0]\n"
     ]
    }
   ],
   "source": [
    "n=[1,0,6,0,4]\n",
    "i=0\n",
    "while i<len(n):\n",
    "    if n[i]==0:\n",
    "        n.remove(n[i])\n",
    "        n.append(0)\n",
    "    i+=1\n",
    "print(n)"
   ]
  },
  {
   "cell_type": "code",
   "execution_count": 1,
   "id": "d2619940",
   "metadata": {},
   "outputs": [
    {
     "name": "stdout",
     "output_type": "stream",
     "text": [
      "[3, 5, 6, 12, 0, 0]\n"
     ]
    }
   ],
   "source": [
    "nums = [0,3,0,5,6,12]\n",
    "i = 0                                          \n",
    "for j in range(len(nums)):                       # i=0 j=0                           |   # i=0 j=1\n",
    "    if nums[j] != 0:                             # nums[0] != 0: ==> 0               |   # nums[1] !=0 : ==> 3\n",
    "        nums[i], nums[j] = nums[j], nums[i]      # nums[0],nums[0] = nums[0],nums[i] |   # nums[0],nums[1] = nums[1],nums[0]\n",
    "        i+=1                                     #                                   |   # i+=1==> i=1\n",
    "print(nums)                                      #                                   |   "
   ]
  },
  {
   "cell_type": "code",
   "execution_count": 4,
   "id": "03f04760",
   "metadata": {},
   "outputs": [
    {
     "name": "stdout",
     "output_type": "stream",
     "text": [
      "[2, 1, 3, 4]\n"
     ]
    }
   ],
   "source": [
    "a=[1,2,3,4]\n",
    "\n",
    "a[0],a[1]=a[1],a[0] # swapping \n",
    "\n",
    "print(a)"
   ]
  },
  {
   "cell_type": "code",
   "execution_count": 1,
   "id": "227b7c8f",
   "metadata": {},
   "outputs": [
    {
     "data": {
      "text/plain": [
       "[3, 5, 6, 0, 0, 0]"
      ]
     },
     "execution_count": 1,
     "metadata": {},
     "output_type": "execute_result"
    }
   ],
   "source": [
    "def pushZeroes(arr):\n",
    "    count = 0\n",
    "    for i in range(len(arr)):\n",
    "        if arr[i] != 0:\n",
    "            arr[count] = arr[i]\n",
    "            count += 1\n",
    "            \n",
    "    while count < len(arr):\n",
    "        arr[count] = 0\n",
    "        count += 1\n",
    "        \n",
    "    return arr\n",
    "\n",
    "nums = [0,3,0,5,6,0]\n",
    "\n",
    "pushZeroes(nums)"
   ]
  },
  {
   "cell_type": "code",
   "execution_count": 3,
   "id": "b0d09d8b",
   "metadata": {},
   "outputs": [
    {
     "data": {
      "text/plain": [
       "(1, 3)"
      ]
     },
     "execution_count": 3,
     "metadata": {},
     "output_type": "execute_result"
    }
   ],
   "source": [
    "# two sums ==> Leetcode 1\n",
    "\n",
    "\n",
    "\n",
    "def twoSum(nums,target):\n",
    "        for i in range(len(nums)):\n",
    "            for j in range(i+1,len(nums)):\n",
    "                if nums[i]+nums[j]==target:\n",
    "                    return(i,j)\n",
    "\n",
    "twoSum([2,7,9,12],19)      # n = [2,7,9,12]\n",
    "                         # target = 9"
   ]
  },
  {
   "cell_type": "code",
   "execution_count": 30,
   "id": "5b37b1ce",
   "metadata": {},
   "outputs": [
    {
     "name": "stdout",
     "output_type": "stream",
     "text": [
      "0 1\n"
     ]
    }
   ],
   "source": [
    "n = [2,7,9,12]\n",
    "target = 9\n",
    "\n",
    "for i in range(len(n)): \n",
    "    num2=target-n[i]\n",
    "    if num2 in n and (n.index(num2) != i):\n",
    "        print(i,n.index(num2))\n",
    "        break"
   ]
  },
  {
   "cell_type": "code",
   "execution_count": 11,
   "id": "184a24ba",
   "metadata": {},
   "outputs": [
    {
     "name": "stdout",
     "output_type": "stream",
     "text": [
      "[1, 3]\n"
     ]
    }
   ],
   "source": [
    "def two_sum(nums, target):\n",
    "    lookup = {}\n",
    "    for i, num in enumerate(nums):\n",
    "        diff = target - num\n",
    "        if diff in lookup:\n",
    "            return [lookup[diff], i]\n",
    "        lookup[num] = i\n",
    "    return []\n",
    "\n",
    "nums = [2,7,11,15]\n",
    "target = 22\n",
    "print(two_sum(nums, target))"
   ]
  },
  {
   "cell_type": "code",
   "execution_count": 2,
   "id": "3e849ca3",
   "metadata": {},
   "outputs": [
    {
     "name": "stdout",
     "output_type": "stream",
     "text": [
      "3 5\n"
     ]
    },
    {
     "data": {
      "text/plain": [
       "True"
      ]
     },
     "execution_count": 2,
     "metadata": {},
     "output_type": "execute_result"
    }
   ],
   "source": [
    "# Function to check if pair with given sum exists\n",
    "\n",
    "def pair_sum(N, arr, sum):\n",
    "    dict = {}\n",
    "    \n",
    "    for i in range(N):\n",
    "        temp = sum - arr[i]\n",
    "        if temp in dict:\n",
    "            print(temp, arr[i])\n",
    "            return True\n",
    "        dict[arr[i]] = i\n",
    "    return False\n",
    "\n",
    "N = 7 \n",
    "sum = 8 \n",
    "arr = [1, 2, 3, 3, 5, 5, 5]\n",
    "\n",
    "\n",
    "pair_sum(N, arr, sum)"
   ]
  },
  {
   "cell_type": "code",
   "execution_count": 35,
   "id": "2ef5a841",
   "metadata": {},
   "outputs": [
    {
     "name": "stdout",
     "output_type": "stream",
     "text": [
      "True\n",
      "False\n"
     ]
    }
   ],
   "source": [
    "# Palindrome leetcode==> 9\n",
    "\n",
    "class Solution:\n",
    "    def isPalindrome(x: int):\n",
    "        return str(x) == str(x)[::-1]\n",
    "    print(isPalindrome(121))\n",
    "    print(isPalindrome(123))"
   ]
  },
  {
   "cell_type": "code",
   "execution_count": 16,
   "id": "772dca23",
   "metadata": {},
   "outputs": [
    {
     "name": "stdout",
     "output_type": "stream",
     "text": [
      "amanaplanacanalpanama\n",
      "True\n"
     ]
    }
   ],
   "source": [
    "def is_palindrome(s):\n",
    "    s = s.lower().replace(' ','')\n",
    "    print(s)\n",
    "    return s == s[::-1]\n",
    "\n",
    "s = \"A man a plan a canal Panama\"\n",
    "print(is_palindrome(s))"
   ]
  },
  {
   "cell_type": "markdown",
   "id": "b12a5ce4",
   "metadata": {},
   "source": [
    "# Missing in Array"
   ]
  },
  {
   "cell_type": "code",
   "execution_count": 1,
   "id": "e603c263",
   "metadata": {},
   "outputs": [
    {
     "data": {
      "text/plain": [
       "13"
      ]
     },
     "execution_count": 1,
     "metadata": {},
     "output_type": "execute_result"
    }
   ],
   "source": [
    "def missingNumber(arr):\n",
    "    start = min(arr)  # Find the smallest number in the list\n",
    "    end = max(arr)    # Find the largest number in the list\n",
    "    expected_sum = sum(range(start, end + 1)) # Sum of all numbers from start to end \n",
    "    actual_sum = sum(arr)  # Sum of array elements\n",
    "    missing = expected_sum - actual_sum  # Missing number\n",
    "    \n",
    "    # Handle edge cases where the missing number is outside the range\n",
    "    if missing == 0:\n",
    "        if arr[0] == 1:\n",
    "            return end + 1\n",
    "        else:\n",
    "            return start - 1\n",
    "    return missing\n",
    "\n",
    "# Example Usage\n",
    "arr = [11, 12, 14, 15]\n",
    "missingNumber(arr)  # Output: 13"
   ]
  },
  {
   "cell_type": "code",
   "execution_count": 2,
   "id": "2dbc3195",
   "metadata": {},
   "outputs": [
    {
     "data": {
      "text/plain": [
       "13"
      ]
     },
     "execution_count": 2,
     "metadata": {},
     "output_type": "execute_result"
    }
   ],
   "source": [
    "def missingNumber(arr):\n",
    "        if len(arr) == 1:\n",
    "            return arr[0]+1\n",
    "        n = min(arr)\n",
    "        m = max(arr)\n",
    "        sum1 = 0\n",
    "        while n <= m:\n",
    "            sum1 = sum1 + n\n",
    "            n+=1\n",
    "        sum2 = sum(arr)\n",
    "        \n",
    "        missing_num = sum1 - sum2\n",
    "        \n",
    "        return missing_num\n",
    "    \n",
    "arr = [11, 12, 14, 15]\n",
    "\n",
    "missingNumber(arr)"
   ]
  },
  {
   "cell_type": "code",
   "execution_count": 3,
   "id": "0a0d677b",
   "metadata": {},
   "outputs": [
    {
     "data": {
      "text/plain": [
       "4"
      ]
     },
     "execution_count": 3,
     "metadata": {},
     "output_type": "execute_result"
    }
   ],
   "source": [
    "arr = [2,6,5,1,3]\n",
    "missingNumber(arr)"
   ]
  },
  {
   "cell_type": "code",
   "execution_count": 34,
   "id": "727d301d",
   "metadata": {},
   "outputs": [
    {
     "name": "stdout",
     "output_type": "stream",
     "text": [
      "1 = 0\n",
      "{1: 0}\n",
      "2 = 1\n",
      "{1: 0, 2: 1}\n",
      "2 = 2\n",
      "{1: 0, 2: 1}\n",
      "3 = 3\n",
      "{1: 0, 2: 1, 3: 3}\n",
      "8 = 4\n",
      "{1: 0, 2: 1, 3: 3, 8: 4}\n",
      "[4, 0, 1, 1, 3]\n"
     ]
    }
   ],
   "source": [
    "# leetcode 1365. How Many Numbers Are Smaller Than the Current Number\n",
    "\n",
    "\"\"\"\n",
    "\n",
    "Example 1:\n",
    "\n",
    "Input: nums = [8,1,2,2,3]\n",
    "Output: [4,0,1,1,3]\n",
    "Explanation: \n",
    "For nums[0]=8 there exist four smaller numbers than it (1, 2, 2 and 3). \n",
    "For nums[1]=1 does not exist any smaller number than it.\n",
    "For nums[2]=2 there exist one smaller number than it (1). \n",
    "For nums[3]=2 there exist one smaller number than it (1). \n",
    "For nums[4]=3 there exist three smaller numbers than it (1, 2 and 2).\n",
    "Example 2:\n",
    "\n",
    "Input: nums = [6,5,4,8]\n",
    "Output: [2,1,0,3]\n",
    "Example 3:\n",
    "\n",
    "Input: nums = [7,7,7,7]\n",
    "Output: [0,0,0,0]\n",
    "\n",
    "\"\"\"\n",
    "\n",
    "nums = [8,1,2,2,3]\n",
    "\n",
    "count_dict = {}\n",
    "\n",
    "sorted_nums = sorted(nums) # [1,2,2,3,8]\n",
    "\n",
    "for i, num in enumerate(sorted_nums):\n",
    "    if num not in count_dict:\n",
    "        count_dict[num] = i\n",
    "    print(f\"{num} = {i}\")\n",
    "    print(count_dict)\n",
    "result = [count_dict[num] for num in nums]   \n",
    "print(result)\n"
   ]
  },
  {
   "cell_type": "code",
   "execution_count": 4,
   "id": "74122713",
   "metadata": {},
   "outputs": [
    {
     "data": {
      "text/plain": [
       "[17, 5, 2]"
      ]
     },
     "execution_count": 4,
     "metadata": {},
     "output_type": "execute_result"
    }
   ],
   "source": [
    "# find all the leaders in the array. \n",
    "# An element is considered a leader if it is greater than or equal to all elements to its right. \n",
    "# The rightmost element is always a leader\n",
    "\n",
    "\n",
    "def leaders(arr):\n",
    "    l = []\n",
    "    i = 0\n",
    "    j = 1\n",
    "    while i <= (len(arr)-1)-1:\n",
    "        if arr[i] > max(arr[j:]):\n",
    "            l.append(arr[i])\n",
    "        i+=1\n",
    "        j+=1\n",
    "    l.append(arr[len(arr)-1])\n",
    "    return l\n",
    "arr = [16, 17, 4, 3, 5, 2]\n",
    "\n",
    "leaders(arr)\n",
    "\n",
    "\n",
    "# Time Complexity : o(n^2)"
   ]
  },
  {
   "cell_type": "code",
   "execution_count": 5,
   "id": "1a7f0cd1",
   "metadata": {},
   "outputs": [
    {
     "name": "stdout",
     "output_type": "stream",
     "text": [
      "5 3 4 17 16 "
     ]
    },
    {
     "data": {
      "text/plain": [
       "[17, 5, 2]"
      ]
     },
     "execution_count": 5,
     "metadata": {},
     "output_type": "execute_result"
    }
   ],
   "source": [
    "def leaders(arr):\n",
    "    l = []\n",
    "    \n",
    "    max_from_right = arr[-1]\n",
    "    l.append(max_from_right)\n",
    "    \n",
    "    for i in range(len(arr)-2,-1,-1):\n",
    "        print(arr[i],end= \" \")\n",
    "        if arr[i] >= max_from_right:\n",
    "            max_from_right = arr[i]\n",
    "            l.append(arr[i])\n",
    "            \n",
    "    return l[::-1]\n",
    "\n",
    "arr = [16, 17, 4, 3, 5, 2]\n",
    "\n",
    "leaders(arr)\n",
    "\n",
    "# Time Complexity : o(n)"
   ]
  },
  {
   "cell_type": "markdown",
   "id": "f7c07627",
   "metadata": {},
   "source": [
    "# 88. Merge Sorted Array"
   ]
  },
  {
   "cell_type": "code",
   "execution_count": 3,
   "id": "bc4e4325",
   "metadata": {},
   "outputs": [
    {
     "name": "stdout",
     "output_type": "stream",
     "text": [
      "[1, 2, 2, 3, 5, 6]\n"
     ]
    }
   ],
   "source": [
    "\n",
    "\n",
    "nums1=[1,2,3,0,0,0]\n",
    "nums2=[2,5,6]\n",
    "\n",
    "n=nums1+nums2\n",
    "n.sort()\n",
    "for i in sorted(n):\n",
    "#     if i==0:\n",
    "#         n.remove(i)\n",
    "    if 0 in n:\n",
    "        n.remove(0)\n",
    "print(n)"
   ]
  },
  {
   "cell_type": "code",
   "execution_count": 6,
   "id": "3879411a",
   "metadata": {},
   "outputs": [
    {
     "name": "stdout",
     "output_type": "stream",
     "text": [
      "[0, 1, 2, 2, 3, 5, 6]\n"
     ]
    }
   ],
   "source": [
    "nums1=[1,2,3,0,0,0]\n",
    "nums2=[2,5,6]\n",
    "\n",
    "n=nums1+nums2\n",
    "n.sort()\n",
    "for i in n:\n",
    "    if i==0:\n",
    "        n.remove(i)  # still one 0 is remaianing\n",
    "print(n)"
   ]
  },
  {
   "cell_type": "code",
   "execution_count": 7,
   "id": "0387f38e",
   "metadata": {},
   "outputs": [
    {
     "data": {
      "text/plain": [
       "[0, 0, 1, 1, 2, 2]"
      ]
     },
     "execution_count": 7,
     "metadata": {},
     "output_type": "execute_result"
    }
   ],
   "source": [
    "# Input: arr[] = [0, 1, 2, 0, 1, 2]\n",
    "# Output: [0, 0, 1, 1, 2, 2]\n",
    "\n",
    "def sort012(arr):\n",
    "    count0 = 0\n",
    "    count1 = 0\n",
    "    count2 = 0\n",
    "    \n",
    "    for i in range(len(arr)-1):\n",
    "        if arr[i] == 0:\n",
    "            count0 += 1\n",
    "        elif arr[i] == 1:\n",
    "            count1 += 1\n",
    "        elif arr[i] == 2:\n",
    "            count2 += 1\n",
    "    \n",
    "    index = 0\n",
    "    for _ in range(count0):\n",
    "        arr[index] = 0\n",
    "        index+=1\n",
    "    for _ in range(count1):\n",
    "        arr[index] = 1\n",
    "        index += 1\n",
    "    for _ in range(count2):\n",
    "        arr[index] =2\n",
    "        index += 1\n",
    "        \n",
    "    return arr\n",
    "arr= [0, 1, 2, 0, 1, 2]\n",
    "sort012(arr)   \n",
    "    "
   ]
  },
  {
   "cell_type": "code",
   "execution_count": 7,
   "id": "f41a6d4c",
   "metadata": {},
   "outputs": [
    {
     "data": {
      "text/plain": [
       "[0, 0, 1, 1, 2, 2]"
      ]
     },
     "execution_count": 7,
     "metadata": {},
     "output_type": "execute_result"
    }
   ],
   "source": [
    "# Dutch National Flag Algorithm\n",
    "\n",
    "def sort012(arr):\n",
    "    low, mid, high = 0, 0, len(arr)-1\n",
    "    \n",
    "    # Traverse The array\n",
    "    \n",
    "    while mid <= high:\n",
    "        if arr[mid] == 0:\n",
    "            # Swap arr[low] and arr[mid], increment low and mid\n",
    "            arr[low], arr[mid] = arr[mid], arr[low]\n",
    "            \n",
    "            low += 1\n",
    "            mid += 1\n",
    "        elif arr[mid] == 1:\n",
    "            # Move mid pointer\n",
    "            mid+=1\n",
    "        else:\n",
    "            # Swap arr[mid] and arr[high], decrement high\n",
    "            arr[mid], arr[high] = arr[high], arr[mid]\n",
    "        \n",
    "            high-=1\n",
    "    return arr\n",
    "    \n",
    "arr= [0, 1, 2, 0, 1, 2]\n",
    "sort012(arr)"
   ]
  },
  {
   "cell_type": "markdown",
   "id": "4174cf23",
   "metadata": {},
   "source": [
    "# Find Maximum Subarray(Kadane's Algorithm)"
   ]
  },
  {
   "cell_type": "code",
   "execution_count": 21,
   "id": "d8a2a800",
   "metadata": {},
   "outputs": [
    {
     "name": "stdout",
     "output_type": "stream",
     "text": [
      "15\n"
     ]
    }
   ],
   "source": [
    "def max_subarray(nums):\n",
    "    current_sum = max_sum = nums[0]\n",
    "    for num in nums[1:]:\n",
    "        current_sum = max(num, current_sum + num)\n",
    "        max_sum = max(max_sum, current_sum)\n",
    "    return max_sum\n",
    "\n",
    "nums = [2, 1, 4, 3, 5]\n",
    "print(max_subarray(nums))"
   ]
  },
  {
   "cell_type": "code",
   "execution_count": 23,
   "id": "e9635066",
   "metadata": {},
   "outputs": [
    {
     "name": "stdout",
     "output_type": "stream",
     "text": [
      "15\n"
     ]
    }
   ],
   "source": [
    "def list_sum(nums):\n",
    "    sum = 0\n",
    "    for i in nums:\n",
    "         sum += i\n",
    "    return sum\n",
    "nums = [2, 1, 4, 3, 5]\n",
    "print(list_sum(nums))"
   ]
  },
  {
   "cell_type": "markdown",
   "id": "90451507",
   "metadata": {},
   "source": [
    "# TWO POINTERS"
   ]
  },
  {
   "cell_type": "code",
   "execution_count": 12,
   "id": "4aa4669e",
   "metadata": {},
   "outputs": [
    {
     "data": {
      "text/plain": [
       "[6, 5, 4, 3, 2, 1]"
      ]
     },
     "execution_count": 12,
     "metadata": {},
     "output_type": "execute_result"
    }
   ],
   "source": [
    "def reverseArray(arr):\n",
    "        i = 0\n",
    "        j = len(arr)-1\n",
    "        mid = len(arr)//2\n",
    "        while i < mid:\n",
    "            arr[i], arr[j] = arr[j], arr[i]\n",
    "            i+=1\n",
    "            j-=1\n",
    "        return arr\n",
    "            \n",
    "arr = [1, 4, 3, 2, 6, 5]\n",
    "\n",
    "arr = [1,2,3,4,5,6]\n",
    "reverseArray(arr)"
   ]
  },
  {
   "cell_type": "code",
   "execution_count": 25,
   "id": "fd899cd3",
   "metadata": {},
   "outputs": [
    {
     "name": "stdout",
     "output_type": "stream",
     "text": [
      "[1, 2, 2, 3, 5, 6]\n"
     ]
    }
   ],
   "source": [
    "class Solution(object):\n",
    "    def merge(nums1, m, nums2, n):\n",
    "        i = m - 1\n",
    "        j = n - 1\n",
    "        k = m + n - 1\n",
    "        \n",
    "        while j >= 0:\n",
    "            if i >= 0 and nums1[i] > nums2[j]:\n",
    "                nums1[k] = nums1[i]\n",
    "                i -= 1\n",
    "            else:\n",
    "                nums1[k] = nums2[j]\n",
    "                j -= 1\n",
    "            k -= 1\n",
    "        print(nums1)\n",
    "    \n",
    "    merge([1,2,3,0,0,0],3,[2,5,6],3)"
   ]
  },
  {
   "cell_type": "markdown",
   "id": "90a88931",
   "metadata": {},
   "source": [
    "# 27. Remove Element"
   ]
  },
  {
   "cell_type": "code",
   "execution_count": 5,
   "id": "2caf93ec",
   "metadata": {},
   "outputs": [
    {
     "name": "stdout",
     "output_type": "stream",
     "text": [
      "[0, 1, 3, 0, 4]\n"
     ]
    }
   ],
   "source": [
    "nums=[0,1,2,2,3,0,4,2]\n",
    "val = 2\n",
    "        \n",
    "i = []\n",
    "for num in nums:\n",
    "    if num != val:\n",
    "        i.append(num)\n",
    "print(i)\n",
    "       "
   ]
  },
  {
   "cell_type": "code",
   "execution_count": 1,
   "id": "c794c90c",
   "metadata": {},
   "outputs": [
    {
     "name": "stdout",
     "output_type": "stream",
     "text": [
      "[0, 1, 3, 0, 4]\n"
     ]
    }
   ],
   "source": [
    "nums=[0,1,2,2,3,0,4,2]\n",
    "val = 2\n",
    "i=0\n",
    "while i < len(nums):\n",
    "    if (nums[i] == val):\n",
    "        nums.pop(i)\n",
    "    else:\n",
    "        i+=1\n",
    "print(nums)"
   ]
  },
  {
   "cell_type": "code",
   "execution_count": 2,
   "id": "1eb8e581",
   "metadata": {},
   "outputs": [
    {
     "name": "stdout",
     "output_type": "stream",
     "text": [
      "[0, 1, 3, 0, 4]\n"
     ]
    }
   ],
   "source": [
    "nums=[0,1,2,2,3,0,4,2]\n",
    "val = 2\n",
    "counter = nums.count(val)\n",
    "i = 0\n",
    "if counter != 0:\n",
    "    while i < counter:\n",
    "        nums.remove(val)\n",
    "        i += 1\n",
    "print(nums)"
   ]
  },
  {
   "cell_type": "markdown",
   "id": "b7fd1fa5",
   "metadata": {},
   "source": [
    "# Rotate Array"
   ]
  },
  {
   "cell_type": "code",
   "execution_count": 34,
   "id": "5bd0c389",
   "metadata": {},
   "outputs": [
    {
     "data": {
      "text/plain": [
       "[3, 4, 5, 1, 2]"
      ]
     },
     "execution_count": 34,
     "metadata": {},
     "output_type": "execute_result"
    }
   ],
   "source": [
    "from collections import deque\n",
    "\n",
    "def rotate_arr(arr, d):\n",
    "    \n",
    "    n = len(arr)\n",
    "    d = d % n\n",
    "    # Convert array to deque\n",
    "    dq = deque(arr)\n",
    "    # Rotate the deque to the left by d steps (negative rotation)\n",
    "    dq.rotate(-d)\n",
    "    \n",
    "    # Convert deque back to list and modify the original array in place\n",
    "    arr[:] = list(dq)\n",
    "    return arr\n",
    "    \n",
    "arr = [1, 2, 3, 4, 5]\n",
    "d = 2\n",
    "rotate_arr(arr, d)\n"
   ]
  },
  {
   "cell_type": "code",
   "execution_count": 14,
   "id": "d948b84f",
   "metadata": {},
   "outputs": [
    {
     "data": {
      "text/plain": [
       "[3, 4, 5, 1, 2]"
      ]
     },
     "execution_count": 14,
     "metadata": {},
     "output_type": "execute_result"
    }
   ],
   "source": [
    "# Rotate Array\n",
    "\n",
    "def rotateArr(arr, d):\n",
    "        count = 0\n",
    "        while count < d:\n",
    "            arr.append(arr[0])\n",
    "            a = arr.remove(arr[0])\n",
    "            count+=1\n",
    "        \n",
    "        return arr\n",
    "    \n",
    "arr = [1, 2, 3, 4, 5]\n",
    "d = 2\n",
    "\n",
    "rotateArr(arr, d)"
   ]
  },
  {
   "cell_type": "code",
   "execution_count": 35,
   "id": "65e400ff",
   "metadata": {},
   "outputs": [
    {
     "name": "stdout",
     "output_type": "stream",
     "text": [
      "[3, 4, 5, 1, 2]\n"
     ]
    }
   ],
   "source": [
    "def rotate_array(arr, d):\n",
    "    n = len(arr)\n",
    "    d = d % n  # Handle cases where d >= n\n",
    "\n",
    "    def reverse(start, end):\n",
    "        \"\"\"Helper function to reverse elements in the array from index start to end.\"\"\"\n",
    "        while start < end:\n",
    "            arr[start], arr[end] = arr[end], arr[start]\n",
    "            start += 1\n",
    "            end -= 1\n",
    "\n",
    "    # Step 1: Reverse the first d elements\n",
    "    reverse(0, d - 1)\n",
    "\n",
    "    # Step 2: Reverse the last n - d elements\n",
    "    reverse(d, n - 1)\n",
    "\n",
    "    # Step 3: Reverse the entire array\n",
    "    reverse(0, n - 1)\n",
    "\n",
    "# Example usage\n",
    "arr = [1, 2, 3, 4, 5]\n",
    "d = 2\n",
    "rotate_array(arr, d)\n",
    "print(arr)  # Output: [3, 4, 5, 1, 2]\n"
   ]
  },
  {
   "cell_type": "code",
   "execution_count": 16,
   "id": "c639960c",
   "metadata": {},
   "outputs": [
    {
     "data": {
      "text/plain": [
       "[3, 4, 5, 1, 2]"
      ]
     },
     "execution_count": 16,
     "metadata": {},
     "output_type": "execute_result"
    }
   ],
   "source": [
    "# Rotate Array\n",
    "\n",
    "def rotateArr(arr, d):\n",
    "        temp = []\n",
    "        temp = arr[d:] + arr[:d]\n",
    "        return temp\n",
    "    \n",
    "arr = [1, 2, 3, 4, 5]\n",
    "d = 2\n",
    "\n",
    "rotateArr(arr, d)"
   ]
  },
  {
   "cell_type": "markdown",
   "id": "bd49412e",
   "metadata": {},
   "source": [
    "# Anagram check\n"
   ]
  },
  {
   "cell_type": "code",
   "execution_count": 3,
   "id": "17ede5c9",
   "metadata": {},
   "outputs": [
    {
     "name": "stdout",
     "output_type": "stream",
     "text": [
      "True\n"
     ]
    }
   ],
   "source": [
    "# write a function that checks wheteher two strings are anagrams\n",
    "def are_anagrams(s1, s2):\n",
    "    return sorted(s1) == sorted(s2)\n",
    "\n",
    "print(are_anagrams(\"listen\", \"silent\"))\n"
   ]
  },
  {
   "cell_type": "code",
   "execution_count": 9,
   "id": "3948827e",
   "metadata": {},
   "outputs": [
    {
     "data": {
      "text/plain": [
       "0"
      ]
     },
     "execution_count": 9,
     "metadata": {},
     "output_type": "execute_result"
    }
   ],
   "source": [
    "from collections import Counter\n",
    "def canFormPalindrome(S):\n",
    "    # Count the frequency of each character\n",
    "    freq = Counter(S)\n",
    "    \n",
    "    # Initialize odd frequency counter\n",
    "    odd_count = 0\n",
    "    \n",
    "    # Count odd frequencies using a for loop\n",
    "    for count in freq.values():\n",
    "        if count % 2 != 0:\n",
    "            odd_count += 1\n",
    "    \n",
    "    # A string can form a palindrome if at most one character has an odd frequency\n",
    "     \n",
    "    if odd_count <= 1:\n",
    "        return 1\n",
    "    else:\n",
    "        return 0\n",
    "\n",
    "S = \"geeksforgeeks\"\n",
    "canFormPalindrome(S)"
   ]
  },
  {
   "cell_type": "code",
   "execution_count": 8,
   "id": "89bbe5c8",
   "metadata": {},
   "outputs": [
    {
     "data": {
      "text/plain": [
       "1"
      ]
     },
     "execution_count": 8,
     "metadata": {},
     "output_type": "execute_result"
    }
   ],
   "source": [
    "\n",
    "# Example Usage\n",
    "S = \"geeksogeeks\"\n",
    "canFormPalindrome(S)\n",
    "# print(\"Yes\" if result == 1 else \"No\")  # Output: Yes\n"
   ]
  },
  {
   "cell_type": "markdown",
   "id": "9d142892",
   "metadata": {},
   "source": [
    "# Find the maximum Element in alist"
   ]
  },
  {
   "cell_type": "code",
   "execution_count": 11,
   "id": "ac40f517",
   "metadata": {},
   "outputs": [
    {
     "name": "stdout",
     "output_type": "stream",
     "text": [
      "50\n"
     ]
    }
   ],
   "source": [
    "def find_max(lst):\n",
    "    max_val = lst[0]\n",
    "    for num in lst[1:]:\n",
    "        if num > max_val:\n",
    "            max_val = num\n",
    "    return max_val\n",
    "\n",
    "# Test\n",
    "print(find_max([10, 50, 30, 40]))"
   ]
  },
  {
   "cell_type": "code",
   "execution_count": null,
   "id": "7ed7db54",
   "metadata": {},
   "outputs": [],
   "source": [
    "# Find Duplicates in a list"
   ]
  },
  {
   "cell_type": "code",
   "execution_count": 19,
   "id": "78c8d670",
   "metadata": {},
   "outputs": [
    {
     "name": "stdout",
     "output_type": "stream",
     "text": [
      "[2, 3]\n"
     ]
    }
   ],
   "source": [
    "def find_duplicates(lst):\n",
    "    seen = set()\n",
    "    duplicates = set()\n",
    "    for num in lst:\n",
    "        if num in seen:\n",
    "            duplicates.add(num)\n",
    "        else:\n",
    "            seen.add(num)\n",
    "    return list(duplicates)\n",
    "\n",
    "\n",
    "print(find_duplicates([1, 2, 3, 4, 2, 5, 6, 3]))"
   ]
  },
  {
   "cell_type": "code",
   "execution_count": null,
   "id": "18688deb",
   "metadata": {},
   "outputs": [],
   "source": []
  },
  {
   "cell_type": "code",
   "execution_count": null,
   "id": "8b1798d1",
   "metadata": {},
   "outputs": [],
   "source": []
  },
  {
   "cell_type": "code",
   "execution_count": 1,
   "id": "0365ee92",
   "metadata": {},
   "outputs": [
    {
     "name": "stdout",
     "output_type": "stream",
     "text": [
      "s\n",
      "3\n"
     ]
    },
    {
     "ename": "KeyError",
     "evalue": "'s'",
     "output_type": "error",
     "traceback": [
      "\u001b[1;31m---------------------------------------------------------------------------\u001b[0m",
      "\u001b[1;31mKeyError\u001b[0m                                  Traceback (most recent call last)",
      "\u001b[1;32m~\\AppData\\Local\\Temp/ipykernel_8712/1860883402.py\u001b[0m in \u001b[0;36m<module>\u001b[1;34m\u001b[0m\n\u001b[0;32m     12\u001b[0m \u001b[1;33m\u001b[0m\u001b[0m\n\u001b[0;32m     13\u001b[0m \u001b[1;32mif\u001b[0m \u001b[0m__name__\u001b[0m \u001b[1;33m==\u001b[0m \u001b[1;34m\"__main__\"\u001b[0m\u001b[1;33m:\u001b[0m\u001b[1;33m\u001b[0m\u001b[1;33m\u001b[0m\u001b[0m\n\u001b[1;32m---> 14\u001b[1;33m     \u001b[0mmain\u001b[0m\u001b[1;33m(\u001b[0m\u001b[1;33m)\u001b[0m\u001b[1;33m\u001b[0m\u001b[1;33m\u001b[0m\u001b[0m\n\u001b[0m",
      "\u001b[1;32m~\\AppData\\Local\\Temp/ipykernel_8712/1860883402.py\u001b[0m in \u001b[0;36mmain\u001b[1;34m()\u001b[0m\n\u001b[0;32m      7\u001b[0m     \u001b[0mans\u001b[0m \u001b[1;33m=\u001b[0m \u001b[1;36m0\u001b[0m\u001b[1;33m\u001b[0m\u001b[1;33m\u001b[0m\u001b[0m\n\u001b[0;32m      8\u001b[0m \u001b[1;33m\u001b[0m\u001b[0m\n\u001b[1;32m----> 9\u001b[1;33m     \u001b[1;32mif\u001b[0m \u001b[0ma\u001b[0m\u001b[1;33m-\u001b[0m\u001b[0mm\u001b[0m\u001b[1;33m[\u001b[0m\u001b[0ms\u001b[0m\u001b[1;33m[\u001b[0m\u001b[1;33m:\u001b[0m\u001b[1;36m3\u001b[0m\u001b[1;33m]\u001b[0m\u001b[1;33m]\u001b[0m \u001b[1;33m>=\u001b[0m \u001b[1;36m1\u001b[0m\u001b[1;33m:\u001b[0m\u001b[1;33m\u001b[0m\u001b[1;33m\u001b[0m\u001b[0m\n\u001b[0m\u001b[0;32m     10\u001b[0m         \u001b[0mans\u001b[0m \u001b[1;33m=\u001b[0m \u001b[1;36m1\u001b[0m \u001b[1;33m+\u001b[0m \u001b[1;33m(\u001b[0m\u001b[0ma\u001b[0m \u001b[1;33m-\u001b[0m \u001b[0mm\u001b[0m\u001b[1;33m[\u001b[0m\u001b[0ms\u001b[0m\u001b[1;33m[\u001b[0m\u001b[1;33m:\u001b[0m\u001b[1;36m3\u001b[0m\u001b[1;33m]\u001b[0m\u001b[1;33m]\u001b[0m\u001b[1;33m)\u001b[0m\u001b[1;33m//\u001b[0m\u001b[1;36m7\u001b[0m\u001b[1;33m\u001b[0m\u001b[1;33m\u001b[0m\u001b[0m\n\u001b[0;32m     11\u001b[0m     \u001b[0mprint\u001b[0m\u001b[1;33m(\u001b[0m\u001b[0mans\u001b[0m\u001b[1;33m)\u001b[0m\u001b[1;33m\u001b[0m\u001b[1;33m\u001b[0m\u001b[0m\n",
      "\u001b[1;31mKeyError\u001b[0m: 's'"
     ]
    }
   ],
   "source": [
    "def main():\n",
    "    s = input()\n",
    "    a = int(input())\n",
    "    m = {\n",
    "        \"mon\":6,\"tue\":5,\"wed\":4,\"thu\":3,\"fri\":2,\"sat\":1,\"sun\":0\n",
    "    }\n",
    "    ans = 0\n",
    "    \n",
    "    if a-m[s[:3]] >= 1:\n",
    "        ans = 1 + (a - m[s[:3]])//7\n",
    "    print(ans)\n",
    "    \n",
    "if __name__ == \"__main__\":\n",
    "    main()"
   ]
  },
  {
   "cell_type": "code",
   "execution_count": null,
   "id": "6212f186",
   "metadata": {},
   "outputs": [],
   "source": []
  },
  {
   "cell_type": "code",
   "execution_count": null,
   "id": "c20a7af8",
   "metadata": {},
   "outputs": [],
   "source": []
  },
  {
   "cell_type": "code",
   "execution_count": null,
   "id": "7c384c7e",
   "metadata": {},
   "outputs": [],
   "source": []
  },
  {
   "cell_type": "code",
   "execution_count": 6,
   "id": "d8cb6415",
   "metadata": {},
   "outputs": [
    {
     "name": "stdout",
     "output_type": "stream",
     "text": [
      "I Y M a M a D N C I T I C a M "
     ]
    }
   ],
   "source": [
    "#print first letter of each word in string\n",
    "\n",
    "s = \"If You Make a Mistake and Do Not Correct It, This Is Called a Mistake\"\n",
    "\n",
    "ans = s.split()\n",
    "\n",
    "for i in range(len(ans)):\n",
    "    print(ans[i][0],end=\" \")"
   ]
  },
  {
   "cell_type": "code",
   "execution_count": 9,
   "id": "be38ce5d",
   "metadata": {},
   "outputs": [
    {
     "name": "stdout",
     "output_type": "stream",
     "text": [
      "The Strongest Principle Of Growth Lies In Human Choice "
     ]
    }
   ],
   "source": [
    "l = \"the strongest principle of growth lies in human choice\"\n",
    "\n",
    "lsl = l.split()\n",
    "for i in lsl:\n",
    "    print(i.capitalize(),end=\" \")"
   ]
  },
  {
   "cell_type": "code",
   "execution_count": 10,
   "id": "db05a4e2",
   "metadata": {},
   "outputs": [
    {
     "data": {
      "text/plain": [
       "'The Strongest Principle Of Growth Lies In Human Choice'"
      ]
     },
     "execution_count": 10,
     "metadata": {},
     "output_type": "execute_result"
    }
   ],
   "source": [
    "sentence = \"the strongest principle of growth lies in human choice\"\n",
    "sentence.title()"
   ]
  },
  {
   "cell_type": "code",
   "execution_count": 11,
   "id": "75e57b2f",
   "metadata": {},
   "outputs": [
    {
     "name": "stdout",
     "output_type": "stream",
     "text": [
      "sAiraj\n",
      "JaDhAv\n",
      "{'a', 'j'}\n",
      "{'a', 'j'}\n"
     ]
    }
   ],
   "source": [
    "# find the coomon letters in string \n",
    "\n",
    "A = input()\n",
    "B = input()\n",
    "\n",
    "let_a = A.lower()\n",
    "let_b = B.lower()\n",
    "\n",
    "y = set(let_a) & set(let_b)\n",
    "print(y)\n",
    "\n",
    "res = set(let_a).intersection(let_b)\n",
    "print(res)"
   ]
  },
  {
   "cell_type": "code",
   "execution_count": 12,
   "id": "9d472908",
   "metadata": {},
   "outputs": [
    {
     "name": "stdout",
     "output_type": "stream",
     "text": [
      "['a', 'd', 'h', 'i', 'j', 'r', 's', 'v']\n"
     ]
    }
   ],
   "source": [
    "x = sorted(set(let_a) | set(let_b))\n",
    "print(x)"
   ]
  },
  {
   "cell_type": "code",
   "execution_count": null,
   "id": "b956a5e4",
   "metadata": {},
   "outputs": [],
   "source": [
    "#Leetcode 3. Longest Substring Without Repeating Characters\n",
    "\"\"\"\n",
    "Example 1:\n",
    "\n",
    "Input: s = \"abcabcbb\"\n",
    "Output: 3\n",
    "Explanation: The answer is \"abc\", with the length of 3.\n",
    "Example 2:\n",
    "\n",
    "Input: s = \"bbbbb\"\n",
    "Output: 1\n",
    "Explanation: The answer is \"b\", with the length of 1.\n",
    "Example 3:\n",
    "\n",
    "Input: s = \"pwwkew\"\n",
    "Output: 3\n",
    "Explanation: The answer is \"wke\", with the length of 3.\n",
    "Notice that the answer must be a substring, \"pwke\" is a subsequence and not a substring.\n",
    "\n",
    "\"\"\""
   ]
  },
  {
   "cell_type": "code",
   "execution_count": 28,
   "id": "b252c19c",
   "metadata": {},
   "outputs": [
    {
     "name": "stdout",
     "output_type": "stream",
     "text": [
      "3\n"
     ]
    }
   ],
   "source": [
    "class Solution:\n",
    "    def lengthOfLongestSubstring(self,s):\n",
    "        char_map = {}\n",
    "        left = 0\n",
    "        max_length = 0\n",
    "\n",
    "        for i in range(len(s)):\n",
    "            if s[i] in char_map and char_map[s[i]] >= left:\n",
    "                left = char_map[s[i]] + 1\n",
    "\n",
    "            char_map[s[i]] = i\n",
    "            max_length = max(max_length, i - left + 1)\n",
    "        print(max_length)\n",
    "\n",
    "    lengthOfLongestSubstring(1,\"pwwkew\")\n",
    "   "
   ]
  },
  {
   "cell_type": "code",
   "execution_count": 30,
   "id": "ce9a170e",
   "metadata": {
    "collapsed": true
   },
   "outputs": [
    {
     "data": {
      "text/plain": [
       "'\\nInput: l1 = [2,4,3], l2 = [5,6,4]\\nOutput: [7,0,8]\\nExplanation: 342 + 465 = 807.\\nExample 2:\\n\\nInput: l1 = [0], l2 = [0]\\nOutput: [0]\\nExample 3:\\n\\nInput: l1 = [9,9,9,9,9,9,9], l2 = [9,9,9,9]\\nOutput: [8,9,9,9,0,0,0,1]\\n\\n'"
      ]
     },
     "execution_count": 30,
     "metadata": {},
     "output_type": "execute_result"
    }
   ],
   "source": [
    "#Leetcode 2. Add Two Numbers\n",
    "\n",
    "\"\"\"\n",
    "Input: l1 = [2,4,3], l2 = [5,6,4]\n",
    "Output: [7,0,8]\n",
    "Explanation: 342 + 465 = 807.\n",
    "Example 2:\n",
    "\n",
    "Input: l1 = [0], l2 = [0]\n",
    "Output: [0]\n",
    "Example 3:\n",
    "\n",
    "Input: l1 = [9,9,9,9,9,9,9], l2 = [9,9,9,9]\n",
    "Output: [8,9,9,9,0,0,0,1]\n",
    "\n",
    "\"\"\""
   ]
  },
  {
   "cell_type": "code",
   "execution_count": 2,
   "id": "fabdb983",
   "metadata": {},
   "outputs": [],
   "source": [
    "L1 = [2,4,3]\n",
    "L2 =[5,6,4]\n"
   ]
  },
  {
   "cell_type": "raw",
   "id": "1fe9de24",
   "metadata": {},
   "source": [
    "Input: arr[] = [1,2,3,7,5], target = 12\n",
    "Output: [2, 4]\n",
    "Explanation: The sum of elements from 2nd to 4th position is 12.\n",
    "Input: arr[] = [1,2,3,4,5,6,7,8,9,10], target = 15,\n",
    "Output: [1, 5]\n",
    "Explanation: The sum of elements from 1st to 5th position is 15.\n",
    "Input: arr[] = [7,2,1], target = 2\n",
    "Output: [2, 2]\n",
    "Explanation: The sum of elements from 2nd to 2nd position is 2.\n",
    "\n",
    "# Return 1-based index"
   ]
  },
  {
   "cell_type": "code",
   "execution_count": null,
   "id": "39bedbed",
   "metadata": {},
   "outputs": [],
   "source": [
    "def subArraySum(arr, target):\n",
    "    i = 0\n",
    "    j = len(arr)\n",
    "    \n",
    "    while i <= len(arr)-1:\n",
    "        if target < sum(range(i,j+1)):\n",
    "            return -1\n",
    "        elif target > sum(range(i,j+1)):\n",
    "            \n",
    "            "
   ]
  },
  {
   "cell_type": "code",
   "execution_count": null,
   "id": "962f4175",
   "metadata": {},
   "outputs": [],
   "source": []
  },
  {
   "cell_type": "code",
   "execution_count": null,
   "id": "e0c66e99",
   "metadata": {},
   "outputs": [],
   "source": []
  },
  {
   "cell_type": "markdown",
   "id": "fc29e598",
   "metadata": {},
   "source": [
    "# LIST "
   ]
  },
  {
   "cell_type": "code",
   "execution_count": 13,
   "id": "a38bf474",
   "metadata": {},
   "outputs": [
    {
     "name": "stdout",
     "output_type": "stream",
     "text": [
      "[3, 4]\n"
     ]
    }
   ],
   "source": [
    "# Find the intersection of two lists\n",
    "\n",
    "def list_intersection(lst1, lst2):\n",
    "    return list(set(lst1) & set(lst2))\n",
    "\n",
    "print(list_intersection([1, 2, 3, 4], [3, 4, 5, 6]))"
   ]
  },
  {
   "cell_type": "markdown",
   "id": "7494696b",
   "metadata": {},
   "source": [
    "# my_list.insert(index, item)\n",
    "\n",
    "\n",
    "my_list.insert(0, 1) inserts the value 1 at the 0th index of my_list."
   ]
  },
  {
   "cell_type": "markdown",
   "id": "3c4ef4c3",
   "metadata": {},
   "source": [
    "# Merge Two Sorted Lists"
   ]
  },
  {
   "cell_type": "code",
   "execution_count": 14,
   "id": "25cdc98c",
   "metadata": {},
   "outputs": [
    {
     "name": "stdout",
     "output_type": "stream",
     "text": [
      "[1, 2, 3, 4, 5, 6]\n"
     ]
    }
   ],
   "source": [
    "# Merge two sorted lists\n",
    "\n",
    "def merge_sorted_lists(lst1, lst2):\n",
    "    result = []\n",
    "    i,j = 0,0\n",
    "    \n",
    "    # Merge the lists while both have elements\n",
    "    while i < len(lst1) and j < len(lst2):\n",
    "        if lst1[i] < lst2[j]:\n",
    "            result.append(lst1[i])\n",
    "            i += 1\n",
    "        else:\n",
    "            result.append(lst2[j])\n",
    "            j += 1\n",
    "            \n",
    "    # Append remaining elements\n",
    "    result.extend(lst1[i:]) # result += lst1[i:]\n",
    "    result.extend(lst2[j:]) # result += lst2[j:]\n",
    "    \n",
    "    return result\n",
    "\n",
    "print(merge_sorted_lists([1, 3, 5], [2, 4, 6]))"
   ]
  },
  {
   "cell_type": "code",
   "execution_count": 40,
   "id": "ac191a25",
   "metadata": {},
   "outputs": [
    {
     "name": "stdout",
     "output_type": "stream",
     "text": [
      "1 -> 2 -> 3 -> 4 -> 5 -> 6 -> None\n"
     ]
    }
   ],
   "source": [
    "class ListNode:\n",
    "    def __init__(self, val=0, next=None):\n",
    "        self.val = val\n",
    "        self.next = next\n",
    "    \n",
    "    def merge_two_lists(l1, l2):\n",
    "        dummy = ListNode()\n",
    "        current = dummy\n",
    "        while l1 and l2:\n",
    "            if l1.val < l2.val:\n",
    "                current.next = l1\n",
    "                l1 = l1.next\n",
    "            else:\n",
    "                current.next = l2\n",
    "                l2 = l2.next\n",
    "            current = current.next\n",
    "        current.next = l1 if l1 else l2\n",
    "        return dummy.next\n",
    "    \n",
    "    # helper fncton to create a linked list from a list of values\n",
    "    @staticmethod\n",
    "    def create_linked_list(values):\n",
    "        if not values:\n",
    "            return None\n",
    "        head = ListNode(values[0])\n",
    "        current = head\n",
    "        for val in values[1:]:\n",
    "            current.next = ListNode(val)\n",
    "            current = current.next\n",
    "        return head\n",
    "    \n",
    "    # Helper function to print linked list\n",
    "    @staticmethod\n",
    "    def print_linked_list(node):\n",
    "        while node:\n",
    "            print(node.val, end=\" -> \")\n",
    "            node = node.next\n",
    "        print(\"None\")\n",
    "        \n",
    "# Create two linked lists from the lists\n",
    "l1 = ListNode.create_linked_list([1, 3, 5])\n",
    "l2 = ListNode.create_linked_list([2, 4, 6])\n",
    "\n",
    "merged_list = ListNode.merge_two_lists(l1,l2)\n",
    "\n",
    "ListNode.print_linked_list(merged_list)\n",
    "    "
   ]
  },
  {
   "cell_type": "raw",
   "id": "4283a147",
   "metadata": {},
   "source": [
    "@staticmethod decorator: Added the @staticmethod decorator to create_linked_list and print_linked_list to indicate that these methods don't require access to the instance (i.e., they are utility functions)."
   ]
  },
  {
   "cell_type": "code",
   "execution_count": null,
   "id": "de2d860f",
   "metadata": {},
   "outputs": [],
   "source": []
  },
  {
   "cell_type": "code",
   "execution_count": null,
   "id": "55821f1e",
   "metadata": {},
   "outputs": [],
   "source": [
    " "
   ]
  },
  {
   "cell_type": "code",
   "execution_count": 26,
   "id": "b395bb29",
   "metadata": {},
   "outputs": [
    {
     "name": "stdout",
     "output_type": "stream",
     "text": [
      "True\n"
     ]
    }
   ],
   "source": [
    "from typing import List\n",
    "\n",
    "\n",
    "def isPairSum(A: List[int], N: int, X: int) -> bool: \n",
    "\t# represents first pointer \n",
    "\ti = 0\n",
    "\n",
    "\t# represents second pointer \n",
    "\tj = N - 1\n",
    "\n",
    "\twhile i < j: \n",
    "\t\t# If we find a pair \n",
    "\t\tif A[i] + A[j] == X: \n",
    "\t\t\treturn True\n",
    "\n",
    "\t\t# If sum of elements at current \n",
    "\t\t# pointers is less, we move towards \n",
    "\t\t# higher values by doing i++ \n",
    "\t\telif A[i] + A[j] < X: \n",
    "\t\t\ti += 1\n",
    "\n",
    "\t\t# If sum of elements at current \n",
    "\t\t# pointers is more, we move towards \n",
    "\t\t# lower values by doing j-- \n",
    "\t\telse: \n",
    "\t\t\tj -= 1\n",
    "\n",
    "\treturn False\n",
    "\n",
    "\n",
    "# Driver code \n",
    "if __name__ == \"__main__\": \n",
    "\t# array declaration \n",
    "\tarr = [2, 3, 5, 8, 9, 10, 11] \n",
    "\n",
    "\t# value to search \n",
    "\tval = 17\n",
    "\n",
    "\t# size of the array \n",
    "\tarrSize = len(arr) \n",
    "\n",
    "\t# array should be sorted before using the two-pointer technique \n",
    "\tarr.sort() \n",
    "\n",
    "\t# Function call \n",
    "\tprint(isPairSum(arr, arrSize, val)) \n"
   ]
  },
  {
   "cell_type": "code",
   "execution_count": null,
   "id": "55ca11e1",
   "metadata": {},
   "outputs": [],
   "source": []
  },
  {
   "cell_type": "code",
   "execution_count": null,
   "id": "20dd57d1",
   "metadata": {},
   "outputs": [],
   "source": []
  }
 ],
 "metadata": {
  "kernelspec": {
   "display_name": "Python 3 (ipykernel)",
   "language": "python",
   "name": "python3"
  },
  "language_info": {
   "codemirror_mode": {
    "name": "ipython",
    "version": 3
   },
   "file_extension": ".py",
   "mimetype": "text/x-python",
   "name": "python",
   "nbconvert_exporter": "python",
   "pygments_lexer": "ipython3",
   "version": "3.9.7"
  }
 },
 "nbformat": 4,
 "nbformat_minor": 5
}
